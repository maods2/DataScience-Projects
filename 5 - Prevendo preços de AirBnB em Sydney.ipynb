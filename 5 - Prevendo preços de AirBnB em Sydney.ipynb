{
 "cells": [
  {
   "cell_type": "markdown",
   "metadata": {},
   "source": [
    "# AirBnB Fair Valuation\n",
    "\n",
    "Bem-vindo ao Airbnb Analysis Corp.! Sua tarefa é definir a **taxa diária de acomodação competitiva** para a casa de um cliente em Bondi Beach. Atualmente, o proprietário cobra US $ 500. Fomos incumbidos de estimar um **valor justo** que o proprietário deveria cobrar. A casa tem as seguintes características e restrições. Ao desenvolver esse modelo, você percebeu que o Airbnb pode usá-lo para estimar o valor justo de qualquer propriedade em seu banco de dados, você está efetivamente criando um modelo de recomendação para todos os possíveis hosts!\n",
    "\n",
    "\n",
    "1. O proprietário é anfitrião desde **agosto de 2010**\n",
    "1. O local é **lon: 151.274506, lat: 33.889087**\n",
    "1. A classificação atual da pontuação da revisão **95,0**\n",
    "1. Número de avaliações **53**\n",
    "1. Noites mínimas **4**\n",
    "1. A casa pode acomodar **10** pessoas.\n",
    "1. O proprietário atualmente cobra uma taxa de limpeza de **370**\n",
    "1. A casa tem **3 banheiros, 5 quartos, 7 camas**.\n",
    "1. A casa está disponível por **255 dos próximos 365dias**\n",
    "1. O cliente é **verificado** e é um superhost **.\n",
    "1. A política de cancelamento é **rigorosa com um período de carência de 14 dias**.\n",
    "1. O host exige um depósito de segurança de **$ 1.500**\n",
    "\n",
    "\n",
    "* Todos os valores se aplicam estritamente ao mês de julho de 2018 *"
   ]
  },
  {
   "cell_type": "code",
   "execution_count": 1,
   "metadata": {},
   "outputs": [],
   "source": [
    "from __future__ import division, print_function, unicode_literals\n",
    "import numpy as np\n",
    "import os\n",
    "import pandas as pd"
   ]
  },
  {
   "cell_type": "markdown",
   "metadata": {},
   "source": [
    "Aqui estamos criando nossa amostra de usuário."
   ]
  },
  {
   "cell_type": "code",
   "execution_count": 2,
   "metadata": {},
   "outputs": [],
   "source": [
    "from dateutil import parser\n",
    "dict_client = {}\n",
    "\n",
    "dict_client[\"city\"] = \"Bondi Beach\"\n",
    "dict_client[\"longitude\"] = 151.274506\n",
    "dict_client[\"latitude\"] = -33.889087\n",
    "dict_client[\"review_scores_rating\"] = 95\n",
    "dict_client[\"number_of_reviews\"] = 53\n",
    "dict_client[\"minimum_nights\"] = 4\n",
    "dict_client[\"accommodates\"] = 10\n",
    "dict_client[\"bathrooms\"] = 3\n",
    "dict_client[\"bedrooms\"] = 5\n",
    "dict_client[\"beds\"] = 7\n",
    "dict_client[\"security_deposit\"] = 1500\n",
    "dict_client[\"cleaning_fee\"] = 370\n",
    "dict_client[\"property_type\"] = \"House\"\n",
    "dict_client[\"room_type\"] = \"Entire home/apt\"\n",
    "dict_client[\"availability_365\"] = 255\n",
    "dict_client[\"host_identity_verified\"] = 't'  ## 1 for yes, 0 for no\n",
    "dict_client[\"host_is_superhost\"] = 't'\n",
    "dict_client[\"cancellation_policy\"] = \"strict_14_with_grace_period\"\n",
    "dict_client[\"host_since\"] = parser.parse(\"01-08-2010\")"
   ]
  },
  {
   "cell_type": "markdown",
   "metadata": {},
   "source": [
    "Importando dataset"
   ]
  },
  {
   "cell_type": "code",
   "execution_count": 3,
   "metadata": {},
   "outputs": [
    {
     "name": "stdout",
     "output_type": "stream",
     "text": [
      "Be patient: loading from github (2 minutes)\n",
      "Done\n"
     ]
    },
    {
     "name": "stderr",
     "output_type": "stream",
     "text": [
      "C:\\Users\\Safira\\AppData\\Roaming\\Python\\Python37\\site-packages\\IPython\\core\\interactiveshell.py:3049: DtypeWarning: Columns (36,54,55) have mixed types. Specify dtype option on import or set low_memory=False.\n",
      "  interactivity=interactivity, compiler=compiler, result=result)\n"
     ]
    }
   ],
   "source": [
    "from pathlib import Path\n",
    "\n",
    "github_p = \"https://raw.githubusercontent.com/Finance-781/FinML/master/Lecture%202%20-%20End-to-End%20ML%20Project%20/Practice/\"\n",
    "\n",
    "my_file = Path(\"datasets/sydney_airbnb.csv\") # Defines path\n",
    "if my_file.is_file():              # See if file exists\n",
    "    print(\"Local file found\")      \n",
    "    df = pd.read_csv('datasets/sydney_airbnb.csv')\n",
    "else:\n",
    "    print(\"Be patient: loading from github (2 minutes)\")\n",
    "    df = pd.read_csv(github_p+'datasets/sydney_airbnb.csv')\n",
    "    print(\"Done\")"
   ]
  },
  {
   "cell_type": "code",
   "execution_count": 4,
   "metadata": {
    "scrolled": false
   },
   "outputs": [
    {
     "data": {
      "text/html": [
       "<div>\n",
       "<style scoped>\n",
       "    .dataframe tbody tr th:only-of-type {\n",
       "        vertical-align: middle;\n",
       "    }\n",
       "\n",
       "    .dataframe tbody tr th {\n",
       "        vertical-align: top;\n",
       "    }\n",
       "\n",
       "    .dataframe thead th {\n",
       "        text-align: right;\n",
       "    }\n",
       "</style>\n",
       "<table border=\"1\" class=\"dataframe\">\n",
       "  <thead>\n",
       "    <tr style=\"text-align: right;\">\n",
       "      <th></th>\n",
       "      <th>id</th>\n",
       "      <th>listing_url</th>\n",
       "      <th>name</th>\n",
       "      <th>summary</th>\n",
       "      <th>space</th>\n",
       "      <th>description</th>\n",
       "      <th>neighborhood_overview</th>\n",
       "      <th>notes</th>\n",
       "      <th>transit</th>\n",
       "      <th>access</th>\n",
       "      <th>...</th>\n",
       "      <th>review_scores_checkin</th>\n",
       "      <th>review_scores_communication</th>\n",
       "      <th>review_scores_location</th>\n",
       "      <th>review_scores_value</th>\n",
       "      <th>instant_bookable</th>\n",
       "      <th>cancellation_policy</th>\n",
       "      <th>require_guest_profile_picture</th>\n",
       "      <th>require_guest_phone_verification</th>\n",
       "      <th>calculated_host_listings_count</th>\n",
       "      <th>reviews_per_month</th>\n",
       "    </tr>\n",
       "  </thead>\n",
       "  <tbody>\n",
       "    <tr>\n",
       "      <th>0</th>\n",
       "      <td>11156</td>\n",
       "      <td>https://www.airbnb.com/rooms/11156</td>\n",
       "      <td>An Oasis in the City</td>\n",
       "      <td>Very central to the city which can be reached ...</td>\n",
       "      <td>Potts Pt. is a vibrant  and popular inner-city...</td>\n",
       "      <td>Very central to the city which can be reached ...</td>\n",
       "      <td>It is very close to everything and everywhere,...</td>\n",
       "      <td>$150.00 key security deposit, refundable on re...</td>\n",
       "      <td>It is 7 minutes walk to the Kings Cross.train ...</td>\n",
       "      <td>Kitchen &amp; laundry facilities.   Shared bathroom.</td>\n",
       "      <td>...</td>\n",
       "      <td>10.0</td>\n",
       "      <td>10.0</td>\n",
       "      <td>10.0</td>\n",
       "      <td>9.0</td>\n",
       "      <td>f</td>\n",
       "      <td>moderate</td>\n",
       "      <td>f</td>\n",
       "      <td>f</td>\n",
       "      <td>1</td>\n",
       "      <td>1.69</td>\n",
       "    </tr>\n",
       "    <tr>\n",
       "      <th>1</th>\n",
       "      <td>12351</td>\n",
       "      <td>https://www.airbnb.com/rooms/12351</td>\n",
       "      <td>Sydney City &amp; Harbour at the door</td>\n",
       "      <td>Come stay with Vinh &amp; Stuart (Awarded as one o...</td>\n",
       "      <td>We're pretty relaxed hosts, and we fully appre...</td>\n",
       "      <td>Come stay with Vinh &amp; Stuart (Awarded as one o...</td>\n",
       "      <td>Pyrmont is an inner-city village of Sydney, on...</td>\n",
       "      <td>We've a few reasons for the 6.00pm arrival tim...</td>\n",
       "      <td>Our home is centrally located and an easy walk...</td>\n",
       "      <td>We look forward to welcoming you just as we wo...</td>\n",
       "      <td>...</td>\n",
       "      <td>10.0</td>\n",
       "      <td>10.0</td>\n",
       "      <td>10.0</td>\n",
       "      <td>10.0</td>\n",
       "      <td>f</td>\n",
       "      <td>strict_14_with_grace_period</td>\n",
       "      <td>t</td>\n",
       "      <td>t</td>\n",
       "      <td>2</td>\n",
       "      <td>4.83</td>\n",
       "    </tr>\n",
       "    <tr>\n",
       "      <th>2</th>\n",
       "      <td>14250</td>\n",
       "      <td>https://www.airbnb.com/rooms/14250</td>\n",
       "      <td>Manly Harbour House</td>\n",
       "      <td>Beautifully renovated, spacious and quiet, our...</td>\n",
       "      <td>Our home is a thirty minute walk along the sea...</td>\n",
       "      <td>Beautifully renovated, spacious and quiet, our...</td>\n",
       "      <td>Balgowlah Heights is one of the most prestigio...</td>\n",
       "      <td>NaN</td>\n",
       "      <td>Balgowlah - Manly bus # 131 or #132  (Bus stop...</td>\n",
       "      <td>Guests have access to whole house except locke...</td>\n",
       "      <td>...</td>\n",
       "      <td>10.0</td>\n",
       "      <td>8.0</td>\n",
       "      <td>10.0</td>\n",
       "      <td>10.0</td>\n",
       "      <td>f</td>\n",
       "      <td>strict_14_with_grace_period</td>\n",
       "      <td>f</td>\n",
       "      <td>f</td>\n",
       "      <td>2</td>\n",
       "      <td>0.03</td>\n",
       "    </tr>\n",
       "    <tr>\n",
       "      <th>3</th>\n",
       "      <td>14935</td>\n",
       "      <td>https://www.airbnb.com/rooms/14935</td>\n",
       "      <td>Eco-conscious Travellers: Private Room</td>\n",
       "      <td>Welcome! This apartment will suit a short term...</td>\n",
       "      <td>I live upstairs in my own room with my own bat...</td>\n",
       "      <td>Welcome! This apartment will suit a short term...</td>\n",
       "      <td>NaN</td>\n",
       "      <td>The building can be hard to find, so please en...</td>\n",
       "      <td>DIRECTIONS VIA TAXI: Get dropped off at Renwic...</td>\n",
       "      <td>I work from home most times - so if I'm home, ...</td>\n",
       "      <td>...</td>\n",
       "      <td>9.0</td>\n",
       "      <td>10.0</td>\n",
       "      <td>9.0</td>\n",
       "      <td>9.0</td>\n",
       "      <td>f</td>\n",
       "      <td>moderate</td>\n",
       "      <td>f</td>\n",
       "      <td>f</td>\n",
       "      <td>2</td>\n",
       "      <td>2.14</td>\n",
       "    </tr>\n",
       "    <tr>\n",
       "      <th>4</th>\n",
       "      <td>14974</td>\n",
       "      <td>https://www.airbnb.com/rooms/14974</td>\n",
       "      <td>Eco-conscious Traveller: Sofa Couch</td>\n",
       "      <td>Welcome! This apartment will suit a short term...</td>\n",
       "      <td>Comes with a fully equipped gym and pool - whi...</td>\n",
       "      <td>Welcome! This apartment will suit a short term...</td>\n",
       "      <td>NaN</td>\n",
       "      <td>I live upstairs in my own room with my own bat...</td>\n",
       "      <td>DIRECTIONS VIA TAXI: Get dropped off at Renwic...</td>\n",
       "      <td>I work from home most times - so if I'm home, ...</td>\n",
       "      <td>...</td>\n",
       "      <td>9.0</td>\n",
       "      <td>9.0</td>\n",
       "      <td>9.0</td>\n",
       "      <td>9.0</td>\n",
       "      <td>f</td>\n",
       "      <td>moderate</td>\n",
       "      <td>f</td>\n",
       "      <td>f</td>\n",
       "      <td>2</td>\n",
       "      <td>1.78</td>\n",
       "    </tr>\n",
       "  </tbody>\n",
       "</table>\n",
       "<p>5 rows × 84 columns</p>\n",
       "</div>"
      ],
      "text/plain": [
       "      id                         listing_url  \\\n",
       "0  11156  https://www.airbnb.com/rooms/11156   \n",
       "1  12351  https://www.airbnb.com/rooms/12351   \n",
       "2  14250  https://www.airbnb.com/rooms/14250   \n",
       "3  14935  https://www.airbnb.com/rooms/14935   \n",
       "4  14974  https://www.airbnb.com/rooms/14974   \n",
       "\n",
       "                                     name  \\\n",
       "0                    An Oasis in the City   \n",
       "1       Sydney City & Harbour at the door   \n",
       "2                     Manly Harbour House   \n",
       "3  Eco-conscious Travellers: Private Room   \n",
       "4     Eco-conscious Traveller: Sofa Couch   \n",
       "\n",
       "                                             summary  \\\n",
       "0  Very central to the city which can be reached ...   \n",
       "1  Come stay with Vinh & Stuart (Awarded as one o...   \n",
       "2  Beautifully renovated, spacious and quiet, our...   \n",
       "3  Welcome! This apartment will suit a short term...   \n",
       "4  Welcome! This apartment will suit a short term...   \n",
       "\n",
       "                                               space  \\\n",
       "0  Potts Pt. is a vibrant  and popular inner-city...   \n",
       "1  We're pretty relaxed hosts, and we fully appre...   \n",
       "2  Our home is a thirty minute walk along the sea...   \n",
       "3  I live upstairs in my own room with my own bat...   \n",
       "4  Comes with a fully equipped gym and pool - whi...   \n",
       "\n",
       "                                         description  \\\n",
       "0  Very central to the city which can be reached ...   \n",
       "1  Come stay with Vinh & Stuart (Awarded as one o...   \n",
       "2  Beautifully renovated, spacious and quiet, our...   \n",
       "3  Welcome! This apartment will suit a short term...   \n",
       "4  Welcome! This apartment will suit a short term...   \n",
       "\n",
       "                               neighborhood_overview  \\\n",
       "0  It is very close to everything and everywhere,...   \n",
       "1  Pyrmont is an inner-city village of Sydney, on...   \n",
       "2  Balgowlah Heights is one of the most prestigio...   \n",
       "3                                                NaN   \n",
       "4                                                NaN   \n",
       "\n",
       "                                               notes  \\\n",
       "0  $150.00 key security deposit, refundable on re...   \n",
       "1  We've a few reasons for the 6.00pm arrival tim...   \n",
       "2                                                NaN   \n",
       "3  The building can be hard to find, so please en...   \n",
       "4  I live upstairs in my own room with my own bat...   \n",
       "\n",
       "                                             transit  \\\n",
       "0  It is 7 minutes walk to the Kings Cross.train ...   \n",
       "1  Our home is centrally located and an easy walk...   \n",
       "2  Balgowlah - Manly bus # 131 or #132  (Bus stop...   \n",
       "3  DIRECTIONS VIA TAXI: Get dropped off at Renwic...   \n",
       "4  DIRECTIONS VIA TAXI: Get dropped off at Renwic...   \n",
       "\n",
       "                                              access  ...  \\\n",
       "0   Kitchen & laundry facilities.   Shared bathroom.  ...   \n",
       "1  We look forward to welcoming you just as we wo...  ...   \n",
       "2  Guests have access to whole house except locke...  ...   \n",
       "3  I work from home most times - so if I'm home, ...  ...   \n",
       "4  I work from home most times - so if I'm home, ...  ...   \n",
       "\n",
       "  review_scores_checkin review_scores_communication review_scores_location  \\\n",
       "0                  10.0                        10.0                   10.0   \n",
       "1                  10.0                        10.0                   10.0   \n",
       "2                  10.0                         8.0                   10.0   \n",
       "3                   9.0                        10.0                    9.0   \n",
       "4                   9.0                         9.0                    9.0   \n",
       "\n",
       "   review_scores_value instant_bookable          cancellation_policy  \\\n",
       "0                  9.0                f                     moderate   \n",
       "1                 10.0                f  strict_14_with_grace_period   \n",
       "2                 10.0                f  strict_14_with_grace_period   \n",
       "3                  9.0                f                     moderate   \n",
       "4                  9.0                f                     moderate   \n",
       "\n",
       "  require_guest_profile_picture require_guest_phone_verification  \\\n",
       "0                             f                                f   \n",
       "1                             t                                t   \n",
       "2                             f                                f   \n",
       "3                             f                                f   \n",
       "4                             f                                f   \n",
       "\n",
       "  calculated_host_listings_count reviews_per_month  \n",
       "0                              1              1.69  \n",
       "1                              2              4.83  \n",
       "2                              2              0.03  \n",
       "3                              2              2.14  \n",
       "4                              2              1.78  \n",
       "\n",
       "[5 rows x 84 columns]"
      ]
     },
     "execution_count": 4,
     "metadata": {},
     "output_type": "execute_result"
    }
   ],
   "source": [
    "df.head()"
   ]
  },
  {
   "cell_type": "markdown",
   "metadata": {},
   "source": [
    "Removendo colunas não desejadas no dataset"
   ]
  },
  {
   "cell_type": "code",
   "execution_count": 5,
   "metadata": {},
   "outputs": [
    {
     "data": {
      "text/html": [
       "<div>\n",
       "<style scoped>\n",
       "    .dataframe tbody tr th:only-of-type {\n",
       "        vertical-align: middle;\n",
       "    }\n",
       "\n",
       "    .dataframe tbody tr th {\n",
       "        vertical-align: top;\n",
       "    }\n",
       "\n",
       "    .dataframe thead th {\n",
       "        text-align: right;\n",
       "    }\n",
       "</style>\n",
       "<table border=\"1\" class=\"dataframe\">\n",
       "  <thead>\n",
       "    <tr style=\"text-align: right;\">\n",
       "      <th></th>\n",
       "      <th>price</th>\n",
       "      <th>city</th>\n",
       "      <th>longitude</th>\n",
       "      <th>latitude</th>\n",
       "      <th>review_scores_rating</th>\n",
       "      <th>number_of_reviews</th>\n",
       "      <th>minimum_nights</th>\n",
       "      <th>security_deposit</th>\n",
       "      <th>cleaning_fee</th>\n",
       "      <th>accommodates</th>\n",
       "      <th>bathrooms</th>\n",
       "      <th>bedrooms</th>\n",
       "      <th>beds</th>\n",
       "      <th>property_type</th>\n",
       "      <th>room_type</th>\n",
       "      <th>availability_365</th>\n",
       "      <th>host_identity_verified</th>\n",
       "      <th>host_is_superhost</th>\n",
       "      <th>host_since</th>\n",
       "      <th>cancellation_policy</th>\n",
       "    </tr>\n",
       "  </thead>\n",
       "  <tbody>\n",
       "    <tr>\n",
       "      <th>0</th>\n",
       "      <td>$65.00</td>\n",
       "      <td>Potts Point</td>\n",
       "      <td>151.226562</td>\n",
       "      <td>-33.869168</td>\n",
       "      <td>92.0</td>\n",
       "      <td>177</td>\n",
       "      <td>2</td>\n",
       "      <td>NaN</td>\n",
       "      <td>NaN</td>\n",
       "      <td>1</td>\n",
       "      <td>NaN</td>\n",
       "      <td>1.0</td>\n",
       "      <td>1.0</td>\n",
       "      <td>Apartment</td>\n",
       "      <td>Private room</td>\n",
       "      <td>339</td>\n",
       "      <td>f</td>\n",
       "      <td>t</td>\n",
       "      <td>23/09/09</td>\n",
       "      <td>moderate</td>\n",
       "    </tr>\n",
       "    <tr>\n",
       "      <th>1</th>\n",
       "      <td>$98.00</td>\n",
       "      <td>Pyrmont</td>\n",
       "      <td>151.191896</td>\n",
       "      <td>-33.865153</td>\n",
       "      <td>95.0</td>\n",
       "      <td>468</td>\n",
       "      <td>2</td>\n",
       "      <td>$0.00</td>\n",
       "      <td>$55.00</td>\n",
       "      <td>2</td>\n",
       "      <td>1.0</td>\n",
       "      <td>1.0</td>\n",
       "      <td>1.0</td>\n",
       "      <td>Townhouse</td>\n",
       "      <td>Private room</td>\n",
       "      <td>188</td>\n",
       "      <td>t</td>\n",
       "      <td>f</td>\n",
       "      <td>14/05/09</td>\n",
       "      <td>strict_14_with_grace_period</td>\n",
       "    </tr>\n",
       "    <tr>\n",
       "      <th>2</th>\n",
       "      <td>$469.00</td>\n",
       "      <td>Balgowlah</td>\n",
       "      <td>151.261722</td>\n",
       "      <td>-33.800929</td>\n",
       "      <td>100.0</td>\n",
       "      <td>1</td>\n",
       "      <td>5</td>\n",
       "      <td>$900.00</td>\n",
       "      <td>$100.00</td>\n",
       "      <td>6</td>\n",
       "      <td>3.0</td>\n",
       "      <td>3.0</td>\n",
       "      <td>3.0</td>\n",
       "      <td>House</td>\n",
       "      <td>Entire home/apt</td>\n",
       "      <td>168</td>\n",
       "      <td>t</td>\n",
       "      <td>f</td>\n",
       "      <td>20/11/09</td>\n",
       "      <td>strict_14_with_grace_period</td>\n",
       "    </tr>\n",
       "    <tr>\n",
       "      <th>3</th>\n",
       "      <td>$63.00</td>\n",
       "      <td>Redfern</td>\n",
       "      <td>151.200450</td>\n",
       "      <td>-33.890765</td>\n",
       "      <td>89.0</td>\n",
       "      <td>172</td>\n",
       "      <td>2</td>\n",
       "      <td>NaN</td>\n",
       "      <td>NaN</td>\n",
       "      <td>2</td>\n",
       "      <td>1.0</td>\n",
       "      <td>1.0</td>\n",
       "      <td>1.0</td>\n",
       "      <td>Apartment</td>\n",
       "      <td>Private room</td>\n",
       "      <td>215</td>\n",
       "      <td>t</td>\n",
       "      <td>f</td>\n",
       "      <td>30/11/09</td>\n",
       "      <td>moderate</td>\n",
       "    </tr>\n",
       "    <tr>\n",
       "      <th>4</th>\n",
       "      <td>$39.00</td>\n",
       "      <td>Redfern</td>\n",
       "      <td>151.200896</td>\n",
       "      <td>-33.889667</td>\n",
       "      <td>90.0</td>\n",
       "      <td>147</td>\n",
       "      <td>2</td>\n",
       "      <td>NaN</td>\n",
       "      <td>NaN</td>\n",
       "      <td>1</td>\n",
       "      <td>2.0</td>\n",
       "      <td>1.0</td>\n",
       "      <td>1.0</td>\n",
       "      <td>Apartment</td>\n",
       "      <td>Shared room</td>\n",
       "      <td>287</td>\n",
       "      <td>t</td>\n",
       "      <td>f</td>\n",
       "      <td>30/11/09</td>\n",
       "      <td>moderate</td>\n",
       "    </tr>\n",
       "  </tbody>\n",
       "</table>\n",
       "</div>"
      ],
      "text/plain": [
       "      price         city   longitude   latitude  review_scores_rating  \\\n",
       "0   $65.00   Potts Point  151.226562 -33.869168                  92.0   \n",
       "1   $98.00       Pyrmont  151.191896 -33.865153                  95.0   \n",
       "2  $469.00     Balgowlah  151.261722 -33.800929                 100.0   \n",
       "3   $63.00       Redfern  151.200450 -33.890765                  89.0   \n",
       "4   $39.00       Redfern  151.200896 -33.889667                  90.0   \n",
       "\n",
       "   number_of_reviews  minimum_nights security_deposit cleaning_fee  \\\n",
       "0                177               2              NaN          NaN   \n",
       "1                468               2           $0.00       $55.00    \n",
       "2                  1               5         $900.00      $100.00    \n",
       "3                172               2              NaN          NaN   \n",
       "4                147               2              NaN          NaN   \n",
       "\n",
       "   accommodates  bathrooms  bedrooms  beds property_type        room_type  \\\n",
       "0             1        NaN       1.0   1.0     Apartment     Private room   \n",
       "1             2        1.0       1.0   1.0     Townhouse     Private room   \n",
       "2             6        3.0       3.0   3.0         House  Entire home/apt   \n",
       "3             2        1.0       1.0   1.0     Apartment     Private room   \n",
       "4             1        2.0       1.0   1.0     Apartment      Shared room   \n",
       "\n",
       "   availability_365 host_identity_verified host_is_superhost host_since  \\\n",
       "0               339                      f                 t   23/09/09   \n",
       "1               188                      t                 f   14/05/09   \n",
       "2               168                      t                 f   20/11/09   \n",
       "3               215                      t                 f   30/11/09   \n",
       "4               287                      t                 f   30/11/09   \n",
       "\n",
       "           cancellation_policy  \n",
       "0                     moderate  \n",
       "1  strict_14_with_grace_period  \n",
       "2  strict_14_with_grace_period  \n",
       "3                     moderate  \n",
       "4                     moderate  "
      ]
     },
     "execution_count": 5,
     "metadata": {},
     "output_type": "execute_result"
    }
   ],
   "source": [
    "incl = [\"price\",\"city\",\"longitude\",\"latitude\",\"review_scores_rating\",\"number_of_reviews\",\"minimum_nights\",\"security_deposit\",\"cleaning_fee\",\n",
    "        \"accommodates\",\"bathrooms\",\"bedrooms\",\"beds\",\"property_type\",\"room_type\",\"availability_365\" ,\"host_identity_verified\", \n",
    "        \"host_is_superhost\",\"host_since\",\"cancellation_policy\"] \n",
    "\n",
    "df = df[incl]\n",
    "df.head()"
   ]
  },
  {
   "cell_type": "code",
   "execution_count": 6,
   "metadata": {},
   "outputs": [
    {
     "data": {
      "text/plain": [
       "(27070, 20)"
      ]
     },
     "execution_count": 6,
     "metadata": {},
     "output_type": "execute_result"
    }
   ],
   "source": [
    "df.shape"
   ]
  },
  {
   "cell_type": "markdown",
   "metadata": {},
   "source": [
    "Agora iremos criar uma função regular para remover o caracter \"$\" das células que apresentam valores financeiros."
   ]
  },
  {
   "cell_type": "code",
   "execution_count": 7,
   "metadata": {},
   "outputs": [],
   "source": [
    "# Importing regex\n",
    "import re\n",
    "\n",
    "# The price fields in our data frame\n",
    "price_list = [\"price\",\"cleaning_fee\",\"security_deposit\"]\n",
    "\n",
    "# We change any blanks to 0 and use our regex function to remove anything that isn't a number (or negative number which is changed to 0)\n",
    "for col in price_list:\n",
    "    df[col] = df[col].fillna(\"0\")\n",
    "    df[col] = df[col].apply(lambda x: float(re.compile('[^0-9eE.]').sub('', x)) if len(x)>0 else 0)\n",
    "\n",
    "df['host_since'] = pd.to_datetime(df['host_since'])"
   ]
  },
  {
   "cell_type": "code",
   "execution_count": 8,
   "metadata": {},
   "outputs": [
    {
     "data": {
      "text/plain": [
       "0     65.0\n",
       "1     98.0\n",
       "2    469.0\n",
       "3     63.0\n",
       "4     39.0\n",
       "Name: price, dtype: float64"
      ]
     },
     "execution_count": 8,
     "metadata": {},
     "output_type": "execute_result"
    }
   ],
   "source": [
    "df[\"price\"].head()"
   ]
  },
  {
   "cell_type": "markdown",
   "metadata": {},
   "source": [
    "Analisando algumas informações"
   ]
  },
  {
   "cell_type": "code",
   "execution_count": 9,
   "metadata": {},
   "outputs": [
    {
     "name": "stdout",
     "output_type": "stream",
     "text": [
      "<class 'pandas.core.frame.DataFrame'>\n",
      "RangeIndex: 27070 entries, 0 to 27069\n",
      "Data columns (total 20 columns):\n",
      "price                     27070 non-null float64\n",
      "city                      27037 non-null object\n",
      "longitude                 27070 non-null float64\n",
      "latitude                  27070 non-null float64\n",
      "review_scores_rating      19512 non-null float64\n",
      "number_of_reviews         27070 non-null int64\n",
      "minimum_nights            27070 non-null int64\n",
      "security_deposit          27070 non-null float64\n",
      "cleaning_fee              27070 non-null float64\n",
      "accommodates              27070 non-null int64\n",
      "bathrooms                 27048 non-null float64\n",
      "bedrooms                  27062 non-null float64\n",
      "beds                      27037 non-null float64\n",
      "property_type             27070 non-null object\n",
      "room_type                 27070 non-null object\n",
      "availability_365          27070 non-null int64\n",
      "host_identity_verified    27035 non-null object\n",
      "host_is_superhost         27035 non-null object\n",
      "host_since                27035 non-null datetime64[ns]\n",
      "cancellation_policy       27070 non-null object\n",
      "dtypes: datetime64[ns](1), float64(9), int64(4), object(6)\n",
      "memory usage: 4.1+ MB\n"
     ]
    }
   ],
   "source": [
    "df.info()"
   ]
  },
  {
   "cell_type": "code",
   "execution_count": 10,
   "metadata": {},
   "outputs": [
    {
     "data": {
      "text/plain": [
       "<Figure size 640x480 with 1 Axes>"
      ]
     },
     "metadata": {},
     "output_type": "display_data"
    }
   ],
   "source": [
    "import matplotlib.pyplot as plt\n",
    "import seaborn as sns\n",
    "\n",
    "sns.boxplot(y=df.price)\n",
    "plt.show()"
   ]
  },
  {
   "cell_type": "markdown",
   "metadata": {},
   "source": [
    "- Podemos ver alguns preços bem altos, com a maioria se localizando no fundo do gráfico (aparentemente ~ 100-200)\n",
    "\n",
    "- Agora usamos o skew para verificar a simetria da distribuição dos dados (0 sendo perfeitamente simétrico)"
   ]
  },
  {
   "cell_type": "code",
   "execution_count": 11,
   "metadata": {},
   "outputs": [
    {
     "data": {
      "text/plain": [
       "13.808558337216192"
      ]
     },
     "execution_count": 11,
     "metadata": {},
     "output_type": "execute_result"
    }
   ],
   "source": [
    "df.price.skew()"
   ]
  },
  {
   "cell_type": "markdown",
   "metadata": {},
   "source": [
    "Também podemos usar a curtose para analisar nossos dados.\n",
    "- “Kurtosis é o grau de pico de uma distribuição” - Wolfram MathWorld"
   ]
  },
  {
   "cell_type": "code",
   "execution_count": 12,
   "metadata": {},
   "outputs": [
    {
     "data": {
      "text/plain": [
       "413.4301463784445"
      ]
     },
     "execution_count": 12,
     "metadata": {},
     "output_type": "execute_result"
    }
   ],
   "source": [
    "df.price.kurtosis()"
   ]
  },
  {
   "cell_type": "markdown",
   "metadata": {},
   "source": [
    "Portanto, para remover ou filtrar nossos \"valores extremos\" de alto valor, considere tirar nossos dados do percentil 99,5% e excluir os 0,25% inferiores e os 0,25% superiores dos preços.<br>\n",
    " Essa função retorna o valor mais alto do percentil 99,5%, que ainda é relativamente alto quando comparado à média e mediana"
   ]
  },
  {
   "cell_type": "code",
   "execution_count": 13,
   "metadata": {},
   "outputs": [
    {
     "name": "stdout",
     "output_type": "stream",
     "text": [
      "1600.0\n",
      "209.27879571481344\n",
      "135.0\n"
     ]
    }
   ],
   "source": [
    "print(df[\"price\"].quantile(0.995))\n",
    "print(df[\"price\"].mean())\n",
    "print(df[\"price\"].median())"
   ]
  },
  {
   "cell_type": "markdown",
   "metadata": {},
   "source": [
    "Agora iremos remover os outliers da coluna \"price\"."
   ]
  },
  {
   "cell_type": "code",
   "execution_count": 14,
   "metadata": {},
   "outputs": [
    {
     "data": {
      "text/plain": [
       "2.957872457159033"
      ]
     },
     "execution_count": 14,
     "metadata": {},
     "output_type": "execute_result"
    }
   ],
   "source": [
    "df = df[df[\"price\"]<df[\"price\"].quantile(0.995)].reset_index(drop=True)\n",
    "df[\"price\"].skew()"
   ]
  },
  {
   "cell_type": "markdown",
   "metadata": {},
   "source": [
    "Calculando o valor de Skew novamente foi possível notar que a distribuião dos preços se tornou mais simétrica.\n",
    "***\n",
    "Na próxima célula vamos verificar os valores nulos no dataset;"
   ]
  },
  {
   "cell_type": "code",
   "execution_count": 15,
   "metadata": {},
   "outputs": [
    {
     "data": {
      "text/plain": [
       "price                        0\n",
       "city                        32\n",
       "longitude                    0\n",
       "latitude                     0\n",
       "review_scores_rating      7466\n",
       "number_of_reviews            0\n",
       "minimum_nights               0\n",
       "security_deposit             0\n",
       "cleaning_fee                 0\n",
       "accommodates                 0\n",
       "bathrooms                   22\n",
       "bedrooms                     8\n",
       "beds                        33\n",
       "property_type                0\n",
       "room_type                    0\n",
       "availability_365             0\n",
       "host_identity_verified      34\n",
       "host_is_superhost           34\n",
       "host_since                  34\n",
       "cancellation_policy          0\n",
       "dtype: int64"
      ]
     },
     "execution_count": 15,
     "metadata": {},
     "output_type": "execute_result"
    }
   ],
   "source": [
    "df.isnull().sum()"
   ]
  },
  {
   "cell_type": "markdown",
   "metadata": {},
   "source": [
    "Nesta parte contaremos quantos valores únicos temos em cata coluna."
   ]
  },
  {
   "cell_type": "code",
   "execution_count": 17,
   "metadata": {
    "scrolled": false
   },
   "outputs": [
    {
     "name": "stdout",
     "output_type": "stream",
     "text": [
      "strict_14_with_grace_period    11585\n",
      "flexible                        8538\n",
      "moderate                        6776\n",
      "super_strict_60                   31\n",
      "super_strict_30                    1\n",
      "Name: cancellation_policy, dtype: int64 \n",
      "\n",
      "Bondi Beach                          1671\n",
      "Manly                                 958\n",
      "Surry Hills                           919\n",
      "Bondi                                 785\n",
      "Randwick                              684\n",
      "Sydney                                682\n",
      "Coogee                                675\n",
      "Darlinghurst                          660\n",
      "North Bondi                           629\n",
      "Newtown                               490\n",
      "Redfern                               479\n",
      "Maroubra                              443\n",
      "Paddington                            443\n",
      "Bondi Junction                        416\n",
      "Mosman                                385\n",
      "Potts Point                           380\n",
      "Bronte                                367\n",
      "Pyrmont                               307\n",
      "Waterloo                              300\n",
      "Glebe                                 259\n",
      "Dee Why                               255\n",
      "Rose Bay                              247\n",
      "Freshwater                            245\n",
      "Bellevue Hill                         241\n",
      "Avalon Beach                          232\n",
      "Ultimo                                229\n",
      "Marrickville                          221\n",
      "Camperdown                            212\n",
      "Alexandria                            208\n",
      "Chippendale                           205\n",
      "                                     ... \n",
      "Rockdale City Council                   1\n",
      "Southport                               1\n",
      "Paddington / Sydney                     1\n",
      "Bar Point                               1\n",
      "Barden Ridge                            1\n",
      "Kensington, Sydney                      1\n",
      "North Bondi Beach                       1\n",
      "Hillsdale, Sydney                       1\n",
      "North Bondi, New South Wales, AU        1\n",
      "Gregory Hills                           1\n",
      "Dawes Point                             1\n",
      "Lower Portland                          1\n",
      "Lilyfield                               1\n",
      "Roseville                               1\n",
      "Campbelltown, New South Wales, AU       1\n",
      "Revesby Heights                         1\n",
      " Bondi Beach                            1\n",
      "Potts Hill                              1\n",
      "Minto Heights                           1\n",
      "Bellevue hill                           1\n",
      " Coogee ,Sydney                         1\n",
      "Waverton, North Sydney                  1\n",
      "Homebush west                           1\n",
      "Nelson                                  1\n",
      "camperdown                              1\n",
      "Mount Kuring-Gai                        1\n",
      "Maroubra Beach                          1\n",
      "Balmain / Birchgrove                    1\n",
      "Old Guildford                           1\n",
      "norfolk rd. \\nNorth Epping              1\n",
      "Name: city, Length: 741, dtype: int64 \n",
      "\n",
      "Apartment                 15901\n",
      "House                      7722\n",
      "Townhouse                  1145\n",
      "Condominium                 351\n",
      "Guest suite                 350\n",
      "Guesthouse                  287\n",
      "Villa                       201\n",
      "Loft                        175\n",
      "Bed and breakfast           156\n",
      "Other                       147\n",
      "Bungalow                    118\n",
      "Cabin                        77\n",
      "Serviced apartment           74\n",
      "Cottage                      60\n",
      "Hostel                       53\n",
      "Boutique hotel               25\n",
      "Boat                         18\n",
      "Hotel                        13\n",
      "Tent                         13\n",
      "Tiny house                    9\n",
      "Camper/RV                     6\n",
      "Resort                        6\n",
      "Farm stay                     3\n",
      "Island                        3\n",
      "Yurt                          2\n",
      "Chalet                        2\n",
      "Tipi                          2\n",
      "Barn                          1\n",
      "Hut                           1\n",
      "Aparthotel                    1\n",
      "Castle                        1\n",
      "Campsite                      1\n",
      "Dome house                    1\n",
      "Earth house                   1\n",
      "Houseboat                     1\n",
      "Train                         1\n",
      "Nature lodge                  1\n",
      "Treehouse                     1\n",
      "Casa particular (Cuba)        1\n",
      "Name: property_type, dtype: int64 \n",
      "\n",
      "Entire home/apt    16789\n",
      "Private room        9745\n",
      "Shared room          397\n",
      "Name: room_type, dtype: int64 \n",
      "\n"
     ]
    }
   ],
   "source": [
    "print(df[\"cancellation_policy\"].value_counts(),\"\\n\")\n",
    "print(df[\"city\"].value_counts(),\"\\n\")\n",
    "print(df[\"property_type\"].value_counts(),\"\\n\")\n",
    "print(df[\"room_type\"].value_counts(),\"\\n\")"
   ]
  },
  {
   "cell_type": "code",
   "execution_count": 18,
   "metadata": {},
   "outputs": [
    {
     "data": {
      "text/plain": [
       "26899"
      ]
     },
     "execution_count": 18,
     "metadata": {},
     "output_type": "execute_result"
    }
   ],
   "source": [
    "df[\"city\"].value_counts().sum()"
   ]
  },
  {
   "cell_type": "code",
   "execution_count": 19,
   "metadata": {},
   "outputs": [
    {
     "data": {
      "text/html": [
       "<div>\n",
       "<style scoped>\n",
       "    .dataframe tbody tr th:only-of-type {\n",
       "        vertical-align: middle;\n",
       "    }\n",
       "\n",
       "    .dataframe tbody tr th {\n",
       "        vertical-align: top;\n",
       "    }\n",
       "\n",
       "    .dataframe thead th {\n",
       "        text-align: right;\n",
       "    }\n",
       "</style>\n",
       "<table border=\"1\" class=\"dataframe\">\n",
       "  <thead>\n",
       "    <tr style=\"text-align: right;\">\n",
       "      <th></th>\n",
       "      <th>price</th>\n",
       "      <th>longitude</th>\n",
       "      <th>latitude</th>\n",
       "      <th>review_scores_rating</th>\n",
       "      <th>number_of_reviews</th>\n",
       "      <th>minimum_nights</th>\n",
       "      <th>security_deposit</th>\n",
       "      <th>cleaning_fee</th>\n",
       "      <th>accommodates</th>\n",
       "      <th>bathrooms</th>\n",
       "      <th>bedrooms</th>\n",
       "      <th>beds</th>\n",
       "      <th>availability_365</th>\n",
       "    </tr>\n",
       "  </thead>\n",
       "  <tbody>\n",
       "    <tr>\n",
       "      <th>count</th>\n",
       "      <td>26931.000000</td>\n",
       "      <td>26931.000000</td>\n",
       "      <td>26931.000000</td>\n",
       "      <td>19465.000000</td>\n",
       "      <td>26931.000000</td>\n",
       "      <td>26931.000000</td>\n",
       "      <td>26931.000000</td>\n",
       "      <td>26931.000000</td>\n",
       "      <td>26931.000000</td>\n",
       "      <td>26909.000000</td>\n",
       "      <td>26923.000000</td>\n",
       "      <td>26898.000000</td>\n",
       "      <td>26931.000000</td>\n",
       "    </tr>\n",
       "    <tr>\n",
       "      <th>mean</th>\n",
       "      <td>196.065464</td>\n",
       "      <td>151.210438</td>\n",
       "      <td>-33.862675</td>\n",
       "      <td>93.404932</td>\n",
       "      <td>14.070031</td>\n",
       "      <td>4.482010</td>\n",
       "      <td>293.870261</td>\n",
       "      <td>65.268687</td>\n",
       "      <td>3.357395</td>\n",
       "      <td>1.340964</td>\n",
       "      <td>1.600787</td>\n",
       "      <td>1.996542</td>\n",
       "      <td>101.575916</td>\n",
       "    </tr>\n",
       "    <tr>\n",
       "      <th>std</th>\n",
       "      <td>199.813830</td>\n",
       "      <td>0.079425</td>\n",
       "      <td>0.071861</td>\n",
       "      <td>9.358515</td>\n",
       "      <td>29.870227</td>\n",
       "      <td>14.421896</td>\n",
       "      <td>549.642202</td>\n",
       "      <td>84.886663</td>\n",
       "      <td>2.160004</td>\n",
       "      <td>0.638187</td>\n",
       "      <td>1.091213</td>\n",
       "      <td>1.506535</td>\n",
       "      <td>127.822623</td>\n",
       "    </tr>\n",
       "    <tr>\n",
       "      <th>min</th>\n",
       "      <td>0.000000</td>\n",
       "      <td>150.644964</td>\n",
       "      <td>-34.135212</td>\n",
       "      <td>20.000000</td>\n",
       "      <td>0.000000</td>\n",
       "      <td>1.000000</td>\n",
       "      <td>0.000000</td>\n",
       "      <td>0.000000</td>\n",
       "      <td>1.000000</td>\n",
       "      <td>0.000000</td>\n",
       "      <td>0.000000</td>\n",
       "      <td>0.000000</td>\n",
       "      <td>0.000000</td>\n",
       "    </tr>\n",
       "    <tr>\n",
       "      <th>25%</th>\n",
       "      <td>80.000000</td>\n",
       "      <td>151.184336</td>\n",
       "      <td>-33.897653</td>\n",
       "      <td>90.000000</td>\n",
       "      <td>1.000000</td>\n",
       "      <td>1.000000</td>\n",
       "      <td>0.000000</td>\n",
       "      <td>0.000000</td>\n",
       "      <td>2.000000</td>\n",
       "      <td>1.000000</td>\n",
       "      <td>1.000000</td>\n",
       "      <td>1.000000</td>\n",
       "      <td>0.000000</td>\n",
       "    </tr>\n",
       "    <tr>\n",
       "      <th>50%</th>\n",
       "      <td>132.000000</td>\n",
       "      <td>151.223029</td>\n",
       "      <td>-33.883161</td>\n",
       "      <td>96.000000</td>\n",
       "      <td>3.000000</td>\n",
       "      <td>2.000000</td>\n",
       "      <td>0.000000</td>\n",
       "      <td>40.000000</td>\n",
       "      <td>2.000000</td>\n",
       "      <td>1.000000</td>\n",
       "      <td>1.000000</td>\n",
       "      <td>1.000000</td>\n",
       "      <td>32.000000</td>\n",
       "    </tr>\n",
       "    <tr>\n",
       "      <th>75%</th>\n",
       "      <td>225.000000</td>\n",
       "      <td>151.264706</td>\n",
       "      <td>-33.832189</td>\n",
       "      <td>100.000000</td>\n",
       "      <td>13.000000</td>\n",
       "      <td>5.000000</td>\n",
       "      <td>400.000000</td>\n",
       "      <td>99.000000</td>\n",
       "      <td>4.000000</td>\n",
       "      <td>1.500000</td>\n",
       "      <td>2.000000</td>\n",
       "      <td>2.000000</td>\n",
       "      <td>179.000000</td>\n",
       "    </tr>\n",
       "    <tr>\n",
       "      <th>max</th>\n",
       "      <td>1599.000000</td>\n",
       "      <td>151.339811</td>\n",
       "      <td>-33.389728</td>\n",
       "      <td>100.000000</td>\n",
       "      <td>468.000000</td>\n",
       "      <td>1000.000000</td>\n",
       "      <td>7000.000000</td>\n",
       "      <td>999.000000</td>\n",
       "      <td>16.000000</td>\n",
       "      <td>10.000000</td>\n",
       "      <td>46.000000</td>\n",
       "      <td>29.000000</td>\n",
       "      <td>365.000000</td>\n",
       "    </tr>\n",
       "  </tbody>\n",
       "</table>\n",
       "</div>"
      ],
      "text/plain": [
       "              price     longitude      latitude  review_scores_rating  \\\n",
       "count  26931.000000  26931.000000  26931.000000          19465.000000   \n",
       "mean     196.065464    151.210438    -33.862675             93.404932   \n",
       "std      199.813830      0.079425      0.071861              9.358515   \n",
       "min        0.000000    150.644964    -34.135212             20.000000   \n",
       "25%       80.000000    151.184336    -33.897653             90.000000   \n",
       "50%      132.000000    151.223029    -33.883161             96.000000   \n",
       "75%      225.000000    151.264706    -33.832189            100.000000   \n",
       "max     1599.000000    151.339811    -33.389728            100.000000   \n",
       "\n",
       "       number_of_reviews  minimum_nights  security_deposit  cleaning_fee  \\\n",
       "count       26931.000000    26931.000000      26931.000000  26931.000000   \n",
       "mean           14.070031        4.482010        293.870261     65.268687   \n",
       "std            29.870227       14.421896        549.642202     84.886663   \n",
       "min             0.000000        1.000000          0.000000      0.000000   \n",
       "25%             1.000000        1.000000          0.000000      0.000000   \n",
       "50%             3.000000        2.000000          0.000000     40.000000   \n",
       "75%            13.000000        5.000000        400.000000     99.000000   \n",
       "max           468.000000     1000.000000       7000.000000    999.000000   \n",
       "\n",
       "       accommodates     bathrooms      bedrooms          beds  \\\n",
       "count  26931.000000  26909.000000  26923.000000  26898.000000   \n",
       "mean       3.357395      1.340964      1.600787      1.996542   \n",
       "std        2.160004      0.638187      1.091213      1.506535   \n",
       "min        1.000000      0.000000      0.000000      0.000000   \n",
       "25%        2.000000      1.000000      1.000000      1.000000   \n",
       "50%        2.000000      1.000000      1.000000      1.000000   \n",
       "75%        4.000000      1.500000      2.000000      2.000000   \n",
       "max       16.000000     10.000000     46.000000     29.000000   \n",
       "\n",
       "       availability_365  \n",
       "count      26931.000000  \n",
       "mean         101.575916  \n",
       "std          127.822623  \n",
       "min            0.000000  \n",
       "25%            0.000000  \n",
       "50%           32.000000  \n",
       "75%          179.000000  \n",
       "max          365.000000  "
      ]
     },
     "execution_count": 19,
     "metadata": {},
     "output_type": "execute_result"
    }
   ],
   "source": [
    "df.describe()"
   ]
  },
  {
   "cell_type": "markdown",
   "metadata": {},
   "source": [
    "Vamos explorar um pouco os dados por visualizações."
   ]
  },
  {
   "cell_type": "code",
   "execution_count": 20,
   "metadata": {},
   "outputs": [
    {
     "data": {
      "image/png": "[encoded data removed]",
      "text/plain": [
       "<Figure size 1440x1080 with 9 Axes>"
      ]
     },
     "metadata": {
      "needs_background": "light"
     },
     "output_type": "display_data"
    }
   ],
   "source": [
    "%matplotlib inline\n",
    "import matplotlib.pyplot as plt\n",
    "\n",
    "try:\n",
    "    df.iloc[:,6:].hist(bins=50, figsize=(20,15))\n",
    "    \n",
    "    plt.show()\n",
    "except AttributeError:\n",
    "    pass"
   ]
  },
  {
   "cell_type": "markdown",
   "metadata": {},
   "source": [
    "Plotando um gráfico de frequência das cidades."
   ]
  },
  {
   "cell_type": "code",
   "execution_count": 21,
   "metadata": {},
   "outputs": [
    {
     "data": {
      "image/png": "[encoded data removed]",
      "text/plain": [
       "<Figure size 1152x720 with 1 Axes>"
      ]
     },
     "metadata": {
      "needs_background": "light"
     },
     "output_type": "display_data"
    }
   ],
   "source": [
    "plt.figure(figsize=(16,10))\n",
    "ax = sns.countplot(x=\"city\", data=df)"
   ]
  },
  {
   "cell_type": "markdown",
   "metadata": {},
   "source": [
    "Agora vamos fazer uma lista das 20 cidades com mais hospedagens, e em seguida iremos retirar as outras do dataset."
   ]
  },
  {
   "cell_type": "code",
   "execution_count": 30,
   "metadata": {},
   "outputs": [],
   "source": [
    "list_of_20 = list(df[\"city\"].value_counts().head(20).index)\n",
    "df = df[df[\"city\"].isin(list_of_20)].reset_index(drop=True)"
   ]
  },
  {
   "cell_type": "markdown",
   "metadata": {},
   "source": [
    "- Agora, removemos as ocorrências raras nas categorias, pois é necessário para a etapa de validação cruzada\n",
    "- Atapa abaixo é um pouco semelhante ao que foi feito com as cidades acima<br><br>\n",
    "Armazenamos as contagens de cada tipo na variável item_counts"
   ]
  },
  {
   "cell_type": "code",
   "execution_count": 31,
   "metadata": {},
   "outputs": [
    {
     "data": {
      "text/plain": [
       "Apartment             5970\n",
       "House                 1497\n",
       "Townhouse              271\n",
       "Condominium            115\n",
       "Loft                    59\n",
       "Guest suite             44\n",
       "Other                   33\n",
       "Hostel                  30\n",
       "Bed and breakfast       25\n",
       "Guesthouse              24\n",
       "Serviced apartment      23\n",
       "Villa                   16\n",
       "Name: property_type, dtype: int64"
      ]
     },
     "execution_count": 31,
     "metadata": {},
     "output_type": "execute_result"
    }
   ],
   "source": [
    "item_counts = df.groupby(['property_type']).size()\n",
    "\n",
    "# Store a list of the rare property types here i.e. the types that have a count less than 10 \n",
    "rare_items = list(item_counts.loc[item_counts <= 10].index.values)\n",
    "\n",
    "# drop the property types that were rare\n",
    "df = df[~df[\"property_type\"].isin(rare_items)].reset_index(drop=True)\n",
    "\n",
    "# Sanity check\n",
    "df[\"property_type\"].value_counts()"
   ]
  },
  {
   "cell_type": "markdown",
   "metadata": {},
   "source": [
    "Chegou a hora de separar nosso dataset"
   ]
  },
  {
   "cell_type": "code",
   "execution_count": 32,
   "metadata": {},
   "outputs": [],
   "source": [
    "from sklearn.model_selection import train_test_split\n",
    "\n",
    "train_set, test_set = train_test_split(df, test_size=0.2, random_state=42)"
   ]
  },
  {
   "cell_type": "markdown",
   "metadata": {},
   "source": [
    "Agora transforvamos dados categóricos em numéricos."
   ]
  },
  {
   "cell_type": "code",
   "execution_count": 33,
   "metadata": {},
   "outputs": [],
   "source": [
    "df[\"host_identity_verified\"] = df[\"host_identity_verified\"].apply(lambda x: 1 if x==\"t\" else 0)\n",
    "df[\"host_is_superhost\"] = df[\"host_is_superhost\"].apply(lambda x: 1 if x==\"t\" else 0)"
   ]
  },
  {
   "cell_type": "code",
   "execution_count": 55,
   "metadata": {},
   "outputs": [],
   "source": [
    "# We need to convert our categorical columns to numeric, so we use the sklearn's funtion LabelEncoder to do this\n",
    "from sklearn import preprocessing\n",
    "\n",
    "le = preprocessing.LabelEncoder()\n",
    "\n",
    "for col in [\"city\"]:\n",
    "    df[col+\"_code\"] = le.fit_transform(df[col])"
   ]
  },
  {
   "cell_type": "code",
   "execution_count": 35,
   "metadata": {
    "scrolled": true
   },
   "outputs": [
    {
     "data": {
      "text/html": [
       "<div>\n",
       "<style scoped>\n",
       "    .dataframe tbody tr th:only-of-type {\n",
       "        vertical-align: middle;\n",
       "    }\n",
       "\n",
       "    .dataframe tbody tr th {\n",
       "        vertical-align: top;\n",
       "    }\n",
       "\n",
       "    .dataframe thead th {\n",
       "        text-align: right;\n",
       "    }\n",
       "</style>\n",
       "<table border=\"1\" class=\"dataframe\">\n",
       "  <thead>\n",
       "    <tr style=\"text-align: right;\">\n",
       "      <th></th>\n",
       "      <th>price</th>\n",
       "      <th>city</th>\n",
       "      <th>longitude</th>\n",
       "      <th>latitude</th>\n",
       "      <th>review_scores_rating</th>\n",
       "      <th>number_of_reviews</th>\n",
       "      <th>minimum_nights</th>\n",
       "      <th>security_deposit</th>\n",
       "      <th>cleaning_fee</th>\n",
       "      <th>accommodates</th>\n",
       "      <th>...</th>\n",
       "      <th>bedrooms</th>\n",
       "      <th>beds</th>\n",
       "      <th>property_type</th>\n",
       "      <th>room_type</th>\n",
       "      <th>availability_365</th>\n",
       "      <th>host_identity_verified</th>\n",
       "      <th>host_is_superhost</th>\n",
       "      <th>host_since</th>\n",
       "      <th>cancellation_policy</th>\n",
       "      <th>city_code</th>\n",
       "    </tr>\n",
       "  </thead>\n",
       "  <tbody>\n",
       "    <tr>\n",
       "      <th>0</th>\n",
       "      <td>111.0</td>\n",
       "      <td>Darlinghurst</td>\n",
       "      <td>151.216541</td>\n",
       "      <td>-33.880455</td>\n",
       "      <td>88.0</td>\n",
       "      <td>272</td>\n",
       "      <td>2</td>\n",
       "      <td>0.0</td>\n",
       "      <td>0.0</td>\n",
       "      <td>2</td>\n",
       "      <td>...</td>\n",
       "      <td>1.0</td>\n",
       "      <td>1.0</td>\n",
       "      <td>Apartment</td>\n",
       "      <td>Private room</td>\n",
       "      <td>285</td>\n",
       "      <td>0</td>\n",
       "      <td>0</td>\n",
       "      <td>2009-03-12</td>\n",
       "      <td>strict_14_with_grace_period</td>\n",
       "      <td>3</td>\n",
       "    </tr>\n",
       "    <tr>\n",
       "      <th>1</th>\n",
       "      <td>700.0</td>\n",
       "      <td>Bondi Beach</td>\n",
       "      <td>151.274506</td>\n",
       "      <td>-33.889087</td>\n",
       "      <td>95.0</td>\n",
       "      <td>53</td>\n",
       "      <td>4</td>\n",
       "      <td>1500.0</td>\n",
       "      <td>370.0</td>\n",
       "      <td>11</td>\n",
       "      <td>...</td>\n",
       "      <td>5.0</td>\n",
       "      <td>7.0</td>\n",
       "      <td>House</td>\n",
       "      <td>Entire home/apt</td>\n",
       "      <td>255</td>\n",
       "      <td>0</td>\n",
       "      <td>0</td>\n",
       "      <td>2010-08-14</td>\n",
       "      <td>strict_14_with_grace_period</td>\n",
       "      <td>1</td>\n",
       "    </tr>\n",
       "    <tr>\n",
       "      <th>2</th>\n",
       "      <td>190.0</td>\n",
       "      <td>Bondi</td>\n",
       "      <td>151.271029</td>\n",
       "      <td>-33.897393</td>\n",
       "      <td>94.0</td>\n",
       "      <td>12</td>\n",
       "      <td>2</td>\n",
       "      <td>500.0</td>\n",
       "      <td>150.0</td>\n",
       "      <td>4</td>\n",
       "      <td>...</td>\n",
       "      <td>2.0</td>\n",
       "      <td>3.0</td>\n",
       "      <td>Apartment</td>\n",
       "      <td>Entire home/apt</td>\n",
       "      <td>233</td>\n",
       "      <td>0</td>\n",
       "      <td>0</td>\n",
       "      <td>2010-04-26</td>\n",
       "      <td>strict_14_with_grace_period</td>\n",
       "      <td>0</td>\n",
       "    </tr>\n",
       "    <tr>\n",
       "      <th>3</th>\n",
       "      <td>225.0</td>\n",
       "      <td>North Bondi</td>\n",
       "      <td>151.283553</td>\n",
       "      <td>-33.889633</td>\n",
       "      <td>79.0</td>\n",
       "      <td>16</td>\n",
       "      <td>2</td>\n",
       "      <td>500.0</td>\n",
       "      <td>130.0</td>\n",
       "      <td>4</td>\n",
       "      <td>...</td>\n",
       "      <td>2.0</td>\n",
       "      <td>2.0</td>\n",
       "      <td>Apartment</td>\n",
       "      <td>Entire home/apt</td>\n",
       "      <td>152</td>\n",
       "      <td>0</td>\n",
       "      <td>0</td>\n",
       "      <td>2010-04-26</td>\n",
       "      <td>strict_14_with_grace_period</td>\n",
       "      <td>6</td>\n",
       "    </tr>\n",
       "    <tr>\n",
       "      <th>4</th>\n",
       "      <td>130.0</td>\n",
       "      <td>Bondi Beach</td>\n",
       "      <td>151.273084</td>\n",
       "      <td>-33.891846</td>\n",
       "      <td>95.0</td>\n",
       "      <td>119</td>\n",
       "      <td>4</td>\n",
       "      <td>200.0</td>\n",
       "      <td>60.0</td>\n",
       "      <td>2</td>\n",
       "      <td>...</td>\n",
       "      <td>1.0</td>\n",
       "      <td>1.0</td>\n",
       "      <td>Apartment</td>\n",
       "      <td>Entire home/apt</td>\n",
       "      <td>94</td>\n",
       "      <td>0</td>\n",
       "      <td>0</td>\n",
       "      <td>2012-01-18</td>\n",
       "      <td>strict_14_with_grace_period</td>\n",
       "      <td>1</td>\n",
       "    </tr>\n",
       "  </tbody>\n",
       "</table>\n",
       "<p>5 rows × 21 columns</p>\n",
       "</div>"
      ],
      "text/plain": [
       "   price          city   longitude   latitude  review_scores_rating  \\\n",
       "0  111.0  Darlinghurst  151.216541 -33.880455                  88.0   \n",
       "1  700.0   Bondi Beach  151.274506 -33.889087                  95.0   \n",
       "2  190.0         Bondi  151.271029 -33.897393                  94.0   \n",
       "3  225.0   North Bondi  151.283553 -33.889633                  79.0   \n",
       "4  130.0   Bondi Beach  151.273084 -33.891846                  95.0   \n",
       "\n",
       "   number_of_reviews  minimum_nights  security_deposit  cleaning_fee  \\\n",
       "0                272               2               0.0           0.0   \n",
       "1                 53               4            1500.0         370.0   \n",
       "2                 12               2             500.0         150.0   \n",
       "3                 16               2             500.0         130.0   \n",
       "4                119               4             200.0          60.0   \n",
       "\n",
       "   accommodates  ...  bedrooms  beds  property_type        room_type  \\\n",
       "0             2  ...       1.0   1.0      Apartment     Private room   \n",
       "1            11  ...       5.0   7.0          House  Entire home/apt   \n",
       "2             4  ...       2.0   3.0      Apartment  Entire home/apt   \n",
       "3             4  ...       2.0   2.0      Apartment  Entire home/apt   \n",
       "4             2  ...       1.0   1.0      Apartment  Entire home/apt   \n",
       "\n",
       "  availability_365  host_identity_verified  host_is_superhost  host_since  \\\n",
       "0              285                       0                  0  2009-03-12   \n",
       "1              255                       0                  0  2010-08-14   \n",
       "2              233                       0                  0  2010-04-26   \n",
       "3              152                       0                  0  2010-04-26   \n",
       "4               94                       0                  0  2012-01-18   \n",
       "\n",
       "           cancellation_policy city_code  \n",
       "0  strict_14_with_grace_period         3  \n",
       "1  strict_14_with_grace_period         1  \n",
       "2  strict_14_with_grace_period         0  \n",
       "3  strict_14_with_grace_period         6  \n",
       "4  strict_14_with_grace_period         1  \n",
       "\n",
       "[5 rows x 21 columns]"
      ]
     },
     "execution_count": 35,
     "metadata": {},
     "output_type": "execute_result"
    }
   ],
   "source": [
    "df.head()"
   ]
  },
  {
   "cell_type": "markdown",
   "metadata": {},
   "source": [
    "### Validador cruzado de divisão aleatória estratificada\n",
    "\n",
    "Fornece índices de treinamento / teste para dividir dados em conjuntos de treinamento / teste.\n",
    "\n",
    "Esse objeto de validação cruzada é uma mesclagem de StratifiedKFold e ShuffleSplit, que retorna pastas aleatórias estratificadas. As pastas são feitas preservando a porcentagem de amostras para cada classe."
   ]
  },
  {
   "cell_type": "code",
   "execution_count": 56,
   "metadata": {},
   "outputs": [],
   "source": [
    "from sklearn.model_selection import StratifiedShuffleSplit\n",
    "\n",
    "## we will stratify according to city\n",
    "\n",
    "split = StratifiedShuffleSplit(n_splits=1, test_size=0.2, random_state=42)\n",
    "for train_index, test_index in split.split(df, df[\"city_code\"]):\n",
    "    del df[\"city_code\"]\n",
    "    strat_train_set = df.loc[train_index]\n",
    "    strat_test_set = df.loc[test_index]"
   ]
  },
  {
   "cell_type": "markdown",
   "metadata": {},
   "source": [
    "Verificando média de preços em cidades diferentes em uma amostra da população total deste dataset"
   ]
  },
  {
   "cell_type": "code",
   "execution_count": 66,
   "metadata": {},
   "outputs": [
    {
     "data": {
      "text/plain": [
       "city\n",
       "Bondi           198.745223\n",
       "Bondi Beach     199.879880\n",
       "Coogee          196.574627\n",
       "Darlinghurst    184.700000\n",
       "Manly           223.447368\n",
       "Newtown         117.938776\n",
       "North Bondi     248.857143\n",
       "Randwick        178.072993\n",
       "Surry Hills     175.732240\n",
       "Sydney          193.962687\n",
       "Name: price, dtype: float64"
      ]
     },
     "execution_count": 66,
     "metadata": {},
     "output_type": "execute_result"
    }
   ],
   "source": [
    "strat_test_set.groupby(\"city\")[\"price\"].mean()"
   ]
  },
  {
   "cell_type": "markdown",
   "metadata": {},
   "source": [
    "Agora iremos plotar um gráfico de dispersão das coordenadas de cada item presente no nosso dataset"
   ]
  },
  {
   "cell_type": "code",
   "execution_count": 67,
   "metadata": {},
   "outputs": [
    {
     "data": {
      "text/plain": [
       "<matplotlib.axes._subplots.AxesSubplot at 0x25e8fe76d30>"
      ]
     },
     "execution_count": 67,
     "metadata": {},
     "output_type": "execute_result"
    },
    {
     "data": {
      "image/png": "[encoded data removed]",
      "text/plain": [
       "<Figure size 432x288 with 1 Axes>"
      ]
     },
     "metadata": {
      "needs_background": "light"
     },
     "output_type": "display_data"
    }
   ],
   "source": [
    "traval = strat_train_set.copy()\n",
    "traval.plot(kind=\"scatter\", x=\"longitude\", y=\"latitude\")"
   ]
  },
  {
   "cell_type": "markdown",
   "metadata": {},
   "source": [
    "Adcicionando o parâmetro alpha na plotagem, podemos perceber que haverá uma descriminação de itens relacionados com sua densidade "
   ]
  },
  {
   "cell_type": "code",
   "execution_count": 68,
   "metadata": {},
   "outputs": [
    {
     "data": {
      "text/plain": [
       "<matplotlib.axes._subplots.AxesSubplot at 0x25e909e1240>"
      ]
     },
     "execution_count": 68,
     "metadata": {},
     "output_type": "execute_result"
    },
    {
     "data": {
      "image/png": "[encoded data removed]",
      "text/plain": [
       "<Figure size 432x288 with 1 Axes>"
      ]
     },
     "metadata": {
      "needs_background": "light"
     },
     "output_type": "display_data"
    }
   ],
   "source": [
    "traval.plot(kind=\"scatter\", x=\"longitude\", y=\"latitude\", alpha=0.1)"
   ]
  },
  {
   "cell_type": "markdown",
   "metadata": {},
   "source": [
    "Agora iremos criar uma janela para seleconar a área onde está a maioria das ocorrências das amostras do nosso modelo. Isso irá selecionar os dados mais precisos, justamente pela alta representabilidade das amostras em uma região que é mais densa."
   ]
  },
  {
   "cell_type": "code",
   "execution_count": 71,
   "metadata": {},
   "outputs": [],
   "source": [
    "traval_co = traval[(traval[\"longitude\"]>151.16)&(traval[\"latitude\"]<-33.75)].reset_index(drop=True)\n",
    "\n",
    "traval_co = traval_co[traval_co[\"latitude\"]>-33.95].reset_index(drop=True)"
   ]
  },
  {
   "cell_type": "code",
   "execution_count": 76,
   "metadata": {},
   "outputs": [
    {
     "data": {
      "image/png": "[encoded data removed]",
      "text/plain": [
       "<Figure size 432x288 with 1 Axes>"
      ]
     },
     "metadata": {
      "needs_background": "light"
     },
     "output_type": "display_data"
    }
   ],
   "source": [
    "sns.distplot(traval_co.price)\n",
    "plt.show()"
   ]
  },
  {
   "cell_type": "markdown",
   "metadata": {},
   "source": [
    "Para remover os Outliers, vamos limitar as localizações onde os preços estão abaixo de $600,00"
   ]
  },
  {
   "cell_type": "code",
   "execution_count": 77,
   "metadata": {},
   "outputs": [],
   "source": [
    "traval_co = traval_co[traval_co[\"price\"]<600].reset_index(drop=True)"
   ]
  },
  {
   "cell_type": "markdown",
   "metadata": {},
   "source": [
    "Para deixar a plotagem mais informativa, vamos adicionar uma escala de cor que irá descriminar as localizações de acordo com o preço, e também deixaremos mais evidente as localidades com maior quantidade de reviews."
   ]
  },
  {
   "cell_type": "code",
   "execution_count": 80,
   "metadata": {},
   "outputs": [
    {
     "data": {
      "image/png": "[encoded data removed]",
      "text/plain": [
       "<Figure size 720x504 with 2 Axes>"
      ]
     },
     "metadata": {
      "needs_background": "light"
     },
     "output_type": "display_data"
    }
   ],
   "source": [
    "traval_co.plot(kind=\"scatter\", x=\"longitude\", y=\"latitude\", alpha=0.5,\n",
    "    s=traval_co[\"number_of_reviews\"], label=\"Reviews\", figsize=(10,7),\n",
    "    c=\"price\", cmap=plt.get_cmap(\"jet\"), colorbar=True,\n",
    "    sharex=False)\n",
    "plt.legend()\n",
    "plt.show()"
   ]
  },
  {
   "cell_type": "markdown",
   "metadata": {},
   "source": [
    "***\n",
    "Vamos Explorar a matriz de correlação um pouco."
   ]
  },
  {
   "cell_type": "code",
   "execution_count": 89,
   "metadata": {},
   "outputs": [
    {
     "data": {
      "image/png": "[encoded data removed]",
      "text/plain": [
       "<Figure size 720x720 with 2 Axes>"
      ]
     },
     "metadata": {
      "needs_background": "light"
     },
     "output_type": "display_data"
    }
   ],
   "source": [
    "# Now let's explore our correlation matrix\n",
    "\n",
    "corr_matrix = traval.corr()\n",
    "\n",
    "mask = np.zeros_like(corr_matrix, dtype=np.bool)\n",
    "mask[np.triu_indices_from(mask)] = True\n",
    "# Heatmap\n",
    "plt.figure(figsize = (10,10))\n",
    "cmap = sns.diverging_palette(220,10,as_cmap = True)\n",
    "\n",
    "#Deep dive into diverging_pattern\n",
    "sns.heatmap(corr_matrix, mask=mask, xticklabels=corr_matrix.columns.values,\n",
    "           yticklabels=corr_matrix.columns.values, cmap=cmap, vmax=1, center=0, square=True, linewidths=.5, cbar_kws={\"shrink\": .82})\n",
    "plt.title('Mapa de Calor da Matriz de Correlação')\n",
    "plt.show()"
   ]
  },
  {
   "cell_type": "markdown",
   "metadata": {},
   "source": [
    "Itens que tem alta correlação com os preços:\n",
    "    - beds\n",
    "    - bedrooms\n",
    "    - bathrooms\n",
    "    - accomodates\n",
    "    - deaning fee\n",
    "    - security deposit\n",
    "    \n",
    "<i>Uma coisa bem interessante é que longitude tem uma alta correlação negativa com o número de reviews, e talvez isso possa está relacionada com o tipo de local, por exemplo, podemos estar falando sobre um ambiente rural."
   ]
  },
  {
   "cell_type": "markdown",
   "metadata": {},
   "source": [
    "vamos listar os níveis de correlação em ordem decrescente."
   ]
  },
  {
   "cell_type": "code",
   "execution_count": 90,
   "metadata": {},
   "outputs": [
    {
     "data": {
      "text/plain": [
       "price                     1.000000\n",
       "accommodates              0.674368\n",
       "bedrooms                  0.668963\n",
       "beds                      0.582378\n",
       "bathrooms                 0.553773\n",
       "cleaning_fee              0.529834\n",
       "security_deposit          0.469423\n",
       "longitude                 0.157902\n",
       "availability_365          0.148263\n",
       "latitude                  0.131160\n",
       "review_scores_rating      0.067066\n",
       "minimum_nights            0.022103\n",
       "number_of_reviews        -0.064011\n",
       "host_identity_verified         NaN\n",
       "host_is_superhost              NaN\n",
       "Name: price, dtype: float64"
      ]
     },
     "execution_count": 90,
     "metadata": {},
     "output_type": "execute_result"
    }
   ],
   "source": [
    "corr_matrix[\"price\"].sort_values(ascending=False)"
   ]
  },
  {
   "cell_type": "markdown",
   "metadata": {},
   "source": [
    "Criando uma matriz com gráficos de diperção, focando em 5 atributos."
   ]
  },
  {
   "cell_type": "code",
   "execution_count": 93,
   "metadata": {},
   "outputs": [
    {
     "data": {
      "image/png": "[encoded data removed]",
      "text/plain": [
       "<Figure size 864x576 with 25 Axes>"
      ]
     },
     "metadata": {
      "needs_background": "light"
     },
     "output_type": "display_data"
    }
   ],
   "source": [
    "from pandas.plotting import scatter_matrix\n",
    "\n",
    "attributes = [\"price\", \"accommodates\", \"bedrooms\",\n",
    "              \"cleaning_fee\",\"review_scores_rating\"]\n",
    "scatter_matrix(traval[attributes], figsize=(12, 8))\n",
    "plt.show()"
   ]
  },
  {
   "cell_type": "code",
   "execution_count": 95,
   "metadata": {},
   "outputs": [
    {
     "data": {
      "image/png": "[encoded data removed]",
      "text/plain": [
       "<Figure size 432x288 with 1 Axes>"
      ]
     },
     "metadata": {
      "needs_background": "light"
     },
     "output_type": "display_data"
    }
   ],
   "source": [
    "traval.plot(kind=\"scatter\", x=\"accommodates\", y=\"price\", alpha=0.1)\n",
    "plt.show()"
   ]
  },
  {
   "cell_type": "markdown",
   "metadata": {},
   "source": [
    "A maioria das acomodações suportam entre uma à seis pessoas, onde se observa a tendência de aumento do preço quanto mais pessoas são hospedadas nas acomodações. \n",
    "***\n",
    "Agora iremos fazer um trabalho de Feature Engineering e criando novas Features a partir da relação de outras Features já existentes em nosso dataset."
   ]
  },
  {
   "cell_type": "code",
   "execution_count": 97,
   "metadata": {},
   "outputs": [
    {
     "data": {
      "text/html": [
       "<div>\n",
       "<style scoped>\n",
       "    .dataframe tbody tr th:only-of-type {\n",
       "        vertical-align: middle;\n",
       "    }\n",
       "\n",
       "    .dataframe tbody tr th {\n",
       "        vertical-align: top;\n",
       "    }\n",
       "\n",
       "    .dataframe thead th {\n",
       "        text-align: right;\n",
       "    }\n",
       "</style>\n",
       "<table border=\"1\" class=\"dataframe\">\n",
       "  <thead>\n",
       "    <tr style=\"text-align: right;\">\n",
       "      <th></th>\n",
       "      <th>price</th>\n",
       "      <th>city</th>\n",
       "      <th>longitude</th>\n",
       "      <th>latitude</th>\n",
       "      <th>review_scores_rating</th>\n",
       "      <th>number_of_reviews</th>\n",
       "      <th>minimum_nights</th>\n",
       "      <th>security_deposit</th>\n",
       "      <th>cleaning_fee</th>\n",
       "      <th>accommodates</th>\n",
       "      <th>...</th>\n",
       "      <th>property_type</th>\n",
       "      <th>room_type</th>\n",
       "      <th>availability_365</th>\n",
       "      <th>host_identity_verified</th>\n",
       "      <th>host_is_superhost</th>\n",
       "      <th>host_since</th>\n",
       "      <th>cancellation_policy</th>\n",
       "      <th>bedrooms_per_person</th>\n",
       "      <th>bathrooms_per_person</th>\n",
       "      <th>days_on_airbnb</th>\n",
       "    </tr>\n",
       "  </thead>\n",
       "  <tbody>\n",
       "    <tr>\n",
       "      <th>5484</th>\n",
       "      <td>200.0</td>\n",
       "      <td>Newtown</td>\n",
       "      <td>151.178552</td>\n",
       "      <td>-33.907150</td>\n",
       "      <td>96.0</td>\n",
       "      <td>61</td>\n",
       "      <td>2</td>\n",
       "      <td>250.0</td>\n",
       "      <td>85.0</td>\n",
       "      <td>4</td>\n",
       "      <td>...</td>\n",
       "      <td>House</td>\n",
       "      <td>Entire home/apt</td>\n",
       "      <td>127</td>\n",
       "      <td>0</td>\n",
       "      <td>0</td>\n",
       "      <td>2016-01-22</td>\n",
       "      <td>moderate</td>\n",
       "      <td>0.500000</td>\n",
       "      <td>0.250000</td>\n",
       "      <td>1458.0</td>\n",
       "    </tr>\n",
       "    <tr>\n",
       "      <th>1267</th>\n",
       "      <td>183.0</td>\n",
       "      <td>Randwick</td>\n",
       "      <td>151.249030</td>\n",
       "      <td>-33.906190</td>\n",
       "      <td>97.0</td>\n",
       "      <td>6</td>\n",
       "      <td>4</td>\n",
       "      <td>0.0</td>\n",
       "      <td>20.0</td>\n",
       "      <td>2</td>\n",
       "      <td>...</td>\n",
       "      <td>Apartment</td>\n",
       "      <td>Private room</td>\n",
       "      <td>0</td>\n",
       "      <td>0</td>\n",
       "      <td>0</td>\n",
       "      <td>2014-03-28</td>\n",
       "      <td>moderate</td>\n",
       "      <td>0.500000</td>\n",
       "      <td>0.500000</td>\n",
       "      <td>2123.0</td>\n",
       "    </tr>\n",
       "    <tr>\n",
       "      <th>6658</th>\n",
       "      <td>175.0</td>\n",
       "      <td>Manly</td>\n",
       "      <td>151.288491</td>\n",
       "      <td>-33.802074</td>\n",
       "      <td>100.0</td>\n",
       "      <td>2</td>\n",
       "      <td>2</td>\n",
       "      <td>0.0</td>\n",
       "      <td>40.0</td>\n",
       "      <td>2</td>\n",
       "      <td>...</td>\n",
       "      <td>Apartment</td>\n",
       "      <td>Entire home/apt</td>\n",
       "      <td>0</td>\n",
       "      <td>0</td>\n",
       "      <td>0</td>\n",
       "      <td>2014-01-09</td>\n",
       "      <td>strict_14_with_grace_period</td>\n",
       "      <td>0.500000</td>\n",
       "      <td>0.500000</td>\n",
       "      <td>2201.0</td>\n",
       "    </tr>\n",
       "    <tr>\n",
       "      <th>2522</th>\n",
       "      <td>85.0</td>\n",
       "      <td>Randwick</td>\n",
       "      <td>151.236423</td>\n",
       "      <td>-33.913614</td>\n",
       "      <td>94.0</td>\n",
       "      <td>20</td>\n",
       "      <td>3</td>\n",
       "      <td>0.0</td>\n",
       "      <td>0.0</td>\n",
       "      <td>2</td>\n",
       "      <td>...</td>\n",
       "      <td>Apartment</td>\n",
       "      <td>Private room</td>\n",
       "      <td>90</td>\n",
       "      <td>0</td>\n",
       "      <td>0</td>\n",
       "      <td>2015-11-22</td>\n",
       "      <td>flexible</td>\n",
       "      <td>0.500000</td>\n",
       "      <td>0.500000</td>\n",
       "      <td>1519.0</td>\n",
       "    </tr>\n",
       "    <tr>\n",
       "      <th>722</th>\n",
       "      <td>80.0</td>\n",
       "      <td>Coogee</td>\n",
       "      <td>151.259342</td>\n",
       "      <td>-33.918435</td>\n",
       "      <td>92.0</td>\n",
       "      <td>139</td>\n",
       "      <td>30</td>\n",
       "      <td>0.0</td>\n",
       "      <td>0.0</td>\n",
       "      <td>3</td>\n",
       "      <td>...</td>\n",
       "      <td>Apartment</td>\n",
       "      <td>Private room</td>\n",
       "      <td>0</td>\n",
       "      <td>0</td>\n",
       "      <td>0</td>\n",
       "      <td>2014-01-07</td>\n",
       "      <td>strict_14_with_grace_period</td>\n",
       "      <td>0.333333</td>\n",
       "      <td>0.333333</td>\n",
       "      <td>2203.0</td>\n",
       "    </tr>\n",
       "  </tbody>\n",
       "</table>\n",
       "<p>5 rows × 23 columns</p>\n",
       "</div>"
      ],
      "text/plain": [
       "      price      city   longitude   latitude  review_scores_rating  \\\n",
       "5484  200.0   Newtown  151.178552 -33.907150                  96.0   \n",
       "1267  183.0  Randwick  151.249030 -33.906190                  97.0   \n",
       "6658  175.0     Manly  151.288491 -33.802074                 100.0   \n",
       "2522   85.0  Randwick  151.236423 -33.913614                  94.0   \n",
       "722    80.0    Coogee  151.259342 -33.918435                  92.0   \n",
       "\n",
       "      number_of_reviews  minimum_nights  security_deposit  cleaning_fee  \\\n",
       "5484                 61               2             250.0          85.0   \n",
       "1267                  6               4               0.0          20.0   \n",
       "6658                  2               2               0.0          40.0   \n",
       "2522                 20               3               0.0           0.0   \n",
       "722                 139              30               0.0           0.0   \n",
       "\n",
       "      accommodates  ...  property_type        room_type  availability_365  \\\n",
       "5484             4  ...          House  Entire home/apt               127   \n",
       "1267             2  ...      Apartment     Private room                 0   \n",
       "6658             2  ...      Apartment  Entire home/apt                 0   \n",
       "2522             2  ...      Apartment     Private room                90   \n",
       "722              3  ...      Apartment     Private room                 0   \n",
       "\n",
       "     host_identity_verified host_is_superhost  host_since  \\\n",
       "5484                      0                 0  2016-01-22   \n",
       "1267                      0                 0  2014-03-28   \n",
       "6658                      0                 0  2014-01-09   \n",
       "2522                      0                 0  2015-11-22   \n",
       "722                       0                 0  2014-01-07   \n",
       "\n",
       "              cancellation_policy  bedrooms_per_person bathrooms_per_person  \\\n",
       "5484                     moderate             0.500000             0.250000   \n",
       "1267                     moderate             0.500000             0.500000   \n",
       "6658  strict_14_with_grace_period             0.500000             0.500000   \n",
       "2522                     flexible             0.500000             0.500000   \n",
       "722   strict_14_with_grace_period             0.333333             0.333333   \n",
       "\n",
       "     days_on_airbnb  \n",
       "5484         1458.0  \n",
       "1267         2123.0  \n",
       "6658         2201.0  \n",
       "2522         1519.0  \n",
       "722          2203.0  \n",
       "\n",
       "[5 rows x 23 columns]"
      ]
     },
     "execution_count": 97,
     "metadata": {},
     "output_type": "execute_result"
    }
   ],
   "source": [
    "traval[\"bedrooms_per_person\"] = traval[\"bedrooms\"]/traval[\"accommodates\"]\n",
    "traval[\"bathrooms_per_person\"] = traval[\"bathrooms\"]/traval[\"accommodates\"]\n",
    "traval['host_since'] = pd.to_datetime(traval['host_since'])\n",
    "traval['days_on_airbnb'] = (pd.to_datetime('today') - traval['host_since']).dt.days\n",
    "traval.head()"
   ]
  },
  {
   "cell_type": "markdown",
   "metadata": {},
   "source": [
    "## Preparando os dados para os Modelos de Machine Learning"
   ]
  },
  {
   "cell_type": "code",
   "execution_count": 98,
   "metadata": {},
   "outputs": [],
   "source": [
    " X  = traval.copy().drop(\"price\", axis=1)"
   ]
  },
  {
   "cell_type": "markdown",
   "metadata": {},
   "source": [
    "**Para fins didáticos, vamos mostrar alternativas de como podemos tratar valores ausentes**\n",
    "***\n",
    "Aqui estamos separando as primeiras cinco linhas para testar as metodologias."
   ]
  },
  {
   "cell_type": "code",
   "execution_count": 109,
   "metadata": {
    "scrolled": false
   },
   "outputs": [
    {
     "name": "stdout",
     "output_type": "stream",
     "text": [
      "(5, 22)\n"
     ]
    },
    {
     "data": {
      "text/html": [
       "<div>\n",
       "<style scoped>\n",
       "    .dataframe tbody tr th:only-of-type {\n",
       "        vertical-align: middle;\n",
       "    }\n",
       "\n",
       "    .dataframe tbody tr th {\n",
       "        vertical-align: top;\n",
       "    }\n",
       "\n",
       "    .dataframe thead th {\n",
       "        text-align: right;\n",
       "    }\n",
       "</style>\n",
       "<table border=\"1\" class=\"dataframe\">\n",
       "  <thead>\n",
       "    <tr style=\"text-align: right;\">\n",
       "      <th></th>\n",
       "      <th>city</th>\n",
       "      <th>longitude</th>\n",
       "      <th>latitude</th>\n",
       "      <th>review_scores_rating</th>\n",
       "      <th>number_of_reviews</th>\n",
       "      <th>minimum_nights</th>\n",
       "      <th>security_deposit</th>\n",
       "      <th>cleaning_fee</th>\n",
       "      <th>accommodates</th>\n",
       "      <th>bathrooms</th>\n",
       "      <th>...</th>\n",
       "      <th>property_type</th>\n",
       "      <th>room_type</th>\n",
       "      <th>availability_365</th>\n",
       "      <th>host_identity_verified</th>\n",
       "      <th>host_is_superhost</th>\n",
       "      <th>host_since</th>\n",
       "      <th>cancellation_policy</th>\n",
       "      <th>bedrooms_per_person</th>\n",
       "      <th>bathrooms_per_person</th>\n",
       "      <th>days_on_airbnb</th>\n",
       "    </tr>\n",
       "  </thead>\n",
       "  <tbody>\n",
       "    <tr>\n",
       "      <th>5594</th>\n",
       "      <td>Randwick</td>\n",
       "      <td>151.238806</td>\n",
       "      <td>-33.913834</td>\n",
       "      <td>NaN</td>\n",
       "      <td>0</td>\n",
       "      <td>2</td>\n",
       "      <td>800.0</td>\n",
       "      <td>80.0</td>\n",
       "      <td>6</td>\n",
       "      <td>1.0</td>\n",
       "      <td>...</td>\n",
       "      <td>House</td>\n",
       "      <td>Entire home/apt</td>\n",
       "      <td>0</td>\n",
       "      <td>0</td>\n",
       "      <td>0</td>\n",
       "      <td>2013-11-27</td>\n",
       "      <td>moderate</td>\n",
       "      <td>0.500000</td>\n",
       "      <td>0.166667</td>\n",
       "      <td>2244.0</td>\n",
       "    </tr>\n",
       "    <tr>\n",
       "      <th>5439</th>\n",
       "      <td>Newtown</td>\n",
       "      <td>151.184469</td>\n",
       "      <td>-33.894582</td>\n",
       "      <td>NaN</td>\n",
       "      <td>0</td>\n",
       "      <td>3</td>\n",
       "      <td>5000.0</td>\n",
       "      <td>100.0</td>\n",
       "      <td>11</td>\n",
       "      <td>2.0</td>\n",
       "      <td>...</td>\n",
       "      <td>Apartment</td>\n",
       "      <td>Entire home/apt</td>\n",
       "      <td>0</td>\n",
       "      <td>0</td>\n",
       "      <td>0</td>\n",
       "      <td>2014-07-16</td>\n",
       "      <td>strict_14_with_grace_period</td>\n",
       "      <td>0.272727</td>\n",
       "      <td>0.181818</td>\n",
       "      <td>2013.0</td>\n",
       "    </tr>\n",
       "    <tr>\n",
       "      <th>3847</th>\n",
       "      <td>Bondi Beach</td>\n",
       "      <td>151.273077</td>\n",
       "      <td>-33.895142</td>\n",
       "      <td>NaN</td>\n",
       "      <td>0</td>\n",
       "      <td>7</td>\n",
       "      <td>271.0</td>\n",
       "      <td>27.0</td>\n",
       "      <td>2</td>\n",
       "      <td>1.0</td>\n",
       "      <td>...</td>\n",
       "      <td>Apartment</td>\n",
       "      <td>Private room</td>\n",
       "      <td>0</td>\n",
       "      <td>0</td>\n",
       "      <td>0</td>\n",
       "      <td>2015-12-07</td>\n",
       "      <td>strict_14_with_grace_period</td>\n",
       "      <td>0.500000</td>\n",
       "      <td>0.500000</td>\n",
       "      <td>1504.0</td>\n",
       "    </tr>\n",
       "    <tr>\n",
       "      <th>1312</th>\n",
       "      <td>Randwick</td>\n",
       "      <td>151.245793</td>\n",
       "      <td>-33.920622</td>\n",
       "      <td>NaN</td>\n",
       "      <td>0</td>\n",
       "      <td>3</td>\n",
       "      <td>0.0</td>\n",
       "      <td>80.0</td>\n",
       "      <td>3</td>\n",
       "      <td>1.0</td>\n",
       "      <td>...</td>\n",
       "      <td>Apartment</td>\n",
       "      <td>Entire home/apt</td>\n",
       "      <td>0</td>\n",
       "      <td>0</td>\n",
       "      <td>0</td>\n",
       "      <td>2015-10-02</td>\n",
       "      <td>strict_14_with_grace_period</td>\n",
       "      <td>0.666667</td>\n",
       "      <td>0.333333</td>\n",
       "      <td>1570.0</td>\n",
       "    </tr>\n",
       "    <tr>\n",
       "      <th>6194</th>\n",
       "      <td>Bondi Beach</td>\n",
       "      <td>151.273411</td>\n",
       "      <td>-33.888113</td>\n",
       "      <td>NaN</td>\n",
       "      <td>0</td>\n",
       "      <td>10</td>\n",
       "      <td>0.0</td>\n",
       "      <td>0.0</td>\n",
       "      <td>2</td>\n",
       "      <td>1.0</td>\n",
       "      <td>...</td>\n",
       "      <td>Apartment</td>\n",
       "      <td>Private room</td>\n",
       "      <td>0</td>\n",
       "      <td>0</td>\n",
       "      <td>0</td>\n",
       "      <td>2015-08-14</td>\n",
       "      <td>moderate</td>\n",
       "      <td>0.500000</td>\n",
       "      <td>0.500000</td>\n",
       "      <td>1619.0</td>\n",
       "    </tr>\n",
       "  </tbody>\n",
       "</table>\n",
       "<p>5 rows × 22 columns</p>\n",
       "</div>"
      ],
      "text/plain": [
       "             city   longitude   latitude  review_scores_rating  \\\n",
       "5594     Randwick  151.238806 -33.913834                   NaN   \n",
       "5439      Newtown  151.184469 -33.894582                   NaN   \n",
       "3847  Bondi Beach  151.273077 -33.895142                   NaN   \n",
       "1312     Randwick  151.245793 -33.920622                   NaN   \n",
       "6194  Bondi Beach  151.273411 -33.888113                   NaN   \n",
       "\n",
       "      number_of_reviews  minimum_nights  security_deposit  cleaning_fee  \\\n",
       "5594                  0               2             800.0          80.0   \n",
       "5439                  0               3            5000.0         100.0   \n",
       "3847                  0               7             271.0          27.0   \n",
       "1312                  0               3               0.0          80.0   \n",
       "6194                  0              10               0.0           0.0   \n",
       "\n",
       "      accommodates  bathrooms  ...  property_type        room_type  \\\n",
       "5594             6        1.0  ...          House  Entire home/apt   \n",
       "5439            11        2.0  ...      Apartment  Entire home/apt   \n",
       "3847             2        1.0  ...      Apartment     Private room   \n",
       "1312             3        1.0  ...      Apartment  Entire home/apt   \n",
       "6194             2        1.0  ...      Apartment     Private room   \n",
       "\n",
       "     availability_365 host_identity_verified  host_is_superhost  host_since  \\\n",
       "5594                0                      0                  0  2013-11-27   \n",
       "5439                0                      0                  0  2014-07-16   \n",
       "3847                0                      0                  0  2015-12-07   \n",
       "1312                0                      0                  0  2015-10-02   \n",
       "6194                0                      0                  0  2015-08-14   \n",
       "\n",
       "              cancellation_policy bedrooms_per_person bathrooms_per_person  \\\n",
       "5594                     moderate            0.500000             0.166667   \n",
       "5439  strict_14_with_grace_period            0.272727             0.181818   \n",
       "3847  strict_14_with_grace_period            0.500000             0.500000   \n",
       "1312  strict_14_with_grace_period            0.666667             0.333333   \n",
       "6194                     moderate            0.500000             0.500000   \n",
       "\n",
       "      days_on_airbnb  \n",
       "5594          2244.0  \n",
       "5439          2013.0  \n",
       "3847          1504.0  \n",
       "1312          1570.0  \n",
       "6194          1619.0  \n",
       "\n",
       "[5 rows x 22 columns]"
      ]
     },
     "execution_count": 109,
     "metadata": {},
     "output_type": "execute_result"
    }
   ],
   "source": [
    "sample_incomplete_rows = X[X.isnull().any(axis=1)].head()\n",
    "print(sample_incomplete_rows.shape)\n",
    "sample_incomplete_rows"
   ]
  },
  {
   "cell_type": "markdown",
   "metadata": {},
   "source": [
    " >Opção 1 -Remover as linhas"
   ]
  },
  {
   "cell_type": "code",
   "execution_count": 112,
   "metadata": {},
   "outputs": [
    {
     "data": {
      "text/html": [
       "<div>\n",
       "<style scoped>\n",
       "    .dataframe tbody tr th:only-of-type {\n",
       "        vertical-align: middle;\n",
       "    }\n",
       "\n",
       "    .dataframe tbody tr th {\n",
       "        vertical-align: top;\n",
       "    }\n",
       "\n",
       "    .dataframe thead th {\n",
       "        text-align: right;\n",
       "    }\n",
       "</style>\n",
       "<table border=\"1\" class=\"dataframe\">\n",
       "  <thead>\n",
       "    <tr style=\"text-align: right;\">\n",
       "      <th></th>\n",
       "      <th>city</th>\n",
       "      <th>longitude</th>\n",
       "      <th>latitude</th>\n",
       "      <th>review_scores_rating</th>\n",
       "      <th>number_of_reviews</th>\n",
       "      <th>minimum_nights</th>\n",
       "      <th>security_deposit</th>\n",
       "      <th>cleaning_fee</th>\n",
       "      <th>accommodates</th>\n",
       "      <th>bathrooms</th>\n",
       "      <th>...</th>\n",
       "      <th>property_type</th>\n",
       "      <th>room_type</th>\n",
       "      <th>availability_365</th>\n",
       "      <th>host_identity_verified</th>\n",
       "      <th>host_is_superhost</th>\n",
       "      <th>host_since</th>\n",
       "      <th>cancellation_policy</th>\n",
       "      <th>bedrooms_per_person</th>\n",
       "      <th>bathrooms_per_person</th>\n",
       "      <th>days_on_airbnb</th>\n",
       "    </tr>\n",
       "  </thead>\n",
       "  <tbody>\n",
       "  </tbody>\n",
       "</table>\n",
       "<p>0 rows × 22 columns</p>\n",
       "</div>"
      ],
      "text/plain": [
       "Empty DataFrame\n",
       "Columns: [city, longitude, latitude, review_scores_rating, number_of_reviews, minimum_nights, security_deposit, cleaning_fee, accommodates, bathrooms, bedrooms, beds, property_type, room_type, availability_365, host_identity_verified, host_is_superhost, host_since, cancellation_policy, bedrooms_per_person, bathrooms_per_person, days_on_airbnb]\n",
       "Index: []\n",
       "\n",
       "[0 rows x 22 columns]"
      ]
     },
     "execution_count": 112,
     "metadata": {},
     "output_type": "execute_result"
    }
   ],
   "source": [
    "sample_incomplete_rows.dropna(subset=[\"review_scores_rating\"])"
   ]
  },
  {
   "cell_type": "markdown",
   "metadata": {},
   "source": [
    "A depender do tamanho do dataset e da quantidade de linhas com valores faltando, podemos optar por essa opção.\n",
    "***\n",
    " >Opção 2 -Remover coluna"
   ]
  },
  {
   "cell_type": "code",
   "execution_count": 106,
   "metadata": {
    "scrolled": true
   },
   "outputs": [
    {
     "data": {
      "text/html": [
       "<div>\n",
       "<style scoped>\n",
       "    .dataframe tbody tr th:only-of-type {\n",
       "        vertical-align: middle;\n",
       "    }\n",
       "\n",
       "    .dataframe tbody tr th {\n",
       "        vertical-align: top;\n",
       "    }\n",
       "\n",
       "    .dataframe thead th {\n",
       "        text-align: right;\n",
       "    }\n",
       "</style>\n",
       "<table border=\"1\" class=\"dataframe\">\n",
       "  <thead>\n",
       "    <tr style=\"text-align: right;\">\n",
       "      <th></th>\n",
       "      <th>city</th>\n",
       "      <th>longitude</th>\n",
       "      <th>latitude</th>\n",
       "      <th>number_of_reviews</th>\n",
       "      <th>minimum_nights</th>\n",
       "      <th>security_deposit</th>\n",
       "      <th>cleaning_fee</th>\n",
       "      <th>accommodates</th>\n",
       "      <th>bathrooms</th>\n",
       "      <th>bedrooms</th>\n",
       "      <th>...</th>\n",
       "      <th>property_type</th>\n",
       "      <th>room_type</th>\n",
       "      <th>availability_365</th>\n",
       "      <th>host_identity_verified</th>\n",
       "      <th>host_is_superhost</th>\n",
       "      <th>host_since</th>\n",
       "      <th>cancellation_policy</th>\n",
       "      <th>bedrooms_per_person</th>\n",
       "      <th>bathrooms_per_person</th>\n",
       "      <th>days_on_airbnb</th>\n",
       "    </tr>\n",
       "  </thead>\n",
       "  <tbody>\n",
       "    <tr>\n",
       "      <th>5594</th>\n",
       "      <td>Randwick</td>\n",
       "      <td>151.238806</td>\n",
       "      <td>-33.913834</td>\n",
       "      <td>0</td>\n",
       "      <td>2</td>\n",
       "      <td>800.0</td>\n",
       "      <td>80.0</td>\n",
       "      <td>6</td>\n",
       "      <td>1.0</td>\n",
       "      <td>3.0</td>\n",
       "      <td>...</td>\n",
       "      <td>House</td>\n",
       "      <td>Entire home/apt</td>\n",
       "      <td>0</td>\n",
       "      <td>0</td>\n",
       "      <td>0</td>\n",
       "      <td>2013-11-27</td>\n",
       "      <td>moderate</td>\n",
       "      <td>0.500000</td>\n",
       "      <td>0.166667</td>\n",
       "      <td>2244.0</td>\n",
       "    </tr>\n",
       "    <tr>\n",
       "      <th>5439</th>\n",
       "      <td>Newtown</td>\n",
       "      <td>151.184469</td>\n",
       "      <td>-33.894582</td>\n",
       "      <td>0</td>\n",
       "      <td>3</td>\n",
       "      <td>5000.0</td>\n",
       "      <td>100.0</td>\n",
       "      <td>11</td>\n",
       "      <td>2.0</td>\n",
       "      <td>3.0</td>\n",
       "      <td>...</td>\n",
       "      <td>Apartment</td>\n",
       "      <td>Entire home/apt</td>\n",
       "      <td>0</td>\n",
       "      <td>0</td>\n",
       "      <td>0</td>\n",
       "      <td>2014-07-16</td>\n",
       "      <td>strict_14_with_grace_period</td>\n",
       "      <td>0.272727</td>\n",
       "      <td>0.181818</td>\n",
       "      <td>2013.0</td>\n",
       "    </tr>\n",
       "    <tr>\n",
       "      <th>3847</th>\n",
       "      <td>Bondi Beach</td>\n",
       "      <td>151.273077</td>\n",
       "      <td>-33.895142</td>\n",
       "      <td>0</td>\n",
       "      <td>7</td>\n",
       "      <td>271.0</td>\n",
       "      <td>27.0</td>\n",
       "      <td>2</td>\n",
       "      <td>1.0</td>\n",
       "      <td>1.0</td>\n",
       "      <td>...</td>\n",
       "      <td>Apartment</td>\n",
       "      <td>Private room</td>\n",
       "      <td>0</td>\n",
       "      <td>0</td>\n",
       "      <td>0</td>\n",
       "      <td>2015-12-07</td>\n",
       "      <td>strict_14_with_grace_period</td>\n",
       "      <td>0.500000</td>\n",
       "      <td>0.500000</td>\n",
       "      <td>1504.0</td>\n",
       "    </tr>\n",
       "    <tr>\n",
       "      <th>1312</th>\n",
       "      <td>Randwick</td>\n",
       "      <td>151.245793</td>\n",
       "      <td>-33.920622</td>\n",
       "      <td>0</td>\n",
       "      <td>3</td>\n",
       "      <td>0.0</td>\n",
       "      <td>80.0</td>\n",
       "      <td>3</td>\n",
       "      <td>1.0</td>\n",
       "      <td>2.0</td>\n",
       "      <td>...</td>\n",
       "      <td>Apartment</td>\n",
       "      <td>Entire home/apt</td>\n",
       "      <td>0</td>\n",
       "      <td>0</td>\n",
       "      <td>0</td>\n",
       "      <td>2015-10-02</td>\n",
       "      <td>strict_14_with_grace_period</td>\n",
       "      <td>0.666667</td>\n",
       "      <td>0.333333</td>\n",
       "      <td>1570.0</td>\n",
       "    </tr>\n",
       "    <tr>\n",
       "      <th>6194</th>\n",
       "      <td>Bondi Beach</td>\n",
       "      <td>151.273411</td>\n",
       "      <td>-33.888113</td>\n",
       "      <td>0</td>\n",
       "      <td>10</td>\n",
       "      <td>0.0</td>\n",
       "      <td>0.0</td>\n",
       "      <td>2</td>\n",
       "      <td>1.0</td>\n",
       "      <td>1.0</td>\n",
       "      <td>...</td>\n",
       "      <td>Apartment</td>\n",
       "      <td>Private room</td>\n",
       "      <td>0</td>\n",
       "      <td>0</td>\n",
       "      <td>0</td>\n",
       "      <td>2015-08-14</td>\n",
       "      <td>moderate</td>\n",
       "      <td>0.500000</td>\n",
       "      <td>0.500000</td>\n",
       "      <td>1619.0</td>\n",
       "    </tr>\n",
       "  </tbody>\n",
       "</table>\n",
       "<p>5 rows × 21 columns</p>\n",
       "</div>"
      ],
      "text/plain": [
       "             city   longitude   latitude  number_of_reviews  minimum_nights  \\\n",
       "5594     Randwick  151.238806 -33.913834                  0               2   \n",
       "5439      Newtown  151.184469 -33.894582                  0               3   \n",
       "3847  Bondi Beach  151.273077 -33.895142                  0               7   \n",
       "1312     Randwick  151.245793 -33.920622                  0               3   \n",
       "6194  Bondi Beach  151.273411 -33.888113                  0              10   \n",
       "\n",
       "      security_deposit  cleaning_fee  accommodates  bathrooms  bedrooms  ...  \\\n",
       "5594             800.0          80.0             6        1.0       3.0  ...   \n",
       "5439            5000.0         100.0            11        2.0       3.0  ...   \n",
       "3847             271.0          27.0             2        1.0       1.0  ...   \n",
       "1312               0.0          80.0             3        1.0       2.0  ...   \n",
       "6194               0.0           0.0             2        1.0       1.0  ...   \n",
       "\n",
       "      property_type        room_type availability_365  host_identity_verified  \\\n",
       "5594          House  Entire home/apt                0                       0   \n",
       "5439      Apartment  Entire home/apt                0                       0   \n",
       "3847      Apartment     Private room                0                       0   \n",
       "1312      Apartment  Entire home/apt                0                       0   \n",
       "6194      Apartment     Private room                0                       0   \n",
       "\n",
       "      host_is_superhost  host_since          cancellation_policy  \\\n",
       "5594                  0  2013-11-27                     moderate   \n",
       "5439                  0  2014-07-16  strict_14_with_grace_period   \n",
       "3847                  0  2015-12-07  strict_14_with_grace_period   \n",
       "1312                  0  2015-10-02  strict_14_with_grace_period   \n",
       "6194                  0  2015-08-14                     moderate   \n",
       "\n",
       "     bedrooms_per_person  bathrooms_per_person  days_on_airbnb  \n",
       "5594            0.500000              0.166667          2244.0  \n",
       "5439            0.272727              0.181818          2013.0  \n",
       "3847            0.500000              0.500000          1504.0  \n",
       "1312            0.666667              0.333333          1570.0  \n",
       "6194            0.500000              0.500000          1619.0  \n",
       "\n",
       "[5 rows x 21 columns]"
      ]
     },
     "execution_count": 106,
     "metadata": {},
     "output_type": "execute_result"
    }
   ],
   "source": [
    "# Columns Remove\n",
    "sample_incomplete_rows.drop([\"review_scores_rating\"], axis=1)       # option 2"
   ]
  },
  {
   "cell_type": "markdown",
   "metadata": {},
   "source": [
    "Apenas optaremos por fazer isso se a quantidade de valores ausentes for bastante alta e também se a seguinte característica não apresenta grande impacto nos valores de predição do modelo.\n",
    "***\n",
    " >Opção 3 -Preencher com valores de mediana"
   ]
  },
  {
   "cell_type": "code",
   "execution_count": 107,
   "metadata": {},
   "outputs": [
    {
     "data": {
      "text/html": [
       "<div>\n",
       "<style scoped>\n",
       "    .dataframe tbody tr th:only-of-type {\n",
       "        vertical-align: middle;\n",
       "    }\n",
       "\n",
       "    .dataframe tbody tr th {\n",
       "        vertical-align: top;\n",
       "    }\n",
       "\n",
       "    .dataframe thead th {\n",
       "        text-align: right;\n",
       "    }\n",
       "</style>\n",
       "<table border=\"1\" class=\"dataframe\">\n",
       "  <thead>\n",
       "    <tr style=\"text-align: right;\">\n",
       "      <th></th>\n",
       "      <th>city</th>\n",
       "      <th>longitude</th>\n",
       "      <th>latitude</th>\n",
       "      <th>review_scores_rating</th>\n",
       "      <th>number_of_reviews</th>\n",
       "      <th>minimum_nights</th>\n",
       "      <th>security_deposit</th>\n",
       "      <th>cleaning_fee</th>\n",
       "      <th>accommodates</th>\n",
       "      <th>bathrooms</th>\n",
       "      <th>...</th>\n",
       "      <th>property_type</th>\n",
       "      <th>room_type</th>\n",
       "      <th>availability_365</th>\n",
       "      <th>host_identity_verified</th>\n",
       "      <th>host_is_superhost</th>\n",
       "      <th>host_since</th>\n",
       "      <th>cancellation_policy</th>\n",
       "      <th>bedrooms_per_person</th>\n",
       "      <th>bathrooms_per_person</th>\n",
       "      <th>days_on_airbnb</th>\n",
       "    </tr>\n",
       "  </thead>\n",
       "  <tbody>\n",
       "    <tr>\n",
       "      <th>5594</th>\n",
       "      <td>Randwick</td>\n",
       "      <td>151.238806</td>\n",
       "      <td>-33.913834</td>\n",
       "      <td>96.0</td>\n",
       "      <td>0</td>\n",
       "      <td>2</td>\n",
       "      <td>800.0</td>\n",
       "      <td>80.0</td>\n",
       "      <td>6</td>\n",
       "      <td>1.0</td>\n",
       "      <td>...</td>\n",
       "      <td>House</td>\n",
       "      <td>Entire home/apt</td>\n",
       "      <td>0</td>\n",
       "      <td>0</td>\n",
       "      <td>0</td>\n",
       "      <td>2013-11-27</td>\n",
       "      <td>moderate</td>\n",
       "      <td>0.500000</td>\n",
       "      <td>0.166667</td>\n",
       "      <td>2244.0</td>\n",
       "    </tr>\n",
       "    <tr>\n",
       "      <th>5439</th>\n",
       "      <td>Newtown</td>\n",
       "      <td>151.184469</td>\n",
       "      <td>-33.894582</td>\n",
       "      <td>96.0</td>\n",
       "      <td>0</td>\n",
       "      <td>3</td>\n",
       "      <td>5000.0</td>\n",
       "      <td>100.0</td>\n",
       "      <td>11</td>\n",
       "      <td>2.0</td>\n",
       "      <td>...</td>\n",
       "      <td>Apartment</td>\n",
       "      <td>Entire home/apt</td>\n",
       "      <td>0</td>\n",
       "      <td>0</td>\n",
       "      <td>0</td>\n",
       "      <td>2014-07-16</td>\n",
       "      <td>strict_14_with_grace_period</td>\n",
       "      <td>0.272727</td>\n",
       "      <td>0.181818</td>\n",
       "      <td>2013.0</td>\n",
       "    </tr>\n",
       "    <tr>\n",
       "      <th>3847</th>\n",
       "      <td>Bondi Beach</td>\n",
       "      <td>151.273077</td>\n",
       "      <td>-33.895142</td>\n",
       "      <td>96.0</td>\n",
       "      <td>0</td>\n",
       "      <td>7</td>\n",
       "      <td>271.0</td>\n",
       "      <td>27.0</td>\n",
       "      <td>2</td>\n",
       "      <td>1.0</td>\n",
       "      <td>...</td>\n",
       "      <td>Apartment</td>\n",
       "      <td>Private room</td>\n",
       "      <td>0</td>\n",
       "      <td>0</td>\n",
       "      <td>0</td>\n",
       "      <td>2015-12-07</td>\n",
       "      <td>strict_14_with_grace_period</td>\n",
       "      <td>0.500000</td>\n",
       "      <td>0.500000</td>\n",
       "      <td>1504.0</td>\n",
       "    </tr>\n",
       "    <tr>\n",
       "      <th>1312</th>\n",
       "      <td>Randwick</td>\n",
       "      <td>151.245793</td>\n",
       "      <td>-33.920622</td>\n",
       "      <td>96.0</td>\n",
       "      <td>0</td>\n",
       "      <td>3</td>\n",
       "      <td>0.0</td>\n",
       "      <td>80.0</td>\n",
       "      <td>3</td>\n",
       "      <td>1.0</td>\n",
       "      <td>...</td>\n",
       "      <td>Apartment</td>\n",
       "      <td>Entire home/apt</td>\n",
       "      <td>0</td>\n",
       "      <td>0</td>\n",
       "      <td>0</td>\n",
       "      <td>2015-10-02</td>\n",
       "      <td>strict_14_with_grace_period</td>\n",
       "      <td>0.666667</td>\n",
       "      <td>0.333333</td>\n",
       "      <td>1570.0</td>\n",
       "    </tr>\n",
       "    <tr>\n",
       "      <th>6194</th>\n",
       "      <td>Bondi Beach</td>\n",
       "      <td>151.273411</td>\n",
       "      <td>-33.888113</td>\n",
       "      <td>96.0</td>\n",
       "      <td>0</td>\n",
       "      <td>10</td>\n",
       "      <td>0.0</td>\n",
       "      <td>0.0</td>\n",
       "      <td>2</td>\n",
       "      <td>1.0</td>\n",
       "      <td>...</td>\n",
       "      <td>Apartment</td>\n",
       "      <td>Private room</td>\n",
       "      <td>0</td>\n",
       "      <td>0</td>\n",
       "      <td>0</td>\n",
       "      <td>2015-08-14</td>\n",
       "      <td>moderate</td>\n",
       "      <td>0.500000</td>\n",
       "      <td>0.500000</td>\n",
       "      <td>1619.0</td>\n",
       "    </tr>\n",
       "  </tbody>\n",
       "</table>\n",
       "<p>5 rows × 22 columns</p>\n",
       "</div>"
      ],
      "text/plain": [
       "             city   longitude   latitude  review_scores_rating  \\\n",
       "5594     Randwick  151.238806 -33.913834                  96.0   \n",
       "5439      Newtown  151.184469 -33.894582                  96.0   \n",
       "3847  Bondi Beach  151.273077 -33.895142                  96.0   \n",
       "1312     Randwick  151.245793 -33.920622                  96.0   \n",
       "6194  Bondi Beach  151.273411 -33.888113                  96.0   \n",
       "\n",
       "      number_of_reviews  minimum_nights  security_deposit  cleaning_fee  \\\n",
       "5594                  0               2             800.0          80.0   \n",
       "5439                  0               3            5000.0         100.0   \n",
       "3847                  0               7             271.0          27.0   \n",
       "1312                  0               3               0.0          80.0   \n",
       "6194                  0              10               0.0           0.0   \n",
       "\n",
       "      accommodates  bathrooms  ...  property_type        room_type  \\\n",
       "5594             6        1.0  ...          House  Entire home/apt   \n",
       "5439            11        2.0  ...      Apartment  Entire home/apt   \n",
       "3847             2        1.0  ...      Apartment     Private room   \n",
       "1312             3        1.0  ...      Apartment  Entire home/apt   \n",
       "6194             2        1.0  ...      Apartment     Private room   \n",
       "\n",
       "     availability_365 host_identity_verified  host_is_superhost  host_since  \\\n",
       "5594                0                      0                  0  2013-11-27   \n",
       "5439                0                      0                  0  2014-07-16   \n",
       "3847                0                      0                  0  2015-12-07   \n",
       "1312                0                      0                  0  2015-10-02   \n",
       "6194                0                      0                  0  2015-08-14   \n",
       "\n",
       "              cancellation_policy bedrooms_per_person bathrooms_per_person  \\\n",
       "5594                     moderate            0.500000             0.166667   \n",
       "5439  strict_14_with_grace_period            0.272727             0.181818   \n",
       "3847  strict_14_with_grace_period            0.500000             0.500000   \n",
       "1312  strict_14_with_grace_period            0.666667             0.333333   \n",
       "6194                     moderate            0.500000             0.500000   \n",
       "\n",
       "      days_on_airbnb  \n",
       "5594          2244.0  \n",
       "5439          2013.0  \n",
       "3847          1504.0  \n",
       "1312          1570.0  \n",
       "6194          1619.0  \n",
       "\n",
       "[5 rows x 22 columns]"
      ]
     },
     "execution_count": 107,
     "metadata": {},
     "output_type": "execute_result"
    }
   ],
   "source": [
    "median = X[\"review_scores_rating\"].median()\n",
    "sample_incomplete_rows[\"review_scores_rating\"].fillna(median, inplace=True) # option 3\n",
    "\n",
    "sample_incomplete_rows"
   ]
  },
  {
   "cell_type": "markdown",
   "metadata": {},
   "source": [
    "Em muitos dos casos essa opção sera a mais ideal, pois não iremos modificar muito as relações entre as Features e também não iremos diminuir o tamanho do nosso dataset.\n",
    "***\n",
    "Agora vamos utilizar um módulo da biblioteca sklearn para automatizar o processo de preenchimento dos valores ausentes, mas antes disso separaremos as variáveis categóricas das numéricas."
   ]
  },
  {
   "cell_type": "code",
   "execution_count": 124,
   "metadata": {},
   "outputs": [
    {
     "name": "stderr",
     "output_type": "stream",
     "text": [
      "C:\\Users\\Safira\\AppData\\Roaming\\Python\\Python37\\site-packages\\sklearn\\utils\\deprecation.py:66: DeprecationWarning: Class Imputer is deprecated; Imputer was deprecated in version 0.20 and will be removed in 0.22. Import impute.SimpleImputer from sklearn instead.\n",
      "  warnings.warn(msg, category=DeprecationWarning)\n"
     ]
    },
    {
     "data": {
      "text/html": [
       "<div>\n",
       "<style scoped>\n",
       "    .dataframe tbody tr th:only-of-type {\n",
       "        vertical-align: middle;\n",
       "    }\n",
       "\n",
       "    .dataframe tbody tr th {\n",
       "        vertical-align: top;\n",
       "    }\n",
       "\n",
       "    .dataframe thead th {\n",
       "        text-align: right;\n",
       "    }\n",
       "</style>\n",
       "<table border=\"1\" class=\"dataframe\">\n",
       "  <thead>\n",
       "    <tr style=\"text-align: right;\">\n",
       "      <th></th>\n",
       "      <th>longitude</th>\n",
       "      <th>latitude</th>\n",
       "      <th>review_scores_rating</th>\n",
       "      <th>number_of_reviews</th>\n",
       "      <th>minimum_nights</th>\n",
       "      <th>security_deposit</th>\n",
       "      <th>cleaning_fee</th>\n",
       "      <th>accommodates</th>\n",
       "      <th>bathrooms</th>\n",
       "      <th>bedrooms</th>\n",
       "      <th>beds</th>\n",
       "      <th>availability_365</th>\n",
       "      <th>host_identity_verified</th>\n",
       "      <th>host_is_superhost</th>\n",
       "      <th>bedrooms_per_person</th>\n",
       "      <th>bathrooms_per_person</th>\n",
       "      <th>days_on_airbnb</th>\n",
       "    </tr>\n",
       "  </thead>\n",
       "  <tbody>\n",
       "    <tr>\n",
       "      <th>5484</th>\n",
       "      <td>151.178552</td>\n",
       "      <td>-33.907150</td>\n",
       "      <td>96.0</td>\n",
       "      <td>61</td>\n",
       "      <td>2</td>\n",
       "      <td>250.0</td>\n",
       "      <td>85.0</td>\n",
       "      <td>4</td>\n",
       "      <td>1.0</td>\n",
       "      <td>2.0</td>\n",
       "      <td>2.0</td>\n",
       "      <td>127</td>\n",
       "      <td>0</td>\n",
       "      <td>0</td>\n",
       "      <td>0.500000</td>\n",
       "      <td>0.250000</td>\n",
       "      <td>1458.0</td>\n",
       "    </tr>\n",
       "    <tr>\n",
       "      <th>1267</th>\n",
       "      <td>151.249030</td>\n",
       "      <td>-33.906190</td>\n",
       "      <td>97.0</td>\n",
       "      <td>6</td>\n",
       "      <td>4</td>\n",
       "      <td>0.0</td>\n",
       "      <td>20.0</td>\n",
       "      <td>2</td>\n",
       "      <td>1.0</td>\n",
       "      <td>1.0</td>\n",
       "      <td>1.0</td>\n",
       "      <td>0</td>\n",
       "      <td>0</td>\n",
       "      <td>0</td>\n",
       "      <td>0.500000</td>\n",
       "      <td>0.500000</td>\n",
       "      <td>2123.0</td>\n",
       "    </tr>\n",
       "    <tr>\n",
       "      <th>6658</th>\n",
       "      <td>151.288491</td>\n",
       "      <td>-33.802074</td>\n",
       "      <td>100.0</td>\n",
       "      <td>2</td>\n",
       "      <td>2</td>\n",
       "      <td>0.0</td>\n",
       "      <td>40.0</td>\n",
       "      <td>2</td>\n",
       "      <td>1.0</td>\n",
       "      <td>1.0</td>\n",
       "      <td>1.0</td>\n",
       "      <td>0</td>\n",
       "      <td>0</td>\n",
       "      <td>0</td>\n",
       "      <td>0.500000</td>\n",
       "      <td>0.500000</td>\n",
       "      <td>2201.0</td>\n",
       "    </tr>\n",
       "    <tr>\n",
       "      <th>2522</th>\n",
       "      <td>151.236423</td>\n",
       "      <td>-33.913614</td>\n",
       "      <td>94.0</td>\n",
       "      <td>20</td>\n",
       "      <td>3</td>\n",
       "      <td>0.0</td>\n",
       "      <td>0.0</td>\n",
       "      <td>2</td>\n",
       "      <td>1.0</td>\n",
       "      <td>1.0</td>\n",
       "      <td>1.0</td>\n",
       "      <td>90</td>\n",
       "      <td>0</td>\n",
       "      <td>0</td>\n",
       "      <td>0.500000</td>\n",
       "      <td>0.500000</td>\n",
       "      <td>1519.0</td>\n",
       "    </tr>\n",
       "    <tr>\n",
       "      <th>722</th>\n",
       "      <td>151.259342</td>\n",
       "      <td>-33.918435</td>\n",
       "      <td>92.0</td>\n",
       "      <td>139</td>\n",
       "      <td>30</td>\n",
       "      <td>0.0</td>\n",
       "      <td>0.0</td>\n",
       "      <td>3</td>\n",
       "      <td>1.0</td>\n",
       "      <td>1.0</td>\n",
       "      <td>2.0</td>\n",
       "      <td>0</td>\n",
       "      <td>0</td>\n",
       "      <td>0</td>\n",
       "      <td>0.333333</td>\n",
       "      <td>0.333333</td>\n",
       "      <td>2203.0</td>\n",
       "    </tr>\n",
       "  </tbody>\n",
       "</table>\n",
       "</div>"
      ],
      "text/plain": [
       "       longitude   latitude  review_scores_rating  number_of_reviews  \\\n",
       "5484  151.178552 -33.907150                  96.0                 61   \n",
       "1267  151.249030 -33.906190                  97.0                  6   \n",
       "6658  151.288491 -33.802074                 100.0                  2   \n",
       "2522  151.236423 -33.913614                  94.0                 20   \n",
       "722   151.259342 -33.918435                  92.0                139   \n",
       "\n",
       "      minimum_nights  security_deposit  cleaning_fee  accommodates  bathrooms  \\\n",
       "5484               2             250.0          85.0             4        1.0   \n",
       "1267               4               0.0          20.0             2        1.0   \n",
       "6658               2               0.0          40.0             2        1.0   \n",
       "2522               3               0.0           0.0             2        1.0   \n",
       "722               30               0.0           0.0             3        1.0   \n",
       "\n",
       "      bedrooms  beds  availability_365  host_identity_verified  \\\n",
       "5484       2.0   2.0               127                       0   \n",
       "1267       1.0   1.0                 0                       0   \n",
       "6658       1.0   1.0                 0                       0   \n",
       "2522       1.0   1.0                90                       0   \n",
       "722        1.0   2.0                 0                       0   \n",
       "\n",
       "      host_is_superhost  bedrooms_per_person  bathrooms_per_person  \\\n",
       "5484                  0             0.500000              0.250000   \n",
       "1267                  0             0.500000              0.500000   \n",
       "6658                  0             0.500000              0.500000   \n",
       "2522                  0             0.500000              0.500000   \n",
       "722                   0             0.333333              0.333333   \n",
       "\n",
       "      days_on_airbnb  \n",
       "5484          1458.0  \n",
       "1267          2123.0  \n",
       "6658          2201.0  \n",
       "2522          1519.0  \n",
       "722           2203.0  "
      ]
     },
     "execution_count": 124,
     "metadata": {},
     "output_type": "execute_result"
    }
   ],
   "source": [
    "from sklearn.preprocessing import Imputer\n",
    "\n",
    "imputer = Imputer(strategy=\"median\")\n",
    "\n",
    "#Transformando em inteiros de 32bits\n",
    "X['host_is_superhost'] = X['host_is_superhost'].eq('t').astype(int)\n",
    "X['host_identity_verified'] = X['host_identity_verified'].eq('t').astype(int)\n",
    "\n",
    "\n",
    "cat_cols = [\"city\",\"cancellation_policy\",\"host_since\",\"room_type\",\"property_type\",\"host_since\"]\n",
    "X_num = X.drop(cat_cols, axis=1)\n",
    "X_num.head()"
   ]
  },
  {
   "cell_type": "markdown",
   "metadata": {},
   "source": [
    "Vamos dar um fit no imputer com nossos dados numéricos e depois verificar as estatísticas de cada colua."
   ]
  },
  {
   "cell_type": "code",
   "execution_count": 125,
   "metadata": {},
   "outputs": [
    {
     "data": {
      "text/plain": [
       "array([ 1.51259665e+02, -3.38885369e+01,  9.60000000e+01,  3.00000000e+00,\n",
       "        3.00000000e+00,  0.00000000e+00,  5.00000000e+01,  2.00000000e+00,\n",
       "        1.00000000e+00,  1.00000000e+00,  1.00000000e+00,  4.00000000e+00,\n",
       "        0.00000000e+00,  0.00000000e+00,  5.00000000e-01,  5.00000000e-01,\n",
       "        1.88400000e+03])"
      ]
     },
     "execution_count": 125,
     "metadata": {},
     "output_type": "execute_result"
    }
   ],
   "source": [
    "imputer.fit(X_num)\n",
    "imputer.statistics_"
   ]
  },
  {
   "cell_type": "markdown",
   "metadata": {},
   "source": [
    "Aqui preenchemos os valores ausentes e depois criamos outro DataFrame para armazenar os dados transformados."
   ]
  },
  {
   "cell_type": "code",
   "execution_count": 126,
   "metadata": {},
   "outputs": [
    {
     "data": {
      "text/html": [
       "<div>\n",
       "<style scoped>\n",
       "    .dataframe tbody tr th:only-of-type {\n",
       "        vertical-align: middle;\n",
       "    }\n",
       "\n",
       "    .dataframe tbody tr th {\n",
       "        vertical-align: top;\n",
       "    }\n",
       "\n",
       "    .dataframe thead th {\n",
       "        text-align: right;\n",
       "    }\n",
       "</style>\n",
       "<table border=\"1\" class=\"dataframe\">\n",
       "  <thead>\n",
       "    <tr style=\"text-align: right;\">\n",
       "      <th></th>\n",
       "      <th>longitude</th>\n",
       "      <th>latitude</th>\n",
       "      <th>review_scores_rating</th>\n",
       "      <th>number_of_reviews</th>\n",
       "      <th>minimum_nights</th>\n",
       "      <th>security_deposit</th>\n",
       "      <th>cleaning_fee</th>\n",
       "      <th>accommodates</th>\n",
       "      <th>bathrooms</th>\n",
       "      <th>bedrooms</th>\n",
       "      <th>beds</th>\n",
       "      <th>availability_365</th>\n",
       "      <th>host_identity_verified</th>\n",
       "      <th>host_is_superhost</th>\n",
       "      <th>bedrooms_per_person</th>\n",
       "      <th>bathrooms_per_person</th>\n",
       "      <th>days_on_airbnb</th>\n",
       "    </tr>\n",
       "  </thead>\n",
       "  <tbody>\n",
       "    <tr>\n",
       "      <th>5594</th>\n",
       "      <td>151.238806</td>\n",
       "      <td>-33.913834</td>\n",
       "      <td>96.0</td>\n",
       "      <td>0.0</td>\n",
       "      <td>2.0</td>\n",
       "      <td>800.0</td>\n",
       "      <td>80.0</td>\n",
       "      <td>6.0</td>\n",
       "      <td>1.0</td>\n",
       "      <td>3.0</td>\n",
       "      <td>3.0</td>\n",
       "      <td>0.0</td>\n",
       "      <td>0.0</td>\n",
       "      <td>0.0</td>\n",
       "      <td>0.500000</td>\n",
       "      <td>0.166667</td>\n",
       "      <td>2244.0</td>\n",
       "    </tr>\n",
       "    <tr>\n",
       "      <th>5439</th>\n",
       "      <td>151.184469</td>\n",
       "      <td>-33.894582</td>\n",
       "      <td>96.0</td>\n",
       "      <td>0.0</td>\n",
       "      <td>3.0</td>\n",
       "      <td>5000.0</td>\n",
       "      <td>100.0</td>\n",
       "      <td>11.0</td>\n",
       "      <td>2.0</td>\n",
       "      <td>3.0</td>\n",
       "      <td>4.0</td>\n",
       "      <td>0.0</td>\n",
       "      <td>0.0</td>\n",
       "      <td>0.0</td>\n",
       "      <td>0.272727</td>\n",
       "      <td>0.181818</td>\n",
       "      <td>2013.0</td>\n",
       "    </tr>\n",
       "    <tr>\n",
       "      <th>3847</th>\n",
       "      <td>151.273077</td>\n",
       "      <td>-33.895142</td>\n",
       "      <td>96.0</td>\n",
       "      <td>0.0</td>\n",
       "      <td>7.0</td>\n",
       "      <td>271.0</td>\n",
       "      <td>27.0</td>\n",
       "      <td>2.0</td>\n",
       "      <td>1.0</td>\n",
       "      <td>1.0</td>\n",
       "      <td>1.0</td>\n",
       "      <td>0.0</td>\n",
       "      <td>0.0</td>\n",
       "      <td>0.0</td>\n",
       "      <td>0.500000</td>\n",
       "      <td>0.500000</td>\n",
       "      <td>1504.0</td>\n",
       "    </tr>\n",
       "    <tr>\n",
       "      <th>1312</th>\n",
       "      <td>151.245793</td>\n",
       "      <td>-33.920622</td>\n",
       "      <td>96.0</td>\n",
       "      <td>0.0</td>\n",
       "      <td>3.0</td>\n",
       "      <td>0.0</td>\n",
       "      <td>80.0</td>\n",
       "      <td>3.0</td>\n",
       "      <td>1.0</td>\n",
       "      <td>2.0</td>\n",
       "      <td>2.0</td>\n",
       "      <td>0.0</td>\n",
       "      <td>0.0</td>\n",
       "      <td>0.0</td>\n",
       "      <td>0.666667</td>\n",
       "      <td>0.333333</td>\n",
       "      <td>1570.0</td>\n",
       "    </tr>\n",
       "    <tr>\n",
       "      <th>6194</th>\n",
       "      <td>151.273411</td>\n",
       "      <td>-33.888113</td>\n",
       "      <td>96.0</td>\n",
       "      <td>0.0</td>\n",
       "      <td>10.0</td>\n",
       "      <td>0.0</td>\n",
       "      <td>0.0</td>\n",
       "      <td>2.0</td>\n",
       "      <td>1.0</td>\n",
       "      <td>1.0</td>\n",
       "      <td>1.0</td>\n",
       "      <td>0.0</td>\n",
       "      <td>0.0</td>\n",
       "      <td>0.0</td>\n",
       "      <td>0.500000</td>\n",
       "      <td>0.500000</td>\n",
       "      <td>1619.0</td>\n",
       "    </tr>\n",
       "  </tbody>\n",
       "</table>\n",
       "</div>"
      ],
      "text/plain": [
       "       longitude   latitude  review_scores_rating  number_of_reviews  \\\n",
       "5594  151.238806 -33.913834                  96.0                0.0   \n",
       "5439  151.184469 -33.894582                  96.0                0.0   \n",
       "3847  151.273077 -33.895142                  96.0                0.0   \n",
       "1312  151.245793 -33.920622                  96.0                0.0   \n",
       "6194  151.273411 -33.888113                  96.0                0.0   \n",
       "\n",
       "      minimum_nights  security_deposit  cleaning_fee  accommodates  bathrooms  \\\n",
       "5594             2.0             800.0          80.0           6.0        1.0   \n",
       "5439             3.0            5000.0         100.0          11.0        2.0   \n",
       "3847             7.0             271.0          27.0           2.0        1.0   \n",
       "1312             3.0               0.0          80.0           3.0        1.0   \n",
       "6194            10.0               0.0           0.0           2.0        1.0   \n",
       "\n",
       "      bedrooms  beds  availability_365  host_identity_verified  \\\n",
       "5594       3.0   3.0               0.0                     0.0   \n",
       "5439       3.0   4.0               0.0                     0.0   \n",
       "3847       1.0   1.0               0.0                     0.0   \n",
       "1312       2.0   2.0               0.0                     0.0   \n",
       "6194       1.0   1.0               0.0                     0.0   \n",
       "\n",
       "      host_is_superhost  bedrooms_per_person  bathrooms_per_person  \\\n",
       "5594                0.0             0.500000              0.166667   \n",
       "5439                0.0             0.272727              0.181818   \n",
       "3847                0.0             0.500000              0.500000   \n",
       "1312                0.0             0.666667              0.333333   \n",
       "6194                0.0             0.500000              0.500000   \n",
       "\n",
       "      days_on_airbnb  \n",
       "5594          2244.0  \n",
       "5439          2013.0  \n",
       "3847          1504.0  \n",
       "1312          1570.0  \n",
       "6194          1619.0  "
      ]
     },
     "execution_count": 126,
     "metadata": {},
     "output_type": "execute_result"
    }
   ],
   "source": [
    "X_num_np = imputer.transform(X_num)\n",
    "X_num = pd.DataFrame(X_num_np, columns=X_num.columns,index = list(X_num.index.values))\n",
    "X_num.loc[sample_incomplete_rows.index.values]"
   ]
  },
  {
   "cell_type": "code",
   "execution_count": 127,
   "metadata": {},
   "outputs": [
    {
     "name": "stdout",
     "output_type": "stream",
     "text": [
      "Estratégia utilizada para preenchimento dos valores ausentes: median\n"
     ]
    }
   ],
   "source": [
    "print(\"Estratégia utilizada para preenchimento dos valores ausentes: {}\".format(imputer.strategy))"
   ]
  },
  {
   "cell_type": "markdown",
   "metadata": {},
   "source": [
    "***\n",
    "Agora é a hora de processar nossos dados categóricos"
   ]
  },
  {
   "cell_type": "code",
   "execution_count": 128,
   "metadata": {},
   "outputs": [
    {
     "data": {
      "text/html": [
       "<div>\n",
       "<style scoped>\n",
       "    .dataframe tbody tr th:only-of-type {\n",
       "        vertical-align: middle;\n",
       "    }\n",
       "\n",
       "    .dataframe tbody tr th {\n",
       "        vertical-align: top;\n",
       "    }\n",
       "\n",
       "    .dataframe thead th {\n",
       "        text-align: right;\n",
       "    }\n",
       "</style>\n",
       "<table border=\"1\" class=\"dataframe\">\n",
       "  <thead>\n",
       "    <tr style=\"text-align: right;\">\n",
       "      <th></th>\n",
       "      <th>city</th>\n",
       "      <th>property_type</th>\n",
       "      <th>room_type</th>\n",
       "      <th>cancellation_policy</th>\n",
       "    </tr>\n",
       "  </thead>\n",
       "  <tbody>\n",
       "    <tr>\n",
       "      <th>5484</th>\n",
       "      <td>Newtown</td>\n",
       "      <td>House</td>\n",
       "      <td>Entire home/apt</td>\n",
       "      <td>moderate</td>\n",
       "    </tr>\n",
       "    <tr>\n",
       "      <th>1267</th>\n",
       "      <td>Randwick</td>\n",
       "      <td>Apartment</td>\n",
       "      <td>Private room</td>\n",
       "      <td>moderate</td>\n",
       "    </tr>\n",
       "    <tr>\n",
       "      <th>6658</th>\n",
       "      <td>Manly</td>\n",
       "      <td>Apartment</td>\n",
       "      <td>Entire home/apt</td>\n",
       "      <td>strict_14_with_grace_period</td>\n",
       "    </tr>\n",
       "    <tr>\n",
       "      <th>2522</th>\n",
       "      <td>Randwick</td>\n",
       "      <td>Apartment</td>\n",
       "      <td>Private room</td>\n",
       "      <td>flexible</td>\n",
       "    </tr>\n",
       "    <tr>\n",
       "      <th>722</th>\n",
       "      <td>Coogee</td>\n",
       "      <td>Apartment</td>\n",
       "      <td>Private room</td>\n",
       "      <td>strict_14_with_grace_period</td>\n",
       "    </tr>\n",
       "    <tr>\n",
       "      <th>3150</th>\n",
       "      <td>Manly</td>\n",
       "      <td>Apartment</td>\n",
       "      <td>Entire home/apt</td>\n",
       "      <td>strict_14_with_grace_period</td>\n",
       "    </tr>\n",
       "    <tr>\n",
       "      <th>2865</th>\n",
       "      <td>Surry Hills</td>\n",
       "      <td>Apartment</td>\n",
       "      <td>Entire home/apt</td>\n",
       "      <td>strict_14_with_grace_period</td>\n",
       "    </tr>\n",
       "    <tr>\n",
       "      <th>4906</th>\n",
       "      <td>Bondi Beach</td>\n",
       "      <td>Apartment</td>\n",
       "      <td>Entire home/apt</td>\n",
       "      <td>strict_14_with_grace_period</td>\n",
       "    </tr>\n",
       "    <tr>\n",
       "      <th>575</th>\n",
       "      <td>Coogee</td>\n",
       "      <td>Apartment</td>\n",
       "      <td>Entire home/apt</td>\n",
       "      <td>strict_14_with_grace_period</td>\n",
       "    </tr>\n",
       "    <tr>\n",
       "      <th>5827</th>\n",
       "      <td>Newtown</td>\n",
       "      <td>House</td>\n",
       "      <td>Private room</td>\n",
       "      <td>flexible</td>\n",
       "    </tr>\n",
       "  </tbody>\n",
       "</table>\n",
       "</div>"
      ],
      "text/plain": [
       "             city property_type        room_type          cancellation_policy\n",
       "5484      Newtown         House  Entire home/apt                     moderate\n",
       "1267     Randwick     Apartment     Private room                     moderate\n",
       "6658        Manly     Apartment  Entire home/apt  strict_14_with_grace_period\n",
       "2522     Randwick     Apartment     Private room                     flexible\n",
       "722        Coogee     Apartment     Private room  strict_14_with_grace_period\n",
       "3150        Manly     Apartment  Entire home/apt  strict_14_with_grace_period\n",
       "2865  Surry Hills     Apartment  Entire home/apt  strict_14_with_grace_period\n",
       "4906  Bondi Beach     Apartment  Entire home/apt  strict_14_with_grace_period\n",
       "575        Coogee     Apartment  Entire home/apt  strict_14_with_grace_period\n",
       "5827      Newtown         House     Private room                     flexible"
      ]
     },
     "execution_count": 128,
     "metadata": {},
     "output_type": "execute_result"
    }
   ],
   "source": [
    "X_cat = X.select_dtypes(include=[object])\n",
    "X_cat.head(10)"
   ]
  },
  {
   "cell_type": "markdown",
   "metadata": {},
   "source": [
    "Usando Ordinal Encoder"
   ]
  },
  {
   "cell_type": "code",
   "execution_count": 130,
   "metadata": {},
   "outputs": [
    {
     "data": {
      "text/plain": [
       "array([[5., 6., 0., 1.],\n",
       "       [7., 0., 1., 1.],\n",
       "       [4., 0., 0., 2.],\n",
       "       [7., 0., 1., 0.],\n",
       "       [2., 0., 1., 2.],\n",
       "       [4., 0., 0., 2.],\n",
       "       [8., 0., 0., 2.],\n",
       "       [1., 0., 0., 2.],\n",
       "       [2., 0., 0., 2.],\n",
       "       [5., 6., 1., 0.]])"
      ]
     },
     "execution_count": 130,
     "metadata": {},
     "output_type": "execute_result"
    }
   ],
   "source": [
    "from sklearn.preprocessing import OrdinalEncoder\n",
    "ordinal_encoder = OrdinalEncoder()\n",
    "X_cat_enc = ordinal_encoder.fit_transform(X_cat)\n",
    "X_cat_enc[:10]"
   ]
  },
  {
   "cell_type": "markdown",
   "metadata": {},
   "source": [
    "Essas foram as categorias criadas:"
   ]
  },
  {
   "cell_type": "code",
   "execution_count": 131,
   "metadata": {},
   "outputs": [
    {
     "data": {
      "text/plain": [
       "[array(['Bondi', 'Bondi Beach', 'Coogee', 'Darlinghurst', 'Manly',\n",
       "        'Newtown', 'North Bondi', 'Randwick', 'Surry Hills', 'Sydney'],\n",
       "       dtype=object),\n",
       " array(['Apartment', 'Bed and breakfast', 'Condominium', 'Guest suite',\n",
       "        'Guesthouse', 'Hostel', 'House', 'Loft', 'Other',\n",
       "        'Serviced apartment', 'Townhouse', 'Villa'], dtype=object),\n",
       " array(['Entire home/apt', 'Private room', 'Shared room'], dtype=object),\n",
       " array(['flexible', 'moderate', 'strict_14_with_grace_period',\n",
       "        'super_strict_60'], dtype=object)]"
      ]
     },
     "execution_count": 131,
     "metadata": {},
     "output_type": "execute_result"
    }
   ],
   "source": [
    "ordinal_encoder.categories_"
   ]
  },
  {
   "cell_type": "markdown",
   "metadata": {},
   "source": [
    "> Vamos testar outra técnica para codificar os dados categóricos - One Hot Encoder"
   ]
  },
  {
   "cell_type": "code",
   "execution_count": 133,
   "metadata": {},
   "outputs": [
    {
     "data": {
      "text/plain": [
       "array([[0., 0., 0., ..., 1., 0., 0.],\n",
       "       [0., 0., 0., ..., 1., 0., 0.],\n",
       "       [0., 0., 0., ..., 0., 1., 0.],\n",
       "       ...,\n",
       "       [1., 0., 0., ..., 1., 0., 0.],\n",
       "       [0., 0., 0., ..., 0., 1., 0.],\n",
       "       [0., 0., 1., ..., 0., 1., 0.]])"
      ]
     },
     "execution_count": 133,
     "metadata": {},
     "output_type": "execute_result"
    }
   ],
   "source": [
    "from sklearn.preprocessing import OneHotEncoder\n",
    "cat_encoder = OneHotEncoder(sparse=False)\n",
    "X_cat_1hot = cat_encoder.fit_transform(X_cat)\n",
    "X_cat_1hot"
   ]
  },
  {
   "cell_type": "code",
   "execution_count": 134,
   "metadata": {},
   "outputs": [
    {
     "data": {
      "text/plain": [
       "[array(['Bondi', 'Bondi Beach', 'Coogee', 'Darlinghurst', 'Manly',\n",
       "        'Newtown', 'North Bondi', 'Randwick', 'Surry Hills', 'Sydney'],\n",
       "       dtype=object),\n",
       " array(['Apartment', 'Bed and breakfast', 'Condominium', 'Guest suite',\n",
       "        'Guesthouse', 'Hostel', 'House', 'Loft', 'Other',\n",
       "        'Serviced apartment', 'Townhouse', 'Villa'], dtype=object),\n",
       " array(['Entire home/apt', 'Private room', 'Shared room'], dtype=object),\n",
       " array(['flexible', 'moderate', 'strict_14_with_grace_period',\n",
       "        'super_strict_60'], dtype=object)]"
      ]
     },
     "execution_count": 134,
     "metadata": {},
     "output_type": "execute_result"
    }
   ],
   "source": [
    "cat_encoder.categories_"
   ]
  },
  {
   "cell_type": "markdown",
   "metadata": {},
   "source": [
    "### Vamos criar um pipeline para preprocessar os dados"
   ]
  },
  {
   "cell_type": "markdown",
   "metadata": {},
   "source": [
    "> 1 - Criando classe responsável por algumas etapas do preprocessamento"
   ]
  },
  {
   "cell_type": "code",
   "execution_count": 135,
   "metadata": {},
   "outputs": [],
   "source": [
    "from sklearn.base import BaseEstimator, TransformerMixin\n",
    "from datetime import datetime\n",
    "numerics = ['int16', 'int32', 'int64', 'float16', 'float32', 'float64']\n",
    "\n",
    "# Receive numpy array, convert to pandas for features, convert back to array for output.\n",
    "\n",
    "class CombinedAttributesAdder(BaseEstimator, TransformerMixin):\n",
    "    def __init__(self, popularity = True, num_cols=[]): # no *args or **kargs\n",
    "        self.popularity = popularity\n",
    "    def fit(self, X, y=None):\n",
    "        return self  # nothing else to do\n",
    "    def transform(self, X, y=None):\n",
    "        \n",
    "        ### Some feature engineering\n",
    "        X = pd.DataFrame(X, columns=num_cols)\n",
    "        X[\"bedrooms_per_person\"] = X[\"bedrooms\"]/X[\"accommodates\"]\n",
    "        X[\"bathrooms_per_person\"] = X[\"bathrooms\"]/X[\"accommodates\"]\n",
    "        \n",
    "        global feats\n",
    "        feats = [\"bedrooms_per_person\",\"bathrooms_per_person\"]\n",
    "\n",
    "        if self.popularity:\n",
    "            X[\"past_and_future_popularity\"]=X[\"number_of_reviews\"]/(X[\"availability_365\"]+1)\n",
    "            feats.append(\"past_and_future_popularity\")\n",
    "            \n",
    "            return X.values\n",
    "        else:\n",
    "            return X.values\n",
    "        "
   ]
  },
  {
   "cell_type": "markdown",
   "metadata": {},
   "source": [
    "> 2 - Configurando o Pipeline para os dados numéricos"
   ]
  },
  {
   "cell_type": "code",
   "execution_count": 136,
   "metadata": {},
   "outputs": [
    {
     "name": "stderr",
     "output_type": "stream",
     "text": [
      "C:\\Users\\Safira\\AppData\\Roaming\\Python\\Python37\\site-packages\\sklearn\\utils\\deprecation.py:66: DeprecationWarning: Class Imputer is deprecated; Imputer was deprecated in version 0.20 and will be removed in 0.22. Import impute.SimpleImputer from sklearn instead.\n",
      "  warnings.warn(msg, category=DeprecationWarning)\n"
     ]
    }
   ],
   "source": [
    "from sklearn.pipeline import Pipeline\n",
    "from sklearn.preprocessing import StandardScaler\n",
    "\n",
    "strat_train_set2 = strat_train_set.dropna()\n",
    "X = strat_train_set2.copy().drop(\"price\",axis=1)\n",
    "Y = strat_train_set2[\"price\"]\n",
    "\n",
    "num_cols = list(X.select_dtypes(include=numerics).columns)\n",
    "cat_cols = list(X.select_dtypes(include=[object]).columns)\n",
    "\n",
    "num_pipeline = Pipeline([\n",
    "        ('imputer', Imputer(strategy=\"median\")),\n",
    "        ('attribs_adder', CombinedAttributesAdder(num_cols=num_cols,popularity=True)),\n",
    "        ('std_scaler', StandardScaler()),\n",
    "    ])"
   ]
  },
  {
   "cell_type": "markdown",
   "metadata": {},
   "source": [
    "> 3 - Configurando o segundo Pipeline"
   ]
  },
  {
   "cell_type": "code",
   "execution_count": 137,
   "metadata": {},
   "outputs": [],
   "source": [
    "from sklearn.compose import ColumnTransformer\n",
    "import itertools\n",
    "\n",
    "\n",
    "numerics = ['int16', 'int32', 'int64', 'float16', 'float32', 'float64']\n",
    "\n",
    "mid_pipeline = ColumnTransformer([\n",
    "        (\"num\", num_pipeline, num_cols),\n",
    "        (\"cat\", OneHotEncoder(),cat_cols ),\n",
    "    ])"
   ]
  },
  {
   "cell_type": "markdown",
   "metadata": {},
   "source": [
    "Vamos dar um fit no nosso Pipeline e depois iremos usar apenas a etapa responsável por tratar os dados categóricos"
   ]
  },
  {
   "cell_type": "code",
   "execution_count": 138,
   "metadata": {},
   "outputs": [
    {
     "name": "stderr",
     "output_type": "stream",
     "text": [
      "C:\\Users\\Safira\\AppData\\Roaming\\Python\\Python37\\site-packages\\sklearn\\utils\\deprecation.py:66: DeprecationWarning: Class Imputer is deprecated; Imputer was deprecated in version 0.20 and will be removed in 0.22. Import impute.SimpleImputer from sklearn instead.\n",
      "  warnings.warn(msg, category=DeprecationWarning)\n"
     ]
    }
   ],
   "source": [
    "mid_pipeline.fit(X) # this one specifically has to be fitted for the cat names\n",
    "cat_encoder = mid_pipeline.named_transformers_[\"cat\"]\n",
    "sublists = [list(bas) for bas in cat_encoder.categories_]\n",
    "one_cols = list(itertools.chain(*sublists))"
   ]
  },
  {
   "cell_type": "markdown",
   "metadata": {},
   "source": [
    "Essa classe vai transformar os valores em Numpy para Pandas"
   ]
  },
  {
   "cell_type": "code",
   "execution_count": 139,
   "metadata": {},
   "outputs": [],
   "source": [
    "class ToPandasDF(BaseEstimator, TransformerMixin):\n",
    "    def __init__(self, fit_index = [] ): # no *args or **kargs\n",
    "        self.fit_index = fit_index\n",
    "    def fit(self, X_df, y=None):\n",
    "        return self  # nothing else to do\n",
    "    def transform(self, X_df, y=None):\n",
    "        global cols\n",
    "        cols = num_cols.copy()\n",
    "        cols.extend(feats)\n",
    "        cols.extend(one_cols) # one in place of cat\n",
    "        X_df = pd.DataFrame(X_df, columns=cols,index=self.fit_index)\n",
    "\n",
    "        return X_df"
   ]
  },
  {
   "cell_type": "markdown",
   "metadata": {},
   "source": [
    "Aqui criamos uma função para acoplar o segundo Pipeline com a classe resposável por transformar os dados para DataFrame, criando um terceiro Pipeline."
   ]
  },
  {
   "cell_type": "code",
   "execution_count": 141,
   "metadata": {},
   "outputs": [],
   "source": [
    "def pipe(inds):\n",
    "    return Pipeline([\n",
    "            (\"mid\", mid_pipeline),\n",
    "            (\"PD\", ToPandasDF(inds)),\n",
    "        ])"
   ]
  },
  {
   "cell_type": "markdown",
   "metadata": {},
   "source": [
    "Agora vamos usar nosso Pipeline"
   ]
  },
  {
   "cell_type": "raw",
   "metadata": {},
   "source": []
  },
  {
   "cell_type": "code",
   "execution_count": 143,
   "metadata": {},
   "outputs": [
    {
     "name": "stderr",
     "output_type": "stream",
     "text": [
      "C:\\Users\\Safira\\AppData\\Roaming\\Python\\Python37\\site-packages\\sklearn\\utils\\deprecation.py:66: DeprecationWarning: Class Imputer is deprecated; Imputer was deprecated in version 0.20 and will be removed in 0.22. Import impute.SimpleImputer from sklearn instead.\n",
      "  warnings.warn(msg, category=DeprecationWarning)\n"
     ]
    },
    {
     "data": {
      "text/html": [
       "<div>\n",
       "<style scoped>\n",
       "    .dataframe tbody tr th:only-of-type {\n",
       "        vertical-align: middle;\n",
       "    }\n",
       "\n",
       "    .dataframe tbody tr th {\n",
       "        vertical-align: top;\n",
       "    }\n",
       "\n",
       "    .dataframe thead th {\n",
       "        text-align: right;\n",
       "    }\n",
       "</style>\n",
       "<table border=\"1\" class=\"dataframe\">\n",
       "  <thead>\n",
       "    <tr style=\"text-align: right;\">\n",
       "      <th></th>\n",
       "      <th>longitude</th>\n",
       "      <th>latitude</th>\n",
       "      <th>review_scores_rating</th>\n",
       "      <th>number_of_reviews</th>\n",
       "      <th>minimum_nights</th>\n",
       "      <th>security_deposit</th>\n",
       "      <th>cleaning_fee</th>\n",
       "      <th>accommodates</th>\n",
       "      <th>bathrooms</th>\n",
       "      <th>bedrooms</th>\n",
       "      <th>...</th>\n",
       "      <th>Serviced apartment</th>\n",
       "      <th>Townhouse</th>\n",
       "      <th>Villa</th>\n",
       "      <th>Entire home/apt</th>\n",
       "      <th>Private room</th>\n",
       "      <th>Shared room</th>\n",
       "      <th>flexible</th>\n",
       "      <th>moderate</th>\n",
       "      <th>strict_14_with_grace_period</th>\n",
       "      <th>super_strict_60</th>\n",
       "    </tr>\n",
       "  </thead>\n",
       "  <tbody>\n",
       "    <tr>\n",
       "      <th>5484</th>\n",
       "      <td>-1.998871</td>\n",
       "      <td>-0.783981</td>\n",
       "      <td>0.304899</td>\n",
       "      <td>1.084616</td>\n",
       "      <td>-0.142452</td>\n",
       "      <td>-0.089243</td>\n",
       "      <td>0.214312</td>\n",
       "      <td>0.414626</td>\n",
       "      <td>-0.446702</td>\n",
       "      <td>0.633003</td>\n",
       "      <td>...</td>\n",
       "      <td>0.0</td>\n",
       "      <td>0.0</td>\n",
       "      <td>0.0</td>\n",
       "      <td>1.0</td>\n",
       "      <td>0.0</td>\n",
       "      <td>0.0</td>\n",
       "      <td>0.0</td>\n",
       "      <td>1.0</td>\n",
       "      <td>0.0</td>\n",
       "      <td>0.0</td>\n",
       "    </tr>\n",
       "    <tr>\n",
       "      <th>1267</th>\n",
       "      <td>0.094447</td>\n",
       "      <td>-0.756122</td>\n",
       "      <td>0.413560</td>\n",
       "      <td>-0.402834</td>\n",
       "      <td>-0.022353</td>\n",
       "      <td>-0.594668</td>\n",
       "      <td>-0.694888</td>\n",
       "      <td>-0.669371</td>\n",
       "      <td>-0.446702</td>\n",
       "      <td>-0.499778</td>\n",
       "      <td>...</td>\n",
       "      <td>0.0</td>\n",
       "      <td>0.0</td>\n",
       "      <td>0.0</td>\n",
       "      <td>0.0</td>\n",
       "      <td>1.0</td>\n",
       "      <td>0.0</td>\n",
       "      <td>0.0</td>\n",
       "      <td>1.0</td>\n",
       "      <td>0.0</td>\n",
       "      <td>0.0</td>\n",
       "    </tr>\n",
       "    <tr>\n",
       "      <th>6658</th>\n",
       "      <td>1.266501</td>\n",
       "      <td>2.266244</td>\n",
       "      <td>0.739541</td>\n",
       "      <td>-0.511012</td>\n",
       "      <td>-0.142452</td>\n",
       "      <td>-0.594668</td>\n",
       "      <td>-0.415134</td>\n",
       "      <td>-0.669371</td>\n",
       "      <td>-0.446702</td>\n",
       "      <td>-0.499778</td>\n",
       "      <td>...</td>\n",
       "      <td>0.0</td>\n",
       "      <td>0.0</td>\n",
       "      <td>0.0</td>\n",
       "      <td>1.0</td>\n",
       "      <td>0.0</td>\n",
       "      <td>0.0</td>\n",
       "      <td>0.0</td>\n",
       "      <td>0.0</td>\n",
       "      <td>1.0</td>\n",
       "      <td>0.0</td>\n",
       "    </tr>\n",
       "    <tr>\n",
       "      <th>2522</th>\n",
       "      <td>-0.280005</td>\n",
       "      <td>-0.971618</td>\n",
       "      <td>0.087578</td>\n",
       "      <td>-0.024210</td>\n",
       "      <td>-0.082403</td>\n",
       "      <td>-0.594668</td>\n",
       "      <td>-0.974641</td>\n",
       "      <td>-0.669371</td>\n",
       "      <td>-0.446702</td>\n",
       "      <td>-0.499778</td>\n",
       "      <td>...</td>\n",
       "      <td>0.0</td>\n",
       "      <td>0.0</td>\n",
       "      <td>0.0</td>\n",
       "      <td>0.0</td>\n",
       "      <td>1.0</td>\n",
       "      <td>0.0</td>\n",
       "      <td>1.0</td>\n",
       "      <td>0.0</td>\n",
       "      <td>0.0</td>\n",
       "      <td>0.0</td>\n",
       "    </tr>\n",
       "    <tr>\n",
       "      <th>722</th>\n",
       "      <td>0.400714</td>\n",
       "      <td>-1.111584</td>\n",
       "      <td>-0.129743</td>\n",
       "      <td>3.194089</td>\n",
       "      <td>1.538926</td>\n",
       "      <td>-0.594668</td>\n",
       "      <td>-0.974641</td>\n",
       "      <td>-0.127373</td>\n",
       "      <td>-0.446702</td>\n",
       "      <td>-0.499778</td>\n",
       "      <td>...</td>\n",
       "      <td>0.0</td>\n",
       "      <td>0.0</td>\n",
       "      <td>0.0</td>\n",
       "      <td>0.0</td>\n",
       "      <td>1.0</td>\n",
       "      <td>0.0</td>\n",
       "      <td>0.0</td>\n",
       "      <td>0.0</td>\n",
       "      <td>1.0</td>\n",
       "      <td>0.0</td>\n",
       "    </tr>\n",
       "  </tbody>\n",
       "</table>\n",
       "<p>5 rows × 46 columns</p>\n",
       "</div>"
      ],
      "text/plain": [
       "      longitude  latitude  review_scores_rating  number_of_reviews  \\\n",
       "5484  -1.998871 -0.783981              0.304899           1.084616   \n",
       "1267   0.094447 -0.756122              0.413560          -0.402834   \n",
       "6658   1.266501  2.266244              0.739541          -0.511012   \n",
       "2522  -0.280005 -0.971618              0.087578          -0.024210   \n",
       "722    0.400714 -1.111584             -0.129743           3.194089   \n",
       "\n",
       "      minimum_nights  security_deposit  cleaning_fee  accommodates  bathrooms  \\\n",
       "5484       -0.142452         -0.089243      0.214312      0.414626  -0.446702   \n",
       "1267       -0.022353         -0.594668     -0.694888     -0.669371  -0.446702   \n",
       "6658       -0.142452         -0.594668     -0.415134     -0.669371  -0.446702   \n",
       "2522       -0.082403         -0.594668     -0.974641     -0.669371  -0.446702   \n",
       "722         1.538926         -0.594668     -0.974641     -0.127373  -0.446702   \n",
       "\n",
       "      bedrooms  ...  Serviced apartment  Townhouse  Villa  Entire home/apt  \\\n",
       "5484  0.633003  ...                 0.0        0.0    0.0              1.0   \n",
       "1267 -0.499778  ...                 0.0        0.0    0.0              0.0   \n",
       "6658 -0.499778  ...                 0.0        0.0    0.0              1.0   \n",
       "2522 -0.499778  ...                 0.0        0.0    0.0              0.0   \n",
       "722  -0.499778  ...                 0.0        0.0    0.0              0.0   \n",
       "\n",
       "      Private room  Shared room  flexible  moderate  \\\n",
       "5484           0.0          0.0       0.0       1.0   \n",
       "1267           1.0          0.0       0.0       1.0   \n",
       "6658           0.0          0.0       0.0       0.0   \n",
       "2522           1.0          0.0       1.0       0.0   \n",
       "722            1.0          0.0       0.0       0.0   \n",
       "\n",
       "      strict_14_with_grace_period  super_strict_60  \n",
       "5484                          0.0              0.0  \n",
       "1267                          0.0              0.0  \n",
       "6658                          1.0              0.0  \n",
       "2522                          0.0              0.0  \n",
       "722                           1.0              0.0  \n",
       "\n",
       "[5 rows x 46 columns]"
      ]
     },
     "execution_count": 143,
     "metadata": {},
     "output_type": "execute_result"
    }
   ],
   "source": [
    "params = {\"inds\" : list(X.index)}\n",
    "\n",
    "X_pr = pipe(**params).fit_transform(X) \n",
    "\n",
    "X_pr.head()"
   ]
  },
  {
   "cell_type": "markdown",
   "metadata": {},
   "source": [
    "### Selecionando e Treinando dos Modelos"
   ]
  },
  {
   "cell_type": "markdown",
   "metadata": {},
   "source": [
    "> Treinando "
   ]
  },
  {
   "cell_type": "code",
   "execution_count": 144,
   "metadata": {},
   "outputs": [
    {
     "data": {
      "text/plain": [
       "LinearRegression(copy_X=True, fit_intercept=True, n_jobs=None, normalize=False)"
      ]
     },
     "execution_count": 144,
     "metadata": {},
     "output_type": "execute_result"
    }
   ],
   "source": [
    "from sklearn.linear_model import LinearRegression\n",
    "Y_pr = Y.copy() # just for naming convention, _pr for processed.\n",
    "\n",
    "lin_reg = LinearRegression()\n",
    "lin_reg.fit(X_pr, Y_pr)"
   ]
  },
  {
   "cell_type": "markdown",
   "metadata": {},
   "source": [
    "> Prevendo alguns valores"
   ]
  },
  {
   "cell_type": "code",
   "execution_count": 145,
   "metadata": {},
   "outputs": [
    {
     "name": "stdout",
     "output_type": "stream",
     "text": [
      "Predictions: [213.59492156  47.76080438 151.16297931  44.71920151  71.67545185]\n"
     ]
    }
   ],
   "source": [
    "some_data = X.iloc[:5]\n",
    "some_labels = Y.iloc[:5]\n",
    "some_data_prepared = pipe(inds=list(some_data.index)).transform(some_data)\n",
    "\n",
    "print(\"Predictions:\", lin_reg.predict(some_data_prepared))"
   ]
  },
  {
   "cell_type": "markdown",
   "metadata": {},
   "source": [
    "<i> Vamos comparar com os resultados verdadeiros"
   ]
  },
  {
   "cell_type": "code",
   "execution_count": 146,
   "metadata": {},
   "outputs": [
    {
     "name": "stdout",
     "output_type": "stream",
     "text": [
      "Labels: [200.0, 183.0, 175.0, 85.0, 80.0]\n"
     ]
    }
   ],
   "source": [
    "print(\"Labels:\", list(some_labels))"
   ]
  },
  {
   "cell_type": "markdown",
   "metadata": {},
   "source": [
    "- Naturalmente, essas métricas não são tão justas, porque são simples.\n",
    "- No entanto, pelo fato do primeiro modelo é linear, é menos provável o modelo ficar overfitted.\n",
    "- Mais tarde, lidaremos com a validação utilizando amostras de teste.\n",
    "***\n",
    "Calculando a performance:"
   ]
  },
  {
   "cell_type": "code",
   "execution_count": 147,
   "metadata": {},
   "outputs": [
    {
     "data": {
      "text/plain": [
       "94.04131367984128"
      ]
     },
     "execution_count": 147,
     "metadata": {},
     "output_type": "execute_result"
    }
   ],
   "source": [
    "from sklearn.metrics import mean_squared_error, mean_absolute_error\n",
    "\n",
    "X_pred = lin_reg.predict(X_pr)\n",
    "lin_mse = mean_squared_error(Y, X_pred)\n",
    "lin_rmse = np.sqrt(lin_mse)\n",
    "lin_rmse"
   ]
  },
  {
   "cell_type": "code",
   "execution_count": 148,
   "metadata": {},
   "outputs": [
    {
     "data": {
      "text/plain": [
       "60.10040604159422"
      ]
     },
     "execution_count": 148,
     "metadata": {},
     "output_type": "execute_result"
    }
   ],
   "source": [
    "from sklearn.metrics import mean_absolute_error\n",
    "\n",
    "lin_mae = mean_absolute_error(Y, X_pred)\n",
    "lin_mae"
   ]
  },
  {
   "cell_type": "markdown",
   "metadata": {},
   "source": [
    "**Decision tree**"
   ]
  },
  {
   "cell_type": "code",
   "execution_count": 149,
   "metadata": {},
   "outputs": [
    {
     "data": {
      "text/plain": [
       "0.0"
      ]
     },
     "execution_count": 149,
     "metadata": {},
     "output_type": "execute_result"
    }
   ],
   "source": [
    "from sklearn.tree import DecisionTreeRegressor\n",
    "\n",
    "tree_reg = DecisionTreeRegressor(random_state=42)\n",
    "tree_reg.fit(X_pr, Y)\n",
    "\n",
    "X_pred = tree_reg.predict(X_pr)\n",
    "tree_mse = mean_squared_error(Y, X_pred)\n",
    "tree_rmse = np.sqrt(tree_mse)\n",
    "tree_rmse "
   ]
  },
  {
   "cell_type": "markdown",
   "metadata": {},
   "source": [
    "O modelo se tornou complexo e acabou ocorrendo o overfit\n",
    "***\n",
    "Agora é hora de sintonizar nosso modelo."
   ]
  },
  {
   "cell_type": "code",
   "execution_count": 150,
   "metadata": {},
   "outputs": [],
   "source": [
    "from sklearn.model_selection import cross_val_score\n",
    "\n",
    "scores = cross_val_score(DecisionTreeRegressor(random_state=42), X_pr, Y,\n",
    "                         scoring=\"neg_mean_squared_error\", cv=10)\n",
    "tree_rmse_scores = np.sqrt(-scores)"
   ]
  },
  {
   "cell_type": "code",
   "execution_count": 151,
   "metadata": {},
   "outputs": [
    {
     "name": "stdout",
     "output_type": "stream",
     "text": [
      "Scores: [139.86257343 137.57823128 107.82596734  99.60590789 136.07611848\n",
      " 143.87862139 136.10783966 124.14661686 118.67656074 108.48785824]\n",
      "Mean: 125.22462953067368\n",
      "Standard deviation: 14.94738284533251\n"
     ]
    }
   ],
   "source": [
    "def display_scores(scores):\n",
    "    print(\"Scores:\", scores)\n",
    "    print(\"Mean:\", scores.mean())\n",
    "    print(\"Standard deviation:\", scores.std())\n",
    "\n",
    "display_scores(tree_rmse_scores)"
   ]
  },
  {
   "cell_type": "markdown",
   "metadata": {},
   "source": [
    "**Random Florest Regression**"
   ]
  },
  {
   "cell_type": "code",
   "execution_count": 152,
   "metadata": {},
   "outputs": [
    {
     "name": "stderr",
     "output_type": "stream",
     "text": [
      "C:\\Users\\Safira\\AppData\\Roaming\\Python\\Python37\\site-packages\\sklearn\\ensemble\\forest.py:245: FutureWarning: The default value of n_estimators will change from 10 in version 0.20 to 100 in 0.22.\n",
      "  \"10 in version 0.20 to 100 in 0.22.\", FutureWarning)\n"
     ]
    },
    {
     "data": {
      "text/plain": [
       "39.65620086202112"
      ]
     },
     "execution_count": 152,
     "metadata": {},
     "output_type": "execute_result"
    }
   ],
   "source": [
    "from sklearn.ensemble import RandomForestRegressor\n",
    "\n",
    "forest_reg = RandomForestRegressor(random_state=42)\n",
    "forest_reg.fit(X_pr, Y)\n",
    "\n",
    "X_pred = forest_reg.predict(X_pr)\n",
    "forest_mse = mean_squared_error(Y, X_pred)\n",
    "forest_rmse = np.sqrt(forest_mse)\n",
    "forest_rmse"
   ]
  },
  {
   "cell_type": "code",
   "execution_count": 153,
   "metadata": {},
   "outputs": [
    {
     "name": "stdout",
     "output_type": "stream",
     "text": [
      "Scores: [100.56986232  97.87713067  88.45537718  82.74731709  98.25427718\n",
      "  95.91454162  87.16623842  86.42895408  81.87165939  88.78452043]\n",
      "Mean: 90.80698783852344\n",
      "Standard deviation: 6.431881001048496\n"
     ]
    }
   ],
   "source": [
    "from sklearn.model_selection import cross_val_score\n",
    "\n",
    "forest_scores = cross_val_score(forest_reg, X_pr, Y,\n",
    "                                scoring=\"neg_mean_squared_error\", cv=10)\n",
    "forest_rmse_scores = np.sqrt(-forest_scores)\n",
    "display_scores(forest_rmse_scores)"
   ]
  },
  {
   "cell_type": "code",
   "execution_count": 154,
   "metadata": {},
   "outputs": [
    {
     "data": {
      "text/plain": [
       "count     10.000000\n",
       "mean      95.275002\n",
       "std        8.405222\n",
       "min       84.384181\n",
       "25%       87.706739\n",
       "50%       95.959333\n",
       "75%      100.531356\n",
       "max      110.492833\n",
       "dtype: float64"
      ]
     },
     "execution_count": 154,
     "metadata": {},
     "output_type": "execute_result"
    }
   ],
   "source": [
    "scores = cross_val_score(lin_reg,  X_pr, Y, scoring=\"neg_mean_squared_error\", cv=10)\n",
    "pd.Series(np.sqrt(-scores)).describe()"
   ]
  },
  {
   "cell_type": "markdown",
   "metadata": {},
   "source": [
    "**Suport Vector Regressor**"
   ]
  },
  {
   "cell_type": "code",
   "execution_count": 155,
   "metadata": {},
   "outputs": [
    {
     "data": {
      "text/plain": [
       "103.08131899848134"
      ]
     },
     "execution_count": 155,
     "metadata": {},
     "output_type": "execute_result"
    }
   ],
   "source": [
    "from sklearn.svm import SVR\n",
    "\n",
    "svm_reg = SVR(kernel=\"linear\")\n",
    "svm_reg.fit( X_pr, Y,)\n",
    "X_pred = svm_reg.predict(X_pr)\n",
    "svm_mse = mean_squared_error(Y, X_pred)\n",
    "svm_rmse = np.sqrt(svm_mse)\n",
    "svm_rmse"
   ]
  },
  {
   "cell_type": "markdown",
   "metadata": {},
   "source": [
    "### Vamos usar a função GridSearchCV para buscar os melhores parâmetros para nosso modelo. (RandomFlorest)"
   ]
  },
  {
   "cell_type": "code",
   "execution_count": 156,
   "metadata": {},
   "outputs": [
    {
     "data": {
      "text/plain": [
       "GridSearchCV(cv=5, error_score='raise-deprecating',\n",
       "             estimator=RandomForestRegressor(bootstrap=True, criterion='mse',\n",
       "                                             max_depth=None,\n",
       "                                             max_features='auto',\n",
       "                                             max_leaf_nodes=None,\n",
       "                                             min_impurity_decrease=0.0,\n",
       "                                             min_impurity_split=None,\n",
       "                                             min_samples_leaf=1,\n",
       "                                             min_samples_split=2,\n",
       "                                             min_weight_fraction_leaf=0.0,\n",
       "                                             n_estimators='warn', n_jobs=None,\n",
       "                                             oob_score=False, random_state=42,\n",
       "                                             verbose=0, warm_start=False),\n",
       "             iid='warn', n_jobs=None,\n",
       "             param_grid=[{'max_features': [2, 4, 6, 8],\n",
       "                          'n_estimators': [3, 10, 30]},\n",
       "                         {'bootstrap': [False], 'max_features': [2, 3, 4],\n",
       "                          'n_estimators': [3, 10]}],\n",
       "             pre_dispatch='2*n_jobs', refit=True, return_train_score=True,\n",
       "             scoring='neg_mean_squared_error', verbose=0)"
      ]
     },
     "execution_count": 156,
     "metadata": {},
     "output_type": "execute_result"
    }
   ],
   "source": [
    "from sklearn.model_selection import GridSearchCV\n",
    "\n",
    "param_grid = [\n",
    "    # try 12 (3×4) combinations of hyperparameters\n",
    "    {'n_estimators': [3, 10, 30], 'max_features': [2, 4, 6, 8]},\n",
    "    # then try 6 (2×3) combinations with bootstrap set as False\n",
    "    {'bootstrap': [False], 'n_estimators': [3, 10], 'max_features': [2, 3, 4]},\n",
    "  ]\n",
    "\n",
    "forest_reg = RandomForestRegressor(random_state=42)\n",
    "# train across 5 folds, that's a total of (12+6)*5=90 rounds of training \n",
    "grid_search = GridSearchCV(forest_reg, param_grid, cv=5,\n",
    "                           scoring='neg_mean_squared_error', return_train_score=True)\n",
    "grid_search.fit( X_pr, Y)"
   ]
  },
  {
   "cell_type": "markdown",
   "metadata": {},
   "source": [
    "***\n",
    "> Melhor hiperparâmetros e modelo"
   ]
  },
  {
   "cell_type": "code",
   "execution_count": 159,
   "metadata": {},
   "outputs": [
    {
     "name": "stdout",
     "output_type": "stream",
     "text": [
      "{'max_features': 6, 'n_estimators': 30}\n",
      "\n",
      "\n",
      "\n",
      "RandomForestRegressor(bootstrap=True, criterion='mse', max_depth=None,\n",
      "                      max_features=6, max_leaf_nodes=None,\n",
      "                      min_impurity_decrease=0.0, min_impurity_split=None,\n",
      "                      min_samples_leaf=1, min_samples_split=2,\n",
      "                      min_weight_fraction_leaf=0.0, n_estimators=30,\n",
      "                      n_jobs=None, oob_score=False, random_state=42, verbose=0,\n",
      "                      warm_start=False)\n"
     ]
    }
   ],
   "source": [
    "print(grid_search.best_params_)\n",
    "print(\"\\n\\n\")\n",
    "print(grid_search.best_estimator_)"
   ]
  },
  {
   "cell_type": "markdown",
   "metadata": {},
   "source": [
    "***\n",
    "Vamos dar uma olhada na pontuação de cada combinação de hiperparâmetros testada durante a pesquisa na grade:"
   ]
  },
  {
   "cell_type": "code",
   "execution_count": 160,
   "metadata": {},
   "outputs": [
    {
     "name": "stdout",
     "output_type": "stream",
     "text": [
      "108.93208086856126 {'max_features': 2, 'n_estimators': 3}\n",
      "96.12395819721317 {'max_features': 2, 'n_estimators': 10}\n",
      "89.89984993515455 {'max_features': 2, 'n_estimators': 30}\n",
      "103.44916311399588 {'max_features': 4, 'n_estimators': 3}\n",
      "92.84971010162162 {'max_features': 4, 'n_estimators': 10}\n",
      "88.49523286377755 {'max_features': 4, 'n_estimators': 30}\n",
      "99.2579822552576 {'max_features': 6, 'n_estimators': 3}\n",
      "90.63899084946257 {'max_features': 6, 'n_estimators': 10}\n",
      "86.96965512982227 {'max_features': 6, 'n_estimators': 30}\n",
      "105.21862925870472 {'max_features': 8, 'n_estimators': 3}\n",
      "91.08181466487558 {'max_features': 8, 'n_estimators': 10}\n",
      "87.46393666401863 {'max_features': 8, 'n_estimators': 30}\n",
      "105.88554965842813 {'bootstrap': False, 'max_features': 2, 'n_estimators': 3}\n",
      "95.17660140869557 {'bootstrap': False, 'max_features': 2, 'n_estimators': 10}\n",
      "102.70980454062152 {'bootstrap': False, 'max_features': 3, 'n_estimators': 3}\n",
      "91.23507076013144 {'bootstrap': False, 'max_features': 3, 'n_estimators': 10}\n",
      "103.17093526317566 {'bootstrap': False, 'max_features': 4, 'n_estimators': 3}\n",
      "92.4108603933599 {'bootstrap': False, 'max_features': 4, 'n_estimators': 10}\n",
      "\n",
      "Best grid-search performance:  86.96965512982227\n"
     ]
    }
   ],
   "source": [
    "cvres = grid_search.cv_results_\n",
    "for mean_score, params in zip(cvres[\"mean_test_score\"], cvres[\"params\"]):\n",
    "    print(np.sqrt(-mean_score), params)\n",
    "    \n",
    "print(\"\")\n",
    "print(\"Best grid-search performance: \", np.sqrt(-cvres[\"mean_test_score\"].max()))"
   ]
  },
  {
   "cell_type": "markdown",
   "metadata": {},
   "source": [
    "#### Top 5 resultados "
   ]
  },
  {
   "cell_type": "code",
   "execution_count": 161,
   "metadata": {},
   "outputs": [
    {
     "data": {
      "text/html": [
       "<div>\n",
       "<style scoped>\n",
       "    .dataframe tbody tr th:only-of-type {\n",
       "        vertical-align: middle;\n",
       "    }\n",
       "\n",
       "    .dataframe tbody tr th {\n",
       "        vertical-align: top;\n",
       "    }\n",
       "\n",
       "    .dataframe thead th {\n",
       "        text-align: right;\n",
       "    }\n",
       "</style>\n",
       "<table border=\"1\" class=\"dataframe\">\n",
       "  <thead>\n",
       "    <tr style=\"text-align: right;\">\n",
       "      <th></th>\n",
       "      <th>mean_fit_time</th>\n",
       "      <th>std_fit_time</th>\n",
       "      <th>mean_score_time</th>\n",
       "      <th>std_score_time</th>\n",
       "      <th>param_max_features</th>\n",
       "      <th>param_n_estimators</th>\n",
       "      <th>param_bootstrap</th>\n",
       "      <th>params</th>\n",
       "      <th>split0_test_score</th>\n",
       "      <th>split1_test_score</th>\n",
       "      <th>...</th>\n",
       "      <th>mean_test_score</th>\n",
       "      <th>std_test_score</th>\n",
       "      <th>rank_test_score</th>\n",
       "      <th>split0_train_score</th>\n",
       "      <th>split1_train_score</th>\n",
       "      <th>split2_train_score</th>\n",
       "      <th>split3_train_score</th>\n",
       "      <th>split4_train_score</th>\n",
       "      <th>mean_train_score</th>\n",
       "      <th>std_train_score</th>\n",
       "    </tr>\n",
       "  </thead>\n",
       "  <tbody>\n",
       "    <tr>\n",
       "      <th>0</th>\n",
       "      <td>0.032199</td>\n",
       "      <td>0.002314</td>\n",
       "      <td>0.004802</td>\n",
       "      <td>0.000747</td>\n",
       "      <td>2</td>\n",
       "      <td>3</td>\n",
       "      <td>NaN</td>\n",
       "      <td>{'max_features': 2, 'n_estimators': 3}</td>\n",
       "      <td>-12955.951619</td>\n",
       "      <td>-12496.273805</td>\n",
       "      <td>...</td>\n",
       "      <td>-11866.198242</td>\n",
       "      <td>970.863065</td>\n",
       "      <td>18</td>\n",
       "      <td>-2839.471955</td>\n",
       "      <td>-3196.243241</td>\n",
       "      <td>-2998.057660</td>\n",
       "      <td>-3405.745375</td>\n",
       "      <td>-2739.529514</td>\n",
       "      <td>-3035.809549</td>\n",
       "      <td>240.975932</td>\n",
       "    </tr>\n",
       "    <tr>\n",
       "      <th>1</th>\n",
       "      <td>0.070325</td>\n",
       "      <td>0.007486</td>\n",
       "      <td>0.006406</td>\n",
       "      <td>0.004105</td>\n",
       "      <td>2</td>\n",
       "      <td>10</td>\n",
       "      <td>NaN</td>\n",
       "      <td>{'max_features': 2, 'n_estimators': 10}</td>\n",
       "      <td>-10741.179242</td>\n",
       "      <td>-9961.423383</td>\n",
       "      <td>...</td>\n",
       "      <td>-9239.815339</td>\n",
       "      <td>1202.796914</td>\n",
       "      <td>11</td>\n",
       "      <td>-1524.100350</td>\n",
       "      <td>-1609.014963</td>\n",
       "      <td>-1622.676561</td>\n",
       "      <td>-1791.866385</td>\n",
       "      <td>-1645.413691</td>\n",
       "      <td>-1638.614390</td>\n",
       "      <td>86.920665</td>\n",
       "    </tr>\n",
       "    <tr>\n",
       "      <th>2</th>\n",
       "      <td>0.233318</td>\n",
       "      <td>0.055527</td>\n",
       "      <td>0.013440</td>\n",
       "      <td>0.001665</td>\n",
       "      <td>2</td>\n",
       "      <td>30</td>\n",
       "      <td>NaN</td>\n",
       "      <td>{'max_features': 2, 'n_estimators': 30}</td>\n",
       "      <td>-9577.207193</td>\n",
       "      <td>-7968.894606</td>\n",
       "      <td>...</td>\n",
       "      <td>-8081.983018</td>\n",
       "      <td>1050.511519</td>\n",
       "      <td>4</td>\n",
       "      <td>-1222.581973</td>\n",
       "      <td>-1323.830022</td>\n",
       "      <td>-1317.687284</td>\n",
       "      <td>-1335.575113</td>\n",
       "      <td>-1262.182988</td>\n",
       "      <td>-1292.371476</td>\n",
       "      <td>43.079007</td>\n",
       "    </tr>\n",
       "    <tr>\n",
       "      <th>3</th>\n",
       "      <td>0.030779</td>\n",
       "      <td>0.004113</td>\n",
       "      <td>0.002808</td>\n",
       "      <td>0.002323</td>\n",
       "      <td>4</td>\n",
       "      <td>3</td>\n",
       "      <td>NaN</td>\n",
       "      <td>{'max_features': 4, 'n_estimators': 3}</td>\n",
       "      <td>-11351.522353</td>\n",
       "      <td>-10037.195186</td>\n",
       "      <td>...</td>\n",
       "      <td>-10701.729349</td>\n",
       "      <td>737.332308</td>\n",
       "      <td>15</td>\n",
       "      <td>-2833.621635</td>\n",
       "      <td>-3022.659878</td>\n",
       "      <td>-2714.068214</td>\n",
       "      <td>-2781.240276</td>\n",
       "      <td>-2980.295298</td>\n",
       "      <td>-2866.377060</td>\n",
       "      <td>117.406012</td>\n",
       "    </tr>\n",
       "    <tr>\n",
       "      <th>4</th>\n",
       "      <td>0.097383</td>\n",
       "      <td>0.011270</td>\n",
       "      <td>0.006402</td>\n",
       "      <td>0.001359</td>\n",
       "      <td>4</td>\n",
       "      <td>10</td>\n",
       "      <td>NaN</td>\n",
       "      <td>{'max_features': 4, 'n_estimators': 10}</td>\n",
       "      <td>-9652.668346</td>\n",
       "      <td>-8527.164984</td>\n",
       "      <td>...</td>\n",
       "      <td>-8621.068666</td>\n",
       "      <td>612.415623</td>\n",
       "      <td>9</td>\n",
       "      <td>-1433.697737</td>\n",
       "      <td>-1576.146321</td>\n",
       "      <td>-1505.256566</td>\n",
       "      <td>-1708.763020</td>\n",
       "      <td>-1683.084328</td>\n",
       "      <td>-1581.389594</td>\n",
       "      <td>104.117648</td>\n",
       "    </tr>\n",
       "  </tbody>\n",
       "</table>\n",
       "<p>5 rows × 23 columns</p>\n",
       "</div>"
      ],
      "text/plain": [
       "   mean_fit_time  std_fit_time  mean_score_time  std_score_time  \\\n",
       "0       0.032199      0.002314         0.004802        0.000747   \n",
       "1       0.070325      0.007486         0.006406        0.004105   \n",
       "2       0.233318      0.055527         0.013440        0.001665   \n",
       "3       0.030779      0.004113         0.002808        0.002323   \n",
       "4       0.097383      0.011270         0.006402        0.001359   \n",
       "\n",
       "  param_max_features param_n_estimators param_bootstrap  \\\n",
       "0                  2                  3             NaN   \n",
       "1                  2                 10             NaN   \n",
       "2                  2                 30             NaN   \n",
       "3                  4                  3             NaN   \n",
       "4                  4                 10             NaN   \n",
       "\n",
       "                                    params  split0_test_score  \\\n",
       "0   {'max_features': 2, 'n_estimators': 3}      -12955.951619   \n",
       "1  {'max_features': 2, 'n_estimators': 10}      -10741.179242   \n",
       "2  {'max_features': 2, 'n_estimators': 30}       -9577.207193   \n",
       "3   {'max_features': 4, 'n_estimators': 3}      -11351.522353   \n",
       "4  {'max_features': 4, 'n_estimators': 10}       -9652.668346   \n",
       "\n",
       "   split1_test_score  ...  mean_test_score  std_test_score  rank_test_score  \\\n",
       "0      -12496.273805  ...    -11866.198242      970.863065               18   \n",
       "1       -9961.423383  ...     -9239.815339     1202.796914               11   \n",
       "2       -7968.894606  ...     -8081.983018     1050.511519                4   \n",
       "3      -10037.195186  ...    -10701.729349      737.332308               15   \n",
       "4       -8527.164984  ...     -8621.068666      612.415623                9   \n",
       "\n",
       "   split0_train_score  split1_train_score  split2_train_score  \\\n",
       "0        -2839.471955        -3196.243241        -2998.057660   \n",
       "1        -1524.100350        -1609.014963        -1622.676561   \n",
       "2        -1222.581973        -1323.830022        -1317.687284   \n",
       "3        -2833.621635        -3022.659878        -2714.068214   \n",
       "4        -1433.697737        -1576.146321        -1505.256566   \n",
       "\n",
       "   split3_train_score  split4_train_score  mean_train_score  std_train_score  \n",
       "0        -3405.745375        -2739.529514      -3035.809549       240.975932  \n",
       "1        -1791.866385        -1645.413691      -1638.614390        86.920665  \n",
       "2        -1335.575113        -1262.182988      -1292.371476        43.079007  \n",
       "3        -2781.240276        -2980.295298      -2866.377060       117.406012  \n",
       "4        -1708.763020        -1683.084328      -1581.389594       104.117648  \n",
       "\n",
       "[5 rows x 23 columns]"
      ]
     },
     "execution_count": 161,
     "metadata": {},
     "output_type": "execute_result"
    }
   ],
   "source": [
    "pd.DataFrame(grid_search.cv_results_).head(5)"
   ]
  },
  {
   "cell_type": "markdown",
   "metadata": {},
   "source": [
    "### Vamos usar a função RandomizedSearchCV para buscar os melhores parâmetros para nosso modelo."
   ]
  },
  {
   "cell_type": "code",
   "execution_count": 162,
   "metadata": {},
   "outputs": [
    {
     "data": {
      "text/plain": [
       "RandomizedSearchCV(cv=5, error_score='raise-deprecating',\n",
       "                   estimator=RandomForestRegressor(bootstrap=True,\n",
       "                                                   criterion='mse',\n",
       "                                                   max_depth=None,\n",
       "                                                   max_features='auto',\n",
       "                                                   max_leaf_nodes=None,\n",
       "                                                   min_impurity_decrease=0.0,\n",
       "                                                   min_impurity_split=None,\n",
       "                                                   min_samples_leaf=1,\n",
       "                                                   min_samples_split=2,\n",
       "                                                   min_weight_fraction_leaf=0.0,\n",
       "                                                   n_estimators='warn',\n",
       "                                                   n_jobs=None, oob_score=False,\n",
       "                                                   random_sta...\n",
       "                                                   warm_start=False),\n",
       "                   iid='warn', n_iter=5, n_jobs=None,\n",
       "                   param_distributions={'max_features': <scipy.stats._distn_infrastructure.rv_frozen object at 0x0000025E92EE2160>,\n",
       "                                        'n_estimators': <scipy.stats._distn_infrastructure.rv_frozen object at 0x0000025E94F0E518>},\n",
       "                   pre_dispatch='2*n_jobs', random_state=42, refit=True,\n",
       "                   return_train_score=False, scoring='neg_mean_squared_error',\n",
       "                   verbose=0)"
      ]
     },
     "execution_count": 162,
     "metadata": {},
     "output_type": "execute_result"
    }
   ],
   "source": [
    "from sklearn.model_selection import RandomizedSearchCV\n",
    "from scipy.stats import randint\n",
    "\n",
    "param_distribs = {\n",
    "        'n_estimators': randint(low=1, high=200),\n",
    "        'max_features': randint(low=1, high=8),\n",
    "    }\n",
    "\n",
    "forest_reg = RandomForestRegressor(random_state=42)\n",
    "rnd_search = RandomizedSearchCV(forest_reg, param_distributions=param_distribs,\n",
    "                                n_iter=5, cv=5, scoring='neg_mean_squared_error', random_state=42)\n",
    "rnd_search.fit( X_pr, Y)"
   ]
  },
  {
   "cell_type": "code",
   "execution_count": 163,
   "metadata": {},
   "outputs": [
    {
     "name": "stdout",
     "output_type": "stream",
     "text": [
      "87.30239023747926 {'max_features': 7, 'n_estimators': 180}\n",
      "90.85502468751419 {'max_features': 5, 'n_estimators': 15}\n",
      "89.1967786173295 {'max_features': 3, 'n_estimators': 72}\n",
      "89.4235855759541 {'max_features': 5, 'n_estimators': 21}\n",
      "87.45708883783517 {'max_features': 7, 'n_estimators': 122}\n",
      "Best grid-search performance:  87.30239023747926\n"
     ]
    }
   ],
   "source": [
    "cvres = rnd_search.cv_results_\n",
    "for mean_score, params in zip(cvres[\"mean_test_score\"], cvres[\"params\"]):\n",
    "    print(np.sqrt(-mean_score), params)\n",
    "    \n",
    "print(\"Best grid-search performance: \", np.sqrt(-cvres[\"mean_test_score\"].max()))"
   ]
  },
  {
   "cell_type": "code",
   "execution_count": 164,
   "metadata": {},
   "outputs": [
    {
     "data": {
      "text/plain": [
       "array([4.65293746e-02, 3.18548140e-02, 2.74864514e-02, 2.26043777e-02,\n",
       "       2.09202538e-02, 4.72852229e-02, 6.33613592e-02, 1.04145365e-01,\n",
       "       1.07054999e-01, 1.33051646e-01, 1.02655344e-01, 2.70803818e-02,\n",
       "       0.00000000e+00, 0.00000000e+00, 2.31711160e-02, 3.88036055e-02,\n",
       "       3.80629859e-02, 3.03789252e-03, 4.40949013e-03, 2.26751516e-03,\n",
       "       2.50129838e-03, 3.96207706e-03, 1.44565809e-03, 4.92331505e-03,\n",
       "       2.25233417e-03, 2.24662174e-03, 3.22770057e-03, 1.30367360e-02,\n",
       "       7.01159148e-04, 2.81284647e-03, 1.05305022e-04, 1.25206576e-03,\n",
       "       3.91112401e-04, 2.26791574e-02, 2.44831744e-04, 3.95128365e-04,\n",
       "       9.75685967e-05, 1.65943938e-03, 2.70659495e-03, 4.43589769e-02,\n",
       "       2.62279869e-02, 2.27397209e-03, 4.86709007e-03, 4.69808442e-03,\n",
       "       6.66483670e-03, 4.85907432e-04])"
      ]
     },
     "execution_count": 164,
     "metadata": {},
     "output_type": "execute_result"
    }
   ],
   "source": [
    "feature_importances = grid_search.best_estimator_.feature_importances_\n",
    "feature_importances"
   ]
  },
  {
   "cell_type": "code",
   "execution_count": 165,
   "metadata": {},
   "outputs": [
    {
     "data": {
      "text/html": [
       "<div>\n",
       "<style scoped>\n",
       "    .dataframe tbody tr th:only-of-type {\n",
       "        vertical-align: middle;\n",
       "    }\n",
       "\n",
       "    .dataframe tbody tr th {\n",
       "        vertical-align: top;\n",
       "    }\n",
       "\n",
       "    .dataframe thead th {\n",
       "        text-align: right;\n",
       "    }\n",
       "</style>\n",
       "<table border=\"1\" class=\"dataframe\">\n",
       "  <thead>\n",
       "    <tr style=\"text-align: right;\">\n",
       "      <th></th>\n",
       "      <th>Name</th>\n",
       "      <th>Score</th>\n",
       "    </tr>\n",
       "  </thead>\n",
       "  <tbody>\n",
       "    <tr>\n",
       "      <th>9</th>\n",
       "      <td>bedrooms</td>\n",
       "      <td>0.13305</td>\n",
       "    </tr>\n",
       "    <tr>\n",
       "      <th>8</th>\n",
       "      <td>bathrooms</td>\n",
       "      <td>0.10705</td>\n",
       "    </tr>\n",
       "    <tr>\n",
       "      <th>7</th>\n",
       "      <td>accommodates</td>\n",
       "      <td>0.10415</td>\n",
       "    </tr>\n",
       "    <tr>\n",
       "      <th>10</th>\n",
       "      <td>beds</td>\n",
       "      <td>0.10266</td>\n",
       "    </tr>\n",
       "    <tr>\n",
       "      <th>6</th>\n",
       "      <td>cleaning_fee</td>\n",
       "      <td>0.06336</td>\n",
       "    </tr>\n",
       "    <tr>\n",
       "      <th>5</th>\n",
       "      <td>security_deposit</td>\n",
       "      <td>0.04729</td>\n",
       "    </tr>\n",
       "    <tr>\n",
       "      <th>0</th>\n",
       "      <td>longitude</td>\n",
       "      <td>0.04653</td>\n",
       "    </tr>\n",
       "    <tr>\n",
       "      <th>39</th>\n",
       "      <td>Entire home/apt</td>\n",
       "      <td>0.04436</td>\n",
       "    </tr>\n",
       "    <tr>\n",
       "      <th>15</th>\n",
       "      <td>bathrooms_per_person</td>\n",
       "      <td>0.03880</td>\n",
       "    </tr>\n",
       "    <tr>\n",
       "      <th>16</th>\n",
       "      <td>past_and_future_popularity</td>\n",
       "      <td>0.03806</td>\n",
       "    </tr>\n",
       "    <tr>\n",
       "      <th>1</th>\n",
       "      <td>latitude</td>\n",
       "      <td>0.03185</td>\n",
       "    </tr>\n",
       "    <tr>\n",
       "      <th>2</th>\n",
       "      <td>review_scores_rating</td>\n",
       "      <td>0.02749</td>\n",
       "    </tr>\n",
       "    <tr>\n",
       "      <th>11</th>\n",
       "      <td>availability_365</td>\n",
       "      <td>0.02708</td>\n",
       "    </tr>\n",
       "    <tr>\n",
       "      <th>40</th>\n",
       "      <td>Private room</td>\n",
       "      <td>0.02623</td>\n",
       "    </tr>\n",
       "    <tr>\n",
       "      <th>14</th>\n",
       "      <td>bedrooms_per_person</td>\n",
       "      <td>0.02317</td>\n",
       "    </tr>\n",
       "    <tr>\n",
       "      <th>33</th>\n",
       "      <td>House</td>\n",
       "      <td>0.02268</td>\n",
       "    </tr>\n",
       "    <tr>\n",
       "      <th>3</th>\n",
       "      <td>number_of_reviews</td>\n",
       "      <td>0.02260</td>\n",
       "    </tr>\n",
       "    <tr>\n",
       "      <th>4</th>\n",
       "      <td>minimum_nights</td>\n",
       "      <td>0.02092</td>\n",
       "    </tr>\n",
       "    <tr>\n",
       "      <th>27</th>\n",
       "      <td>Apartment</td>\n",
       "      <td>0.01304</td>\n",
       "    </tr>\n",
       "    <tr>\n",
       "      <th>44</th>\n",
       "      <td>strict_14_with_grace_period</td>\n",
       "      <td>0.00666</td>\n",
       "    </tr>\n",
       "  </tbody>\n",
       "</table>\n",
       "</div>"
      ],
      "text/plain": [
       "                           Name    Score\n",
       "9                      bedrooms  0.13305\n",
       "8                     bathrooms  0.10705\n",
       "7                  accommodates  0.10415\n",
       "10                         beds  0.10266\n",
       "6                  cleaning_fee  0.06336\n",
       "5              security_deposit  0.04729\n",
       "0                     longitude  0.04653\n",
       "39              Entire home/apt  0.04436\n",
       "15         bathrooms_per_person  0.03880\n",
       "16   past_and_future_popularity  0.03806\n",
       "1                      latitude  0.03185\n",
       "2          review_scores_rating  0.02749\n",
       "11             availability_365  0.02708\n",
       "40                 Private room  0.02623\n",
       "14          bedrooms_per_person  0.02317\n",
       "33                        House  0.02268\n",
       "3             number_of_reviews  0.02260\n",
       "4                minimum_nights  0.02092\n",
       "27                    Apartment  0.01304\n",
       "44  strict_14_with_grace_period  0.00666"
      ]
     },
     "execution_count": 165,
     "metadata": {},
     "output_type": "execute_result"
    }
   ],
   "source": [
    "feats = pd.DataFrame()\n",
    "feats[\"Name\"] = list(X_pr.columns)\n",
    "feats[\"Score\"] = feature_importances\n",
    "feats.sort_values(\"Score\",ascending=False).round(5).head(20)"
   ]
  },
  {
   "cell_type": "markdown",
   "metadata": {},
   "source": [
    "## Agora é hora de testar nossos dados de teste"
   ]
  },
  {
   "cell_type": "code",
   "execution_count": 166,
   "metadata": {},
   "outputs": [],
   "source": [
    "final_model = grid_search.best_estimator_\n",
    "\n",
    "strat_test_set2 = strat_test_set.dropna()\n",
    "X_test = strat_test_set2.drop(\"price\", axis=1)\n",
    "y_test = strat_test_set2[\"price\"].copy()\n",
    "\n",
    "X_test_prepared = pipe(list(X_test.index)).transform(X_test)\n",
    "final_predictions = final_model.predict(X_test_prepared)\n",
    "\n",
    "final_mse = mean_squared_error(y_test, final_predictions)\n",
    "final_rmse = np.sqrt(final_mse)"
   ]
  },
  {
   "cell_type": "code",
   "execution_count": 167,
   "metadata": {},
   "outputs": [
    {
     "data": {
      "text/plain": [
       "83.21604165813544"
      ]
     },
     "execution_count": 167,
     "metadata": {},
     "output_type": "execute_result"
    }
   ],
   "source": [
    "final_rmse"
   ]
  },
  {
   "cell_type": "code",
   "execution_count": 168,
   "metadata": {},
   "outputs": [
    {
     "data": {
      "text/plain": [
       "50.91005110732539"
      ]
     },
     "execution_count": 168,
     "metadata": {},
     "output_type": "execute_result"
    }
   ],
   "source": [
    "final_mae = mean_absolute_error(y_test, final_predictions)\n",
    "final_mae"
   ]
  },
  {
   "cell_type": "markdown",
   "metadata": {},
   "source": [
    "## Estimando valores para um cliente"
   ]
  },
  {
   "cell_type": "code",
   "execution_count": 169,
   "metadata": {},
   "outputs": [
    {
     "name": "stdout",
     "output_type": "stream",
     "text": [
      "<class 'pandas.core.frame.DataFrame'>\n",
      "RangeIndex: 1 entries, 0 to 0\n",
      "Data columns (total 19 columns):\n",
      "city                      1 non-null object\n",
      "longitude                 1 non-null object\n",
      "latitude                  1 non-null object\n",
      "review_scores_rating      1 non-null object\n",
      "number_of_reviews         1 non-null object\n",
      "minimum_nights            1 non-null object\n",
      "accommodates              1 non-null object\n",
      "bathrooms                 1 non-null object\n",
      "bedrooms                  1 non-null object\n",
      "beds                      1 non-null object\n",
      "security_deposit          1 non-null object\n",
      "cleaning_fee              1 non-null object\n",
      "property_type             1 non-null object\n",
      "room_type                 1 non-null object\n",
      "availability_365          1 non-null object\n",
      "host_identity_verified    1 non-null object\n",
      "host_is_superhost         1 non-null object\n",
      "cancellation_policy       1 non-null object\n",
      "host_since                1 non-null object\n",
      "dtypes: object(19)\n",
      "memory usage: 232.0+ bytes\n"
     ]
    }
   ],
   "source": [
    "df_client = pd.DataFrame.from_dict(dict_client, orient='index').T\n",
    "df_client.info()"
   ]
  },
  {
   "cell_type": "code",
   "execution_count": 170,
   "metadata": {},
   "outputs": [
    {
     "data": {
      "text/plain": [
       "city                                      Bondi Beach\n",
       "longitude                                     151.275\n",
       "latitude                                     -33.8891\n",
       "review_scores_rating                               95\n",
       "number_of_reviews                                  53\n",
       "minimum_nights                                      4\n",
       "accommodates                                       10\n",
       "bathrooms                                           3\n",
       "bedrooms                                            5\n",
       "beds                                                7\n",
       "security_deposit                                 1500\n",
       "cleaning_fee                                      370\n",
       "property_type                                   House\n",
       "room_type                             Entire home/apt\n",
       "availability_365                                  255\n",
       "host_identity_verified                              t\n",
       "host_is_superhost                                   t\n",
       "cancellation_policy       strict_14_with_grace_period\n",
       "host_since                        2010-01-08 00:00:00\n",
       "Name: 0, dtype: object"
      ]
     },
     "execution_count": 170,
     "metadata": {},
     "output_type": "execute_result"
    }
   ],
   "source": [
    "df_client.iloc[0]"
   ]
  },
  {
   "cell_type": "code",
   "execution_count": 172,
   "metadata": {},
   "outputs": [
    {
     "name": "stdout",
     "output_type": "stream",
     "text": [
      "Index(['city', 'longitude', 'latitude', 'review_scores_rating',\n",
      "       'number_of_reviews', 'minimum_nights', 'security_deposit',\n",
      "       'cleaning_fee', 'accommodates', 'bathrooms', 'bedrooms', 'beds',\n",
      "       'property_type', 'room_type', 'availability_365',\n",
      "       'host_identity_verified', 'host_is_superhost', 'host_since',\n",
      "       'cancellation_policy'],\n",
      "      dtype='object')\n"
     ]
    },
    {
     "data": {
      "text/html": [
       "<div>\n",
       "<style scoped>\n",
       "    .dataframe tbody tr th:only-of-type {\n",
       "        vertical-align: middle;\n",
       "    }\n",
       "\n",
       "    .dataframe tbody tr th {\n",
       "        vertical-align: top;\n",
       "    }\n",
       "\n",
       "    .dataframe thead th {\n",
       "        text-align: right;\n",
       "    }\n",
       "</style>\n",
       "<table border=\"1\" class=\"dataframe\">\n",
       "  <thead>\n",
       "    <tr style=\"text-align: right;\">\n",
       "      <th></th>\n",
       "      <th>city</th>\n",
       "      <th>longitude</th>\n",
       "      <th>latitude</th>\n",
       "      <th>review_scores_rating</th>\n",
       "      <th>number_of_reviews</th>\n",
       "      <th>minimum_nights</th>\n",
       "      <th>security_deposit</th>\n",
       "      <th>cleaning_fee</th>\n",
       "      <th>accommodates</th>\n",
       "      <th>bathrooms</th>\n",
       "      <th>bedrooms</th>\n",
       "      <th>beds</th>\n",
       "      <th>property_type</th>\n",
       "      <th>room_type</th>\n",
       "      <th>availability_365</th>\n",
       "      <th>host_identity_verified</th>\n",
       "      <th>host_is_superhost</th>\n",
       "      <th>host_since</th>\n",
       "      <th>cancellation_policy</th>\n",
       "    </tr>\n",
       "  </thead>\n",
       "  <tbody>\n",
       "    <tr>\n",
       "      <th>0</th>\n",
       "      <td>Bondi Beach</td>\n",
       "      <td>151.275</td>\n",
       "      <td>-33.8891</td>\n",
       "      <td>95</td>\n",
       "      <td>53</td>\n",
       "      <td>4</td>\n",
       "      <td>1500</td>\n",
       "      <td>370</td>\n",
       "      <td>10</td>\n",
       "      <td>3</td>\n",
       "      <td>5</td>\n",
       "      <td>7</td>\n",
       "      <td>House</td>\n",
       "      <td>Entire home/apt</td>\n",
       "      <td>255</td>\n",
       "      <td>1</td>\n",
       "      <td>1</td>\n",
       "      <td>2010-01-08 00:00:00</td>\n",
       "      <td>strict_14_with_grace_period</td>\n",
       "    </tr>\n",
       "  </tbody>\n",
       "</table>\n",
       "</div>"
      ],
      "text/plain": [
       "          city longitude latitude review_scores_rating number_of_reviews  \\\n",
       "0  Bondi Beach   151.275 -33.8891                   95                53   \n",
       "\n",
       "  minimum_nights security_deposit cleaning_fee accommodates bathrooms  \\\n",
       "0              4             1500          370           10         3   \n",
       "\n",
       "  bedrooms beds property_type        room_type availability_365  \\\n",
       "0        5    7         House  Entire home/apt              255   \n",
       "\n",
       "  host_identity_verified host_is_superhost           host_since  \\\n",
       "0                      1                 1  2010-01-08 00:00:00   \n",
       "\n",
       "           cancellation_policy  \n",
       "0  strict_14_with_grace_period  "
      ]
     },
     "execution_count": 172,
     "metadata": {},
     "output_type": "execute_result"
    }
   ],
   "source": [
    "from dateutil import parser\n",
    "dict_client = {}\n",
    "\n",
    "dict_client[\"city\"] = \"Bondi Beach\"\n",
    "dict_client[\"longitude\"] = 151.274506\n",
    "dict_client[\"latitude\"] = -33.889087\n",
    "dict_client[\"review_scores_rating\"] = 95\n",
    "dict_client[\"number_of_reviews\"] = 53\n",
    "dict_client[\"minimum_nights\"] = 4\n",
    "dict_client[\"security_deposit\"] = 1500\n",
    "dict_client[\"cleaning_fee\"] = 370\n",
    "dict_client[\"accommodates\"] = 10\n",
    "dict_client[\"bathrooms\"] = 3\n",
    "dict_client[\"bedrooms\"] = 5\n",
    "dict_client[\"beds\"] = 7\n",
    "dict_client[\"property_type\"] = \"House\"\n",
    "dict_client[\"room_type\"] = \"Entire home/apt\"\n",
    "dict_client[\"availability_365\"] = 255\n",
    "dict_client[\"host_identity_verified\"] = '1'  ## 1 for yes, 0 for no\n",
    "dict_client[\"host_is_superhost\"] = '1'\n",
    "dict_client[\"host_since\"] = parser.parse(\"01-08-2010\")\n",
    "dict_client[\"cancellation_policy\"] = \"strict_14_with_grace_period\"\n",
    "\n",
    "df_client = pd.DataFrame.from_dict(dict_client, orient='index').T\n",
    "\n",
    "print(df_client.columns)\n",
    "df_client"
   ]
  },
  {
   "cell_type": "code",
   "execution_count": 173,
   "metadata": {},
   "outputs": [],
   "source": [
    "df_client = pipe(list(df_client.index)).transform(df_client)"
   ]
  },
  {
   "cell_type": "code",
   "execution_count": 174,
   "metadata": {},
   "outputs": [
    {
     "data": {
      "text/html": [
       "<div>\n",
       "<style scoped>\n",
       "    .dataframe tbody tr th:only-of-type {\n",
       "        vertical-align: middle;\n",
       "    }\n",
       "\n",
       "    .dataframe tbody tr th {\n",
       "        vertical-align: top;\n",
       "    }\n",
       "\n",
       "    .dataframe thead th {\n",
       "        text-align: right;\n",
       "    }\n",
       "</style>\n",
       "<table border=\"1\" class=\"dataframe\">\n",
       "  <thead>\n",
       "    <tr style=\"text-align: right;\">\n",
       "      <th></th>\n",
       "      <th>longitude</th>\n",
       "      <th>latitude</th>\n",
       "      <th>review_scores_rating</th>\n",
       "      <th>number_of_reviews</th>\n",
       "      <th>minimum_nights</th>\n",
       "      <th>security_deposit</th>\n",
       "      <th>cleaning_fee</th>\n",
       "      <th>accommodates</th>\n",
       "      <th>bathrooms</th>\n",
       "      <th>bedrooms</th>\n",
       "      <th>...</th>\n",
       "      <th>Serviced apartment</th>\n",
       "      <th>Townhouse</th>\n",
       "      <th>Villa</th>\n",
       "      <th>Entire home/apt</th>\n",
       "      <th>Private room</th>\n",
       "      <th>Shared room</th>\n",
       "      <th>flexible</th>\n",
       "      <th>moderate</th>\n",
       "      <th>strict_14_with_grace_period</th>\n",
       "      <th>super_strict_60</th>\n",
       "    </tr>\n",
       "  </thead>\n",
       "  <tbody>\n",
       "    <tr>\n",
       "      <th>0</th>\n",
       "      <td>0.851126</td>\n",
       "      <td>-0.25964</td>\n",
       "      <td>0.196238</td>\n",
       "      <td>0.868259</td>\n",
       "      <td>-0.022353</td>\n",
       "      <td>2.43788</td>\n",
       "      <td>4.200801</td>\n",
       "      <td>3.666618</td>\n",
       "      <td>3.585665</td>\n",
       "      <td>4.031346</td>\n",
       "      <td>...</td>\n",
       "      <td>0.0</td>\n",
       "      <td>0.0</td>\n",
       "      <td>0.0</td>\n",
       "      <td>1.0</td>\n",
       "      <td>0.0</td>\n",
       "      <td>0.0</td>\n",
       "      <td>0.0</td>\n",
       "      <td>0.0</td>\n",
       "      <td>1.0</td>\n",
       "      <td>0.0</td>\n",
       "    </tr>\n",
       "  </tbody>\n",
       "</table>\n",
       "<p>1 rows × 46 columns</p>\n",
       "</div>"
      ],
      "text/plain": [
       "   longitude  latitude  review_scores_rating  number_of_reviews  \\\n",
       "0   0.851126  -0.25964              0.196238           0.868259   \n",
       "\n",
       "   minimum_nights  security_deposit  cleaning_fee  accommodates  bathrooms  \\\n",
       "0       -0.022353           2.43788      4.200801      3.666618   3.585665   \n",
       "\n",
       "   bedrooms  ...  Serviced apartment  Townhouse  Villa  Entire home/apt  \\\n",
       "0  4.031346  ...                 0.0        0.0    0.0              1.0   \n",
       "\n",
       "   Private room  Shared room  flexible  moderate  strict_14_with_grace_period  \\\n",
       "0           0.0          0.0       0.0       0.0                          1.0   \n",
       "\n",
       "   super_strict_60  \n",
       "0              0.0  \n",
       "\n",
       "[1 rows x 46 columns]"
      ]
     },
     "execution_count": 174,
     "metadata": {},
     "output_type": "execute_result"
    }
   ],
   "source": [
    "df_client"
   ]
  },
  {
   "cell_type": "code",
   "execution_count": 175,
   "metadata": {},
   "outputs": [
    {
     "name": "stdout",
     "output_type": "stream",
     "text": [
      "\u001b[1;31m773.4333333333333\u001b[0m\n",
      "\u001b[1;31m-500\u001b[0m\n",
      "\u001b[1;31m= 273.4333333333333\u001b[0m\n"
     ]
    }
   ],
   "source": [
    "client_pred = final_model.predict(df_client)\n",
    "### Client should be charging about ~$280 more. \n",
    "print('\\x1b[1;31m'+str(client_pred[0])+'\\x1b[0m')\n",
    "print('\\x1b[1;31m'+str(-500)+'\\x1b[0m')\n",
    "print('\\x1b[1;31m'+\"= \"+str(client_pred[0]-500)+'\\x1b[0m')"
   ]
  }
 ],
 "metadata": {
  "kernelspec": {
   "display_name": "Python 3",
   "language": "python",
   "name": "python3"
  },
  "language_info": {
   "codemirror_mode": {
    "name": "ipython",
    "version": 3
   },
   "file_extension": ".py",
   "mimetype": "text/x-python",
   "name": "python",
   "nbconvert_exporter": "python",
   "pygments_lexer": "ipython3",
   "version": "3.7.1"
  }
 },
 "nbformat": 4,
 "nbformat_minor": 2
}
